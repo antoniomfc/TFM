{
 "cells": [
  {
   "cell_type": "markdown",
   "metadata": {},
   "source": [
    "# Aprendizaje no supervisado\n",
    "\n",
    "En este notebook se pretende generar un modelo de aprendizaje no supervisado en el cual se agruparán las películas del dataset de imdb."
   ]
  },
  {
   "cell_type": "code",
   "execution_count": 20,
   "metadata": {},
   "outputs": [
    {
     "name": "stdout",
     "output_type": "stream",
     "text": [
      "IMDb movies.csv        movies_new_columns.csv titles.tsv\r\n",
      "movies_clean.csv       ratings.tsv\r\n"
     ]
    }
   ],
   "source": [
    "!ls ./data"
   ]
  },
  {
   "cell_type": "code",
   "execution_count": 126,
   "metadata": {},
   "outputs": [],
   "source": [
    "import pandas as pd\n",
    "import numpy as np\n",
    "import matplotlib.pyplot as plt\n",
    "from sklearn.cluster import KMeans\n",
    "from sklearn.metrics import silhouette_score\n",
    "from sklearn.preprocessing import MinMaxScaler\n",
    "from joblib import dump, load\n",
    "\n",
    "%matplotlib inline"
   ]
  },
  {
   "cell_type": "code",
   "execution_count": 65,
   "metadata": {},
   "outputs": [],
   "source": [
    "# Importamos el dataset de películas que hemos creado en el notebook de exploración de los datos\n",
    "df = pd.read_csv('./data/movies_new_columns.csv')"
   ]
  },
  {
   "cell_type": "code",
   "execution_count": 66,
   "metadata": {},
   "outputs": [
    {
     "data": {
      "text/html": [
       "<div>\n",
       "<style scoped>\n",
       "    .dataframe tbody tr th:only-of-type {\n",
       "        vertical-align: middle;\n",
       "    }\n",
       "\n",
       "    .dataframe tbody tr th {\n",
       "        vertical-align: top;\n",
       "    }\n",
       "\n",
       "    .dataframe thead th {\n",
       "        text-align: right;\n",
       "    }\n",
       "</style>\n",
       "<table border=\"1\" class=\"dataframe\">\n",
       "  <thead>\n",
       "    <tr style=\"text-align: right;\">\n",
       "      <th></th>\n",
       "      <th>title</th>\n",
       "      <th>year</th>\n",
       "      <th>duration</th>\n",
       "      <th>country</th>\n",
       "      <th>description</th>\n",
       "      <th>avg_vote</th>\n",
       "      <th>votes</th>\n",
       "      <th>time</th>\n",
       "      <th>length</th>\n",
       "      <th>known</th>\n",
       "      <th>genre_1</th>\n",
       "      <th>genre_2</th>\n",
       "      <th>genre_3</th>\n",
       "    </tr>\n",
       "  </thead>\n",
       "  <tbody>\n",
       "    <tr>\n",
       "      <th>0</th>\n",
       "      <td>L'Inferno</td>\n",
       "      <td>1911</td>\n",
       "      <td>68</td>\n",
       "      <td>Italy</td>\n",
       "      <td>Loosely adapted from Dante's Divine Comedy and...</td>\n",
       "      <td>7.0</td>\n",
       "      <td>2237</td>\n",
       "      <td>Classic</td>\n",
       "      <td>Short</td>\n",
       "      <td>Unknown</td>\n",
       "      <td>Adventure</td>\n",
       "      <td>Drama</td>\n",
       "      <td>Fantasy</td>\n",
       "    </tr>\n",
       "    <tr>\n",
       "      <th>1</th>\n",
       "      <td>Fantômas - À l'ombre de la guillotine</td>\n",
       "      <td>1913</td>\n",
       "      <td>54</td>\n",
       "      <td>France</td>\n",
       "      <td>Inspector Juve is tasked to investigate and ca...</td>\n",
       "      <td>7.0</td>\n",
       "      <td>1944</td>\n",
       "      <td>Classic</td>\n",
       "      <td>Short</td>\n",
       "      <td>Unknown</td>\n",
       "      <td>Crime</td>\n",
       "      <td>Drama</td>\n",
       "      <td>Crime</td>\n",
       "    </tr>\n",
       "    <tr>\n",
       "      <th>2</th>\n",
       "      <td>Juve contre Fantômas</td>\n",
       "      <td>1913</td>\n",
       "      <td>61</td>\n",
       "      <td>France</td>\n",
       "      <td>In Part Two of Louis Feuillade's 5 1/2-hour ep...</td>\n",
       "      <td>7.0</td>\n",
       "      <td>1349</td>\n",
       "      <td>Classic</td>\n",
       "      <td>Short</td>\n",
       "      <td>Unknown</td>\n",
       "      <td>Crime</td>\n",
       "      <td>Drama</td>\n",
       "      <td>Crime</td>\n",
       "    </tr>\n",
       "    <tr>\n",
       "      <th>3</th>\n",
       "      <td>Le mort qui tue</td>\n",
       "      <td>1913</td>\n",
       "      <td>90</td>\n",
       "      <td>France</td>\n",
       "      <td>After a body disappears from inside the prison...</td>\n",
       "      <td>7.0</td>\n",
       "      <td>1050</td>\n",
       "      <td>Classic</td>\n",
       "      <td>Short</td>\n",
       "      <td>Unknown</td>\n",
       "      <td>Crime</td>\n",
       "      <td>Drama</td>\n",
       "      <td>Mystery</td>\n",
       "    </tr>\n",
       "    <tr>\n",
       "      <th>4</th>\n",
       "      <td>Lo studente di Praga</td>\n",
       "      <td>1913</td>\n",
       "      <td>85</td>\n",
       "      <td>Germany</td>\n",
       "      <td>Balduin, a student of Prague, leaves his royst...</td>\n",
       "      <td>6.5</td>\n",
       "      <td>1768</td>\n",
       "      <td>Classic</td>\n",
       "      <td>Short</td>\n",
       "      <td>Unknown</td>\n",
       "      <td>Drama</td>\n",
       "      <td>Fantasy</td>\n",
       "      <td>Horror</td>\n",
       "    </tr>\n",
       "  </tbody>\n",
       "</table>\n",
       "</div>"
      ],
      "text/plain": [
       "                                   title  year  duration  country  \\\n",
       "0                              L'Inferno  1911        68    Italy   \n",
       "1  Fantômas - À l'ombre de la guillotine  1913        54   France   \n",
       "2                   Juve contre Fantômas  1913        61   France   \n",
       "3                        Le mort qui tue  1913        90   France   \n",
       "4                   Lo studente di Praga  1913        85  Germany   \n",
       "\n",
       "                                         description  avg_vote  votes  \\\n",
       "0  Loosely adapted from Dante's Divine Comedy and...       7.0   2237   \n",
       "1  Inspector Juve is tasked to investigate and ca...       7.0   1944   \n",
       "2  In Part Two of Louis Feuillade's 5 1/2-hour ep...       7.0   1349   \n",
       "3  After a body disappears from inside the prison...       7.0   1050   \n",
       "4  Balduin, a student of Prague, leaves his royst...       6.5   1768   \n",
       "\n",
       "      time length    known    genre_1  genre_2  genre_3  \n",
       "0  Classic  Short  Unknown  Adventure    Drama  Fantasy  \n",
       "1  Classic  Short  Unknown      Crime    Drama    Crime  \n",
       "2  Classic  Short  Unknown      Crime    Drama    Crime  \n",
       "3  Classic  Short  Unknown      Crime    Drama  Mystery  \n",
       "4  Classic  Short  Unknown      Drama  Fantasy   Horror  "
      ]
     },
     "execution_count": 66,
     "metadata": {},
     "output_type": "execute_result"
    }
   ],
   "source": [
    "df.head()"
   ]
  },
  {
   "cell_type": "markdown",
   "metadata": {},
   "source": [
    "Si insertamos actualemten este dataset en un algoritmo de machine learning, para el algoritmo el valor Drama de la columna genre_1 es diferente al valor Drama de la columna genre_2, por lo tanto tenemos que crear una especie de OneHotEncoding manual en el cual se creará una nueva columna por cada género, es decir, genre_drama con valor 1 si esa película es de género drama y 0 en caso contrario."
   ]
  },
  {
   "cell_type": "code",
   "execution_count": 67,
   "metadata": {},
   "outputs": [],
   "source": [
    "genre = np.concatenate((df.genre_1.values, df.genre_2.values))"
   ]
  },
  {
   "cell_type": "code",
   "execution_count": 68,
   "metadata": {},
   "outputs": [],
   "source": [
    "genre = np.concatenate((genre, df.genre_3.values))"
   ]
  },
  {
   "cell_type": "code",
   "execution_count": 69,
   "metadata": {},
   "outputs": [
    {
     "data": {
      "text/plain": [
       "array(['Action', 'Adult', 'Adventure', 'Animation', 'Biography', 'Comedy',\n",
       "       'Crime', 'Documentary', 'Drama', 'Family', 'Fantasy', 'Film-Noir',\n",
       "       'History', 'Horror', 'Music', 'Musical', 'Mystery', 'Romance',\n",
       "       'Sci-Fi', 'Sport', 'Thriller', 'War', 'Western'], dtype=object)"
      ]
     },
     "execution_count": 69,
     "metadata": {},
     "output_type": "execute_result"
    }
   ],
   "source": [
    "np.unique(genre)"
   ]
  },
  {
   "cell_type": "markdown",
   "metadata": {},
   "source": [
    "Ya podemos sacar los valores únicos del género, por lo que procedemos a crear nuestro OneHotEncoder de géneros"
   ]
  },
  {
   "cell_type": "code",
   "execution_count": 70,
   "metadata": {},
   "outputs": [],
   "source": [
    "for g in np.unique(genre):\n",
    "    base = 'genre_' + g.lower()\n",
    "    df[base] = 0\n",
    "    \n",
    "    for index, row in df.iterrows():\n",
    "        df.loc[index, base] = 1 if df.loc[index, 'genre_1'] == g else df.loc[index, base]\n",
    "        df.loc[index, base] = 1 if df.loc[index, 'genre_2'] == g else df.loc[index, base]\n",
    "        df.loc[index, base] = 1 if df.loc[index, 'genre_3'] == g else df.loc[index, base]\n",
    "        "
   ]
  },
  {
   "cell_type": "code",
   "execution_count": 71,
   "metadata": {},
   "outputs": [
    {
     "data": {
      "text/plain": [
       "Index(['title', 'year', 'duration', 'country', 'description', 'avg_vote',\n",
       "       'votes', 'time', 'length', 'known', 'genre_1', 'genre_2', 'genre_3',\n",
       "       'genre_action', 'genre_adult', 'genre_adventure', 'genre_animation',\n",
       "       'genre_biography', 'genre_comedy', 'genre_crime', 'genre_documentary',\n",
       "       'genre_drama', 'genre_family', 'genre_fantasy', 'genre_film-noir',\n",
       "       'genre_history', 'genre_horror', 'genre_music', 'genre_musical',\n",
       "       'genre_mystery', 'genre_romance', 'genre_sci-fi', 'genre_sport',\n",
       "       'genre_thriller', 'genre_war', 'genre_western'],\n",
       "      dtype='object')"
      ]
     },
     "execution_count": 71,
     "metadata": {},
     "output_type": "execute_result"
    }
   ],
   "source": [
    "df.columns"
   ]
  },
  {
   "cell_type": "code",
   "execution_count": 72,
   "metadata": {},
   "outputs": [
    {
     "data": {
      "text/html": [
       "<div>\n",
       "<style scoped>\n",
       "    .dataframe tbody tr th:only-of-type {\n",
       "        vertical-align: middle;\n",
       "    }\n",
       "\n",
       "    .dataframe tbody tr th {\n",
       "        vertical-align: top;\n",
       "    }\n",
       "\n",
       "    .dataframe thead th {\n",
       "        text-align: right;\n",
       "    }\n",
       "</style>\n",
       "<table border=\"1\" class=\"dataframe\">\n",
       "  <thead>\n",
       "    <tr style=\"text-align: right;\">\n",
       "      <th></th>\n",
       "      <th>genre_fantasy</th>\n",
       "      <th>genre_drama</th>\n",
       "      <th>genre_3</th>\n",
       "      <th>genre_2</th>\n",
       "      <th>genre_1</th>\n",
       "    </tr>\n",
       "  </thead>\n",
       "  <tbody>\n",
       "    <tr>\n",
       "      <th>0</th>\n",
       "      <td>1</td>\n",
       "      <td>1</td>\n",
       "      <td>Fantasy</td>\n",
       "      <td>Drama</td>\n",
       "      <td>Adventure</td>\n",
       "    </tr>\n",
       "    <tr>\n",
       "      <th>1</th>\n",
       "      <td>0</td>\n",
       "      <td>1</td>\n",
       "      <td>Crime</td>\n",
       "      <td>Drama</td>\n",
       "      <td>Crime</td>\n",
       "    </tr>\n",
       "  </tbody>\n",
       "</table>\n",
       "</div>"
      ],
      "text/plain": [
       "   genre_fantasy  genre_drama  genre_3 genre_2    genre_1\n",
       "0              1            1  Fantasy   Drama  Adventure\n",
       "1              0            1    Crime   Drama      Crime"
      ]
     },
     "execution_count": 72,
     "metadata": {},
     "output_type": "execute_result"
    }
   ],
   "source": [
    "df[['genre_fantasy', 'genre_drama', 'genre_3', 'genre_2', 'genre_1']].head(2)"
   ]
  },
  {
   "cell_type": "code",
   "execution_count": 73,
   "metadata": {},
   "outputs": [],
   "source": [
    "# Una vez tenemos nuestro OnehotEncoding personalizado, borramos las columnas genre_1, genre_2 y genre_3\n",
    "df = df.drop(['genre_1', 'genre_2', 'genre_3'], axis=1)"
   ]
  },
  {
   "cell_type": "code",
   "execution_count": 74,
   "metadata": {},
   "outputs": [
    {
     "data": {
      "text/plain": [
       "Index(['title', 'year', 'duration', 'country', 'description', 'avg_vote',\n",
       "       'votes', 'time', 'length', 'known', 'genre_action', 'genre_adult',\n",
       "       'genre_adventure', 'genre_animation', 'genre_biography', 'genre_comedy',\n",
       "       'genre_crime', 'genre_documentary', 'genre_drama', 'genre_family',\n",
       "       'genre_fantasy', 'genre_film-noir', 'genre_history', 'genre_horror',\n",
       "       'genre_music', 'genre_musical', 'genre_mystery', 'genre_romance',\n",
       "       'genre_sci-fi', 'genre_sport', 'genre_thriller', 'genre_war',\n",
       "       'genre_western'],\n",
       "      dtype='object')"
      ]
     },
     "execution_count": 74,
     "metadata": {},
     "output_type": "execute_result"
    }
   ],
   "source": [
    "df.columns"
   ]
  },
  {
   "cell_type": "markdown",
   "metadata": {},
   "source": [
    "Para el algoritmo de kmeans no usaremos title, description, duration, year, country, avg_vote, votes"
   ]
  },
  {
   "cell_type": "code",
   "execution_count": 75,
   "metadata": {},
   "outputs": [],
   "source": [
    "df_transformed = df.drop(['title', 'description', 'duration', 'year', 'country', 'avg_vote', 'votes'], axis=1)"
   ]
  },
  {
   "cell_type": "code",
   "execution_count": 76,
   "metadata": {},
   "outputs": [
    {
     "data": {
      "text/html": [
       "<div>\n",
       "<style scoped>\n",
       "    .dataframe tbody tr th:only-of-type {\n",
       "        vertical-align: middle;\n",
       "    }\n",
       "\n",
       "    .dataframe tbody tr th {\n",
       "        vertical-align: top;\n",
       "    }\n",
       "\n",
       "    .dataframe thead th {\n",
       "        text-align: right;\n",
       "    }\n",
       "</style>\n",
       "<table border=\"1\" class=\"dataframe\">\n",
       "  <thead>\n",
       "    <tr style=\"text-align: right;\">\n",
       "      <th></th>\n",
       "      <th>time</th>\n",
       "      <th>length</th>\n",
       "      <th>known</th>\n",
       "      <th>genre_action</th>\n",
       "      <th>genre_adult</th>\n",
       "      <th>genre_adventure</th>\n",
       "      <th>genre_animation</th>\n",
       "      <th>genre_biography</th>\n",
       "      <th>genre_comedy</th>\n",
       "      <th>genre_crime</th>\n",
       "      <th>...</th>\n",
       "      <th>genre_horror</th>\n",
       "      <th>genre_music</th>\n",
       "      <th>genre_musical</th>\n",
       "      <th>genre_mystery</th>\n",
       "      <th>genre_romance</th>\n",
       "      <th>genre_sci-fi</th>\n",
       "      <th>genre_sport</th>\n",
       "      <th>genre_thriller</th>\n",
       "      <th>genre_war</th>\n",
       "      <th>genre_western</th>\n",
       "    </tr>\n",
       "  </thead>\n",
       "  <tbody>\n",
       "    <tr>\n",
       "      <th>0</th>\n",
       "      <td>Classic</td>\n",
       "      <td>Short</td>\n",
       "      <td>Unknown</td>\n",
       "      <td>0</td>\n",
       "      <td>0</td>\n",
       "      <td>1</td>\n",
       "      <td>0</td>\n",
       "      <td>0</td>\n",
       "      <td>0</td>\n",
       "      <td>0</td>\n",
       "      <td>...</td>\n",
       "      <td>0</td>\n",
       "      <td>0</td>\n",
       "      <td>0</td>\n",
       "      <td>0</td>\n",
       "      <td>0</td>\n",
       "      <td>0</td>\n",
       "      <td>0</td>\n",
       "      <td>0</td>\n",
       "      <td>0</td>\n",
       "      <td>0</td>\n",
       "    </tr>\n",
       "    <tr>\n",
       "      <th>1</th>\n",
       "      <td>Classic</td>\n",
       "      <td>Short</td>\n",
       "      <td>Unknown</td>\n",
       "      <td>0</td>\n",
       "      <td>0</td>\n",
       "      <td>0</td>\n",
       "      <td>0</td>\n",
       "      <td>0</td>\n",
       "      <td>0</td>\n",
       "      <td>1</td>\n",
       "      <td>...</td>\n",
       "      <td>0</td>\n",
       "      <td>0</td>\n",
       "      <td>0</td>\n",
       "      <td>0</td>\n",
       "      <td>0</td>\n",
       "      <td>0</td>\n",
       "      <td>0</td>\n",
       "      <td>0</td>\n",
       "      <td>0</td>\n",
       "      <td>0</td>\n",
       "    </tr>\n",
       "    <tr>\n",
       "      <th>2</th>\n",
       "      <td>Classic</td>\n",
       "      <td>Short</td>\n",
       "      <td>Unknown</td>\n",
       "      <td>0</td>\n",
       "      <td>0</td>\n",
       "      <td>0</td>\n",
       "      <td>0</td>\n",
       "      <td>0</td>\n",
       "      <td>0</td>\n",
       "      <td>1</td>\n",
       "      <td>...</td>\n",
       "      <td>0</td>\n",
       "      <td>0</td>\n",
       "      <td>0</td>\n",
       "      <td>0</td>\n",
       "      <td>0</td>\n",
       "      <td>0</td>\n",
       "      <td>0</td>\n",
       "      <td>0</td>\n",
       "      <td>0</td>\n",
       "      <td>0</td>\n",
       "    </tr>\n",
       "    <tr>\n",
       "      <th>3</th>\n",
       "      <td>Classic</td>\n",
       "      <td>Short</td>\n",
       "      <td>Unknown</td>\n",
       "      <td>0</td>\n",
       "      <td>0</td>\n",
       "      <td>0</td>\n",
       "      <td>0</td>\n",
       "      <td>0</td>\n",
       "      <td>0</td>\n",
       "      <td>1</td>\n",
       "      <td>...</td>\n",
       "      <td>0</td>\n",
       "      <td>0</td>\n",
       "      <td>0</td>\n",
       "      <td>1</td>\n",
       "      <td>0</td>\n",
       "      <td>0</td>\n",
       "      <td>0</td>\n",
       "      <td>0</td>\n",
       "      <td>0</td>\n",
       "      <td>0</td>\n",
       "    </tr>\n",
       "    <tr>\n",
       "      <th>4</th>\n",
       "      <td>Classic</td>\n",
       "      <td>Short</td>\n",
       "      <td>Unknown</td>\n",
       "      <td>0</td>\n",
       "      <td>0</td>\n",
       "      <td>0</td>\n",
       "      <td>0</td>\n",
       "      <td>0</td>\n",
       "      <td>0</td>\n",
       "      <td>0</td>\n",
       "      <td>...</td>\n",
       "      <td>1</td>\n",
       "      <td>0</td>\n",
       "      <td>0</td>\n",
       "      <td>0</td>\n",
       "      <td>0</td>\n",
       "      <td>0</td>\n",
       "      <td>0</td>\n",
       "      <td>0</td>\n",
       "      <td>0</td>\n",
       "      <td>0</td>\n",
       "    </tr>\n",
       "  </tbody>\n",
       "</table>\n",
       "<p>5 rows × 26 columns</p>\n",
       "</div>"
      ],
      "text/plain": [
       "      time length    known  genre_action  genre_adult  genre_adventure  \\\n",
       "0  Classic  Short  Unknown             0            0                1   \n",
       "1  Classic  Short  Unknown             0            0                0   \n",
       "2  Classic  Short  Unknown             0            0                0   \n",
       "3  Classic  Short  Unknown             0            0                0   \n",
       "4  Classic  Short  Unknown             0            0                0   \n",
       "\n",
       "   genre_animation  genre_biography  genre_comedy  genre_crime  ...  \\\n",
       "0                0                0             0            0  ...   \n",
       "1                0                0             0            1  ...   \n",
       "2                0                0             0            1  ...   \n",
       "3                0                0             0            1  ...   \n",
       "4                0                0             0            0  ...   \n",
       "\n",
       "   genre_horror  genre_music  genre_musical  genre_mystery  genre_romance  \\\n",
       "0             0            0              0              0              0   \n",
       "1             0            0              0              0              0   \n",
       "2             0            0              0              0              0   \n",
       "3             0            0              0              1              0   \n",
       "4             1            0              0              0              0   \n",
       "\n",
       "   genre_sci-fi  genre_sport  genre_thriller  genre_war  genre_western  \n",
       "0             0            0               0          0              0  \n",
       "1             0            0               0          0              0  \n",
       "2             0            0               0          0              0  \n",
       "3             0            0               0          0              0  \n",
       "4             0            0               0          0              0  \n",
       "\n",
       "[5 rows x 26 columns]"
      ]
     },
     "execution_count": 76,
     "metadata": {},
     "output_type": "execute_result"
    }
   ],
   "source": [
    "df_transformed.head()"
   ]
  },
  {
   "cell_type": "code",
   "execution_count": 77,
   "metadata": {},
   "outputs": [],
   "source": [
    "# Utilizamos OnehotEncoding con get_dummies de pandas\n",
    "df_transformed = pd.get_dummies(df_transformed)"
   ]
  },
  {
   "cell_type": "code",
   "execution_count": 78,
   "metadata": {},
   "outputs": [
    {
     "name": "stdout",
     "output_type": "stream",
     "text": [
      "<class 'pandas.core.frame.DataFrame'>\n",
      "RangeIndex: 29374 entries, 0 to 29373\n",
      "Data columns (total 32 columns):\n",
      " #   Column             Non-Null Count  Dtype\n",
      "---  ------             --------------  -----\n",
      " 0   genre_action       29374 non-null  int64\n",
      " 1   genre_adult        29374 non-null  int64\n",
      " 2   genre_adventure    29374 non-null  int64\n",
      " 3   genre_animation    29374 non-null  int64\n",
      " 4   genre_biography    29374 non-null  int64\n",
      " 5   genre_comedy       29374 non-null  int64\n",
      " 6   genre_crime        29374 non-null  int64\n",
      " 7   genre_documentary  29374 non-null  int64\n",
      " 8   genre_drama        29374 non-null  int64\n",
      " 9   genre_family       29374 non-null  int64\n",
      " 10  genre_fantasy      29374 non-null  int64\n",
      " 11  genre_film-noir    29374 non-null  int64\n",
      " 12  genre_history      29374 non-null  int64\n",
      " 13  genre_horror       29374 non-null  int64\n",
      " 14  genre_music        29374 non-null  int64\n",
      " 15  genre_musical      29374 non-null  int64\n",
      " 16  genre_mystery      29374 non-null  int64\n",
      " 17  genre_romance      29374 non-null  int64\n",
      " 18  genre_sci-fi       29374 non-null  int64\n",
      " 19  genre_sport        29374 non-null  int64\n",
      " 20  genre_thriller     29374 non-null  int64\n",
      " 21  genre_war          29374 non-null  int64\n",
      " 22  genre_western      29374 non-null  int64\n",
      " 23  time_Classic       29374 non-null  uint8\n",
      " 24  time_Current       29374 non-null  uint8\n",
      " 25  time_Middle        29374 non-null  uint8\n",
      " 26  length_Long        29374 non-null  uint8\n",
      " 27  length_Normal      29374 non-null  uint8\n",
      " 28  length_Short       29374 non-null  uint8\n",
      " 29  known_Known        29374 non-null  uint8\n",
      " 30  known_Normal       29374 non-null  uint8\n",
      " 31  known_Unknown      29374 non-null  uint8\n",
      "dtypes: int64(23), uint8(9)\n",
      "memory usage: 5.4 MB\n"
     ]
    }
   ],
   "source": [
    "df_transformed.info()"
   ]
  },
  {
   "cell_type": "code",
   "execution_count": 79,
   "metadata": {},
   "outputs": [],
   "source": [
    "# Una vez que tenemos todos los datos de tipo numérico, vamos a normalizarlos, es decir, darles valor entre 0 y 1\n",
    "mms = MinMaxScaler()\n",
    "df_transformed = mms.fit_transform(df_transformed)"
   ]
  },
  {
   "cell_type": "code",
   "execution_count": 80,
   "metadata": {},
   "outputs": [
    {
     "data": {
      "text/plain": [
       "(1.0, 0.0)"
      ]
     },
     "execution_count": 80,
     "metadata": {},
     "output_type": "execute_result"
    }
   ],
   "source": [
    "df_transformed.max(), df_transformed.min()"
   ]
  },
  {
   "cell_type": "markdown",
   "metadata": {},
   "source": [
    "Ya tenemos los datos limpios y normalizados, ahora vamos a comprobar cuál sería el número de clusters (k) ideal para nuestro modelo. Esto lo hacemos con la función [silhouette_score](https://scikit-learn.org/stable/modules/generated/sklearn.metrics.silhouette_score.html?highlight=silhouette_score#sklearn.metrics.silhouette_score) de sklearn."
   ]
  },
  {
   "cell_type": "code",
   "execution_count": 114,
   "metadata": {},
   "outputs": [],
   "source": [
    "# Uso de silhouette para obtener el mejor número de clusters en función de nuestros datos\n",
    "score_silhouette = list()\n",
    "\n",
    "K = np.arange(400, 500, 20)\n",
    "for k in K:\n",
    "    km = KMeans(n_clusters=k, n_init=30, random_state=2, init='k-means++', max_iter=500)\n",
    "    km = km.fit(df_transformed)\n",
    "    score_silhouette.append(silhouette_score(df_transformed, km.labels_))"
   ]
  },
  {
   "cell_type": "code",
   "execution_count": 115,
   "metadata": {},
   "outputs": [
    {
     "data": {
      "image/png": "[encoded data removed]",
      "text/plain": [
       "<Figure size 432x288 with 1 Axes>"
      ]
     },
     "metadata": {
      "needs_background": "light"
     },
     "output_type": "display_data"
    }
   ],
   "source": [
    "plt.plot(K, score_silhouette, 'bx-')\n",
    "plt.xlabel('k')\n",
    "plt.ylabel('score_silhoueete')\n",
    "plt.xticks(K)\n",
    "plt.title('silhouette score')\n",
    "plt.show()"
   ]
  },
  {
   "cell_type": "markdown",
   "metadata": {},
   "source": [
    "Una vez que hemos comprobado el número de cluster que mejor se comporta con nuestros datos, vamos a crear un modelo kmeans con k = 500"
   ]
  },
  {
   "cell_type": "code",
   "execution_count": 116,
   "metadata": {},
   "outputs": [],
   "source": [
    "# Obtenemos nuestro modelo con kmeans\n",
    "k=500\n",
    "kmeans = KMeans(n_clusters=k, random_state=2, n_init=100, init='k-means++', max_iter=1000).fit(df_transformed)\n",
    "labels = kmeans.labels_"
   ]
  },
  {
   "cell_type": "code",
   "execution_count": 117,
   "metadata": {},
   "outputs": [
    {
     "data": {
      "text/plain": [
       "array([381, 107, 107, ..., 143, 279, 102], dtype=int32)"
      ]
     },
     "execution_count": 117,
     "metadata": {},
     "output_type": "execute_result"
    }
   ],
   "source": [
    "labels"
   ]
  },
  {
   "cell_type": "code",
   "execution_count": 118,
   "metadata": {},
   "outputs": [
    {
     "data": {
      "text/plain": [
       "29374"
      ]
     },
     "execution_count": 118,
     "metadata": {},
     "output_type": "execute_result"
    }
   ],
   "source": [
    "len(labels)"
   ]
  },
  {
   "cell_type": "code",
   "execution_count": 119,
   "metadata": {},
   "outputs": [],
   "source": [
    "df['labels'] = labels"
   ]
  },
  {
   "cell_type": "code",
   "execution_count": 120,
   "metadata": {},
   "outputs": [
    {
     "data": {
      "text/html": [
       "<div>\n",
       "<style scoped>\n",
       "    .dataframe tbody tr th:only-of-type {\n",
       "        vertical-align: middle;\n",
       "    }\n",
       "\n",
       "    .dataframe tbody tr th {\n",
       "        vertical-align: top;\n",
       "    }\n",
       "\n",
       "    .dataframe thead th {\n",
       "        text-align: right;\n",
       "    }\n",
       "</style>\n",
       "<table border=\"1\" class=\"dataframe\">\n",
       "  <thead>\n",
       "    <tr style=\"text-align: right;\">\n",
       "      <th></th>\n",
       "      <th>title</th>\n",
       "      <th>year</th>\n",
       "      <th>duration</th>\n",
       "      <th>country</th>\n",
       "      <th>description</th>\n",
       "      <th>avg_vote</th>\n",
       "      <th>votes</th>\n",
       "      <th>time</th>\n",
       "      <th>length</th>\n",
       "      <th>known</th>\n",
       "      <th>...</th>\n",
       "      <th>genre_music</th>\n",
       "      <th>genre_musical</th>\n",
       "      <th>genre_mystery</th>\n",
       "      <th>genre_romance</th>\n",
       "      <th>genre_sci-fi</th>\n",
       "      <th>genre_sport</th>\n",
       "      <th>genre_thriller</th>\n",
       "      <th>genre_war</th>\n",
       "      <th>genre_western</th>\n",
       "      <th>labels</th>\n",
       "    </tr>\n",
       "  </thead>\n",
       "  <tbody>\n",
       "    <tr>\n",
       "      <th>0</th>\n",
       "      <td>L'Inferno</td>\n",
       "      <td>1911</td>\n",
       "      <td>68</td>\n",
       "      <td>Italy</td>\n",
       "      <td>Loosely adapted from Dante's Divine Comedy and...</td>\n",
       "      <td>7.0</td>\n",
       "      <td>2237</td>\n",
       "      <td>Classic</td>\n",
       "      <td>Short</td>\n",
       "      <td>Unknown</td>\n",
       "      <td>...</td>\n",
       "      <td>0</td>\n",
       "      <td>0</td>\n",
       "      <td>0</td>\n",
       "      <td>0</td>\n",
       "      <td>0</td>\n",
       "      <td>0</td>\n",
       "      <td>0</td>\n",
       "      <td>0</td>\n",
       "      <td>0</td>\n",
       "      <td>381</td>\n",
       "    </tr>\n",
       "    <tr>\n",
       "      <th>1</th>\n",
       "      <td>Fantômas - À l'ombre de la guillotine</td>\n",
       "      <td>1913</td>\n",
       "      <td>54</td>\n",
       "      <td>France</td>\n",
       "      <td>Inspector Juve is tasked to investigate and ca...</td>\n",
       "      <td>7.0</td>\n",
       "      <td>1944</td>\n",
       "      <td>Classic</td>\n",
       "      <td>Short</td>\n",
       "      <td>Unknown</td>\n",
       "      <td>...</td>\n",
       "      <td>0</td>\n",
       "      <td>0</td>\n",
       "      <td>0</td>\n",
       "      <td>0</td>\n",
       "      <td>0</td>\n",
       "      <td>0</td>\n",
       "      <td>0</td>\n",
       "      <td>0</td>\n",
       "      <td>0</td>\n",
       "      <td>107</td>\n",
       "    </tr>\n",
       "    <tr>\n",
       "      <th>2</th>\n",
       "      <td>Juve contre Fantômas</td>\n",
       "      <td>1913</td>\n",
       "      <td>61</td>\n",
       "      <td>France</td>\n",
       "      <td>In Part Two of Louis Feuillade's 5 1/2-hour ep...</td>\n",
       "      <td>7.0</td>\n",
       "      <td>1349</td>\n",
       "      <td>Classic</td>\n",
       "      <td>Short</td>\n",
       "      <td>Unknown</td>\n",
       "      <td>...</td>\n",
       "      <td>0</td>\n",
       "      <td>0</td>\n",
       "      <td>0</td>\n",
       "      <td>0</td>\n",
       "      <td>0</td>\n",
       "      <td>0</td>\n",
       "      <td>0</td>\n",
       "      <td>0</td>\n",
       "      <td>0</td>\n",
       "      <td>107</td>\n",
       "    </tr>\n",
       "    <tr>\n",
       "      <th>3</th>\n",
       "      <td>Le mort qui tue</td>\n",
       "      <td>1913</td>\n",
       "      <td>90</td>\n",
       "      <td>France</td>\n",
       "      <td>After a body disappears from inside the prison...</td>\n",
       "      <td>7.0</td>\n",
       "      <td>1050</td>\n",
       "      <td>Classic</td>\n",
       "      <td>Short</td>\n",
       "      <td>Unknown</td>\n",
       "      <td>...</td>\n",
       "      <td>0</td>\n",
       "      <td>0</td>\n",
       "      <td>1</td>\n",
       "      <td>0</td>\n",
       "      <td>0</td>\n",
       "      <td>0</td>\n",
       "      <td>0</td>\n",
       "      <td>0</td>\n",
       "      <td>0</td>\n",
       "      <td>107</td>\n",
       "    </tr>\n",
       "    <tr>\n",
       "      <th>4</th>\n",
       "      <td>Lo studente di Praga</td>\n",
       "      <td>1913</td>\n",
       "      <td>85</td>\n",
       "      <td>Germany</td>\n",
       "      <td>Balduin, a student of Prague, leaves his royst...</td>\n",
       "      <td>6.5</td>\n",
       "      <td>1768</td>\n",
       "      <td>Classic</td>\n",
       "      <td>Short</td>\n",
       "      <td>Unknown</td>\n",
       "      <td>...</td>\n",
       "      <td>0</td>\n",
       "      <td>0</td>\n",
       "      <td>0</td>\n",
       "      <td>0</td>\n",
       "      <td>0</td>\n",
       "      <td>0</td>\n",
       "      <td>0</td>\n",
       "      <td>0</td>\n",
       "      <td>0</td>\n",
       "      <td>20</td>\n",
       "    </tr>\n",
       "  </tbody>\n",
       "</table>\n",
       "<p>5 rows × 34 columns</p>\n",
       "</div>"
      ],
      "text/plain": [
       "                                   title  year  duration  country  \\\n",
       "0                              L'Inferno  1911        68    Italy   \n",
       "1  Fantômas - À l'ombre de la guillotine  1913        54   France   \n",
       "2                   Juve contre Fantômas  1913        61   France   \n",
       "3                        Le mort qui tue  1913        90   France   \n",
       "4                   Lo studente di Praga  1913        85  Germany   \n",
       "\n",
       "                                         description  avg_vote  votes  \\\n",
       "0  Loosely adapted from Dante's Divine Comedy and...       7.0   2237   \n",
       "1  Inspector Juve is tasked to investigate and ca...       7.0   1944   \n",
       "2  In Part Two of Louis Feuillade's 5 1/2-hour ep...       7.0   1349   \n",
       "3  After a body disappears from inside the prison...       7.0   1050   \n",
       "4  Balduin, a student of Prague, leaves his royst...       6.5   1768   \n",
       "\n",
       "      time length    known  ...  genre_music  genre_musical  genre_mystery  \\\n",
       "0  Classic  Short  Unknown  ...            0              0              0   \n",
       "1  Classic  Short  Unknown  ...            0              0              0   \n",
       "2  Classic  Short  Unknown  ...            0              0              0   \n",
       "3  Classic  Short  Unknown  ...            0              0              1   \n",
       "4  Classic  Short  Unknown  ...            0              0              0   \n",
       "\n",
       "   genre_romance  genre_sci-fi  genre_sport  genre_thriller  genre_war  \\\n",
       "0              0             0            0               0          0   \n",
       "1              0             0            0               0          0   \n",
       "2              0             0            0               0          0   \n",
       "3              0             0            0               0          0   \n",
       "4              0             0            0               0          0   \n",
       "\n",
       "   genre_western  labels  \n",
       "0              0     381  \n",
       "1              0     107  \n",
       "2              0     107  \n",
       "3              0     107  \n",
       "4              0      20  \n",
       "\n",
       "[5 rows x 34 columns]"
      ]
     },
     "execution_count": 120,
     "metadata": {},
     "output_type": "execute_result"
    }
   ],
   "source": [
    "df.head()"
   ]
  },
  {
   "cell_type": "code",
   "execution_count": 121,
   "metadata": {},
   "outputs": [
    {
     "data": {
      "text/plain": [
       "(1, 32)"
      ]
     },
     "execution_count": 121,
     "metadata": {},
     "output_type": "execute_result"
    }
   ],
   "source": [
    "test = df_transformed[0].reshape(1, -1)\n",
    "test.shape"
   ]
  },
  {
   "cell_type": "code",
   "execution_count": 122,
   "metadata": {},
   "outputs": [
    {
     "data": {
      "text/plain": [
       "array([381], dtype=int32)"
      ]
     },
     "execution_count": 122,
     "metadata": {},
     "output_type": "execute_result"
    }
   ],
   "source": [
    "kmeans.predict(test)"
   ]
  },
  {
   "cell_type": "code",
   "execution_count": 123,
   "metadata": {},
   "outputs": [
    {
     "data": {
      "text/plain": [
       "381"
      ]
     },
     "execution_count": 123,
     "metadata": {},
     "output_type": "execute_result"
    }
   ],
   "source": [
    "df.loc[0, 'labels']"
   ]
  },
  {
   "cell_type": "code",
   "execution_count": 124,
   "metadata": {
    "scrolled": true
   },
   "outputs": [
    {
     "data": {
      "text/plain": [
       "4      635\n",
       "51     456\n",
       "61     426\n",
       "48     351\n",
       "79     330\n",
       "      ... \n",
       "440      7\n",
       "256      7\n",
       "346      6\n",
       "87       5\n",
       "485      3\n",
       "Name: labels, Length: 500, dtype: int64"
      ]
     },
     "execution_count": 124,
     "metadata": {},
     "output_type": "execute_result"
    }
   ],
   "source": [
    "df.labels.value_counts()"
   ]
  },
  {
   "cell_type": "code",
   "execution_count": 125,
   "metadata": {},
   "outputs": [],
   "source": [
    "df.to_csv('./data/movies_labels.csv', index=False, header=True)"
   ]
  },
  {
   "cell_type": "markdown",
   "metadata": {},
   "source": [
    "#### Almacenamos el modelo\n",
    "\n",
    "Una vez que ya tenemos el modelo entrenado, hay que guardarlo para usarlo en el futuro. Uso de la librería joblib"
   ]
  },
  {
   "cell_type": "code",
   "execution_count": 127,
   "metadata": {},
   "outputs": [
    {
     "data": {
      "text/plain": [
       "['./Models/kmeans-films.joblib']"
      ]
     },
     "execution_count": 127,
     "metadata": {},
     "output_type": "execute_result"
    }
   ],
   "source": [
    "dump(kmeans, './Models/kmeans-films.joblib')"
   ]
  },
  {
   "cell_type": "code",
   "execution_count": 128,
   "metadata": {},
   "outputs": [
    {
     "name": "stdout",
     "output_type": "stream",
     "text": [
      "kmeans-films.joblib\r\n"
     ]
    }
   ],
   "source": [
    "!ls ./Models"
   ]
  },
  {
   "cell_type": "code",
   "execution_count": 129,
   "metadata": {},
   "outputs": [],
   "source": [
    "# Compruebo que se ha guardado bien el modelo\n",
    "kmeans = load('./Models/kmeans-films.joblib')"
   ]
  },
  {
   "cell_type": "code",
   "execution_count": 130,
   "metadata": {},
   "outputs": [
    {
     "data": {
      "text/plain": [
       "array([381], dtype=int32)"
      ]
     },
     "execution_count": 130,
     "metadata": {},
     "output_type": "execute_result"
    }
   ],
   "source": [
    "kmeans.predict(test)"
   ]
  },
  {
   "cell_type": "code",
   "execution_count": null,
   "metadata": {},
   "outputs": [],
   "source": []
  }
 ],
 "metadata": {
  "kernelspec": {
   "display_name": "Python 3",
   "language": "python",
   "name": "python3"
  },
  "language_info": {
   "codemirror_mode": {
    "name": "ipython",
    "version": 3
   },
   "file_extension": ".py",
   "mimetype": "text/x-python",
   "name": "python",
   "nbconvert_exporter": "python",
   "pygments_lexer": "ipython3",
   "version": "3.8.5"
  }
 },
 "nbformat": 4,
 "nbformat_minor": 4
}
