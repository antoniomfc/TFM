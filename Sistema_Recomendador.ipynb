{
 "cells": [
  {
   "cell_type": "markdown",
   "id": "accessory-sixth",
   "metadata": {},
   "source": [
    "# Sistema recomendador\n",
    "\n",
    "La idea es utilizar el dataset que se ha generado en el notebook Exploración-dataset-imdb y generar un modelo que combinará un sistema recomendador basado en contenido con el algorimo KMeans."
   ]
  },
  {
   "cell_type": "code",
   "execution_count": 1,
   "id": "spatial-trunk",
   "metadata": {},
   "outputs": [],
   "source": [
    "import pandas as pd\n",
    "import matplotlib.pyplot as plt\n",
    "import seaborn as sns\n",
    "import numpy as np\n",
    "from sklearn.cluster import KMeans\n",
    "from sklearn.cluster import MiniBatchKMeans\n",
    "from sklearn.metrics import silhouette_score\n",
    "from sklearn.feature_extraction.text import TfidfVectorizer\n",
    "from sklearn.metrics.pairwise import cosine_similarity\n",
    "from joblib import dump, load\n",
    "\n",
    "%matplotlib inline"
   ]
  },
  {
   "cell_type": "code",
   "execution_count": 2,
   "id": "technical-wrist",
   "metadata": {},
   "outputs": [
    {
     "name": "stdout",
     "output_type": "stream",
     "text": [
      "IMDb movies.csv        movies_clean.csv       movies_with_labels.csv\r\n"
     ]
    }
   ],
   "source": [
    "!ls ./data"
   ]
  },
  {
   "cell_type": "code",
   "execution_count": 3,
   "id": "educational-activity",
   "metadata": {},
   "outputs": [],
   "source": [
    "# Cargamos el dataset movies_clean.csv\n",
    "df = pd.read_csv('./data/movies_clean.csv')"
   ]
  },
  {
   "cell_type": "code",
   "execution_count": 4,
   "id": "complicated-quarter",
   "metadata": {},
   "outputs": [
    {
     "data": {
      "text/html": [
       "<div>\n",
       "<style scoped>\n",
       "    .dataframe tbody tr th:only-of-type {\n",
       "        vertical-align: middle;\n",
       "    }\n",
       "\n",
       "    .dataframe tbody tr th {\n",
       "        vertical-align: top;\n",
       "    }\n",
       "\n",
       "    .dataframe thead th {\n",
       "        text-align: right;\n",
       "    }\n",
       "</style>\n",
       "<table border=\"1\" class=\"dataframe\">\n",
       "  <thead>\n",
       "    <tr style=\"text-align: right;\">\n",
       "      <th></th>\n",
       "      <th>id</th>\n",
       "      <th>title</th>\n",
       "      <th>genre</th>\n",
       "      <th>country</th>\n",
       "      <th>epoch</th>\n",
       "      <th>duration</th>\n",
       "      <th>known</th>\n",
       "      <th>description</th>\n",
       "    </tr>\n",
       "  </thead>\n",
       "  <tbody>\n",
       "    <tr>\n",
       "      <th>19981</th>\n",
       "      <td>tt9831136</td>\n",
       "      <td>The Banana Splits Movie</td>\n",
       "      <td>Comedy, Horror, Sci-Fi</td>\n",
       "      <td>USA, South Africa, Canada</td>\n",
       "      <td>current</td>\n",
       "      <td>short</td>\n",
       "      <td>unknown</td>\n",
       "      <td>A family attends a live taping of The Banana S...</td>\n",
       "    </tr>\n",
       "    <tr>\n",
       "      <th>19982</th>\n",
       "      <td>tt9860728</td>\n",
       "      <td>Falling Inn Love</td>\n",
       "      <td>Comedy, Romance</td>\n",
       "      <td>USA</td>\n",
       "      <td>current</td>\n",
       "      <td>normal</td>\n",
       "      <td>unknown</td>\n",
       "      <td>When city girl Gabriela spontaneously enters a...</td>\n",
       "    </tr>\n",
       "    <tr>\n",
       "      <th>19983</th>\n",
       "      <td>tt9894470</td>\n",
       "      <td>VFW</td>\n",
       "      <td>Action, Crime, Horror</td>\n",
       "      <td>USA</td>\n",
       "      <td>current</td>\n",
       "      <td>normal</td>\n",
       "      <td>unknown</td>\n",
       "      <td>A group of old war veterans put their lives on...</td>\n",
       "    </tr>\n",
       "    <tr>\n",
       "      <th>19984</th>\n",
       "      <td>tt9898858</td>\n",
       "      <td>Coffee &amp; Kareem</td>\n",
       "      <td>Action, Comedy</td>\n",
       "      <td>USA</td>\n",
       "      <td>current</td>\n",
       "      <td>short</td>\n",
       "      <td>unknown</td>\n",
       "      <td>Twelve-year-old Kareem Manning hires a crimina...</td>\n",
       "    </tr>\n",
       "    <tr>\n",
       "      <th>19985</th>\n",
       "      <td>tt9900782</td>\n",
       "      <td>Kaithi</td>\n",
       "      <td>Action, Thriller</td>\n",
       "      <td>India</td>\n",
       "      <td>current</td>\n",
       "      <td>long</td>\n",
       "      <td>unknown</td>\n",
       "      <td>A recently released prisoner becomes involved ...</td>\n",
       "    </tr>\n",
       "  </tbody>\n",
       "</table>\n",
       "</div>"
      ],
      "text/plain": [
       "              id                    title                   genre  \\\n",
       "19981  tt9831136  The Banana Splits Movie  Comedy, Horror, Sci-Fi   \n",
       "19982  tt9860728         Falling Inn Love         Comedy, Romance   \n",
       "19983  tt9894470                      VFW   Action, Crime, Horror   \n",
       "19984  tt9898858          Coffee & Kareem          Action, Comedy   \n",
       "19985  tt9900782                   Kaithi        Action, Thriller   \n",
       "\n",
       "                         country    epoch duration    known  \\\n",
       "19981  USA, South Africa, Canada  current    short  unknown   \n",
       "19982                        USA  current   normal  unknown   \n",
       "19983                        USA  current   normal  unknown   \n",
       "19984                        USA  current    short  unknown   \n",
       "19985                      India  current     long  unknown   \n",
       "\n",
       "                                             description  \n",
       "19981  A family attends a live taping of The Banana S...  \n",
       "19982  When city girl Gabriela spontaneously enters a...  \n",
       "19983  A group of old war veterans put their lives on...  \n",
       "19984  Twelve-year-old Kareem Manning hires a crimina...  \n",
       "19985  A recently released prisoner becomes involved ...  "
      ]
     },
     "execution_count": 4,
     "metadata": {},
     "output_type": "execute_result"
    }
   ],
   "source": [
    "df.tail(5)"
   ]
  },
  {
   "cell_type": "code",
   "execution_count": 5,
   "id": "dimensional-edward",
   "metadata": {},
   "outputs": [
    {
     "data": {
      "text/plain": [
       "(19986, 8)"
      ]
     },
     "execution_count": 5,
     "metadata": {},
     "output_type": "execute_result"
    }
   ],
   "source": [
    "df.shape"
   ]
  },
  {
   "cell_type": "markdown",
   "id": "placed-indie",
   "metadata": {},
   "source": [
    "La idea es combinar la columna genre, known y epoch para poder recomendar películas a los usuarios a partir del contenido de las palabras. Para ello utilizamos TfidfVectorizer de la librería sklearn, nos permite crear a partir de texto una matriz TF-IDF. Esta matriz que nos indica lo relevante que es cada palabra en el documento que aparece, dentro de la colección de documentos. Más información [aquí](https://es.wikipedia.org/wiki/Tf-idf)\n"
   ]
  },
  {
   "cell_type": "code",
   "execution_count": 6,
   "id": "eight-wednesday",
   "metadata": {},
   "outputs": [],
   "source": [
    "# Lo primero que haremos será combinar las columnas genres y tags en una única columna llamada documents\n",
    "\n",
    "def join_data(d):\n",
    "    \n",
    "    return f'''{str(d[\"genre\"]).replace(\",\", \" \").lower()} {d[\"epoch\"]} {d['known']}'''\n",
    "\n",
    "\n",
    "df['documents'] = df.apply(join_data, axis=1)"
   ]
  },
  {
   "cell_type": "code",
   "execution_count": 7,
   "id": "homeless-resistance",
   "metadata": {},
   "outputs": [
    {
     "data": {
      "text/plain": [
       "0    adventure  drama  fantasy classic unknown\n",
       "1    adventure  drama  history classic unknown\n",
       "2                       comedy classic unknown\n",
       "3            drama  history  war classic known\n",
       "4               drama  romance classic unknown\n",
       "Name: documents, dtype: object"
      ]
     },
     "execution_count": 7,
     "metadata": {},
     "output_type": "execute_result"
    }
   ],
   "source": [
    "df['documents'].head()"
   ]
  },
  {
   "cell_type": "code",
   "execution_count": 8,
   "id": "painted-alert",
   "metadata": {},
   "outputs": [],
   "source": [
    "# Instanciamos el proceso indicando que usamos el idioma inglés\n",
    "tfidf = TfidfVectorizer(stop_words='english')"
   ]
  },
  {
   "cell_type": "code",
   "execution_count": 9,
   "id": "adaptive-verse",
   "metadata": {},
   "outputs": [
    {
     "data": {
      "text/plain": [
       "['./Models/tfidfvectorizer.joblib']"
      ]
     },
     "execution_count": 9,
     "metadata": {},
     "output_type": "execute_result"
    }
   ],
   "source": [
    "matrix = tfidf.fit_transform(df['documents'])\n",
    "\n",
    "dump(matrix, './Models/tfidfvectorizer.joblib')"
   ]
  },
  {
   "cell_type": "code",
   "execution_count": 10,
   "id": "effective-naples",
   "metadata": {},
   "outputs": [
    {
     "data": {
      "text/plain": [
       "(19986, 27)"
      ]
     },
     "execution_count": 10,
     "metadata": {},
     "output_type": "execute_result"
    }
   ],
   "source": [
    "matrix.shape"
   ]
  },
  {
   "cell_type": "markdown",
   "id": "spoken-budget",
   "metadata": {},
   "source": [
    "### Generación del modelo KMeans\n",
    "\n",
    "Una vez que tenemos la matriz creada, procedemos a crear el modelo de aprendizaje no supervisado KMeans. Primero debemos de comprobar cuál es el número de cluster adecuados para nuestro KMeans. Esto lo podemos hacer con silhouette_score"
   ]
  },
  {
   "cell_type": "code",
   "execution_count": 11,
   "id": "furnished-nutrition",
   "metadata": {},
   "outputs": [],
   "source": [
    "# Uso de silhouette para obtener el mejor número de clusters en función de nuestros datos\n",
    "score_silhouette = list()\n",
    "\n",
    "K = np.arange(2, 11, 1)\n",
    "for k in K:\n",
    "    #km = KMeans(n_clusters=k, n_init=10, random_state=42, init='k-means++', max_iter=300)\n",
    "    km = MiniBatchKMeans(n_clusters=k, random_state=42, init='k-means++', batch_size=100)\n",
    "    km = km.fit(matrix)\n",
    "    score_silhouette.append(silhouette_score(matrix, km.labels_))"
   ]
  },
  {
   "cell_type": "code",
   "execution_count": 12,
   "id": "loaded-investor",
   "metadata": {},
   "outputs": [
    {
     "data": {
      "image/png": "[encoded data removed]",
      "text/plain": [
       "<Figure size 720x360 with 1 Axes>"
      ]
     },
     "metadata": {
      "needs_background": "light"
     },
     "output_type": "display_data"
    }
   ],
   "source": [
    "plt.figure(figsize=(10, 5))\n",
    "plt.plot(K, score_silhouette, 'bx-')\n",
    "plt.xlabel('k')\n",
    "plt.ylabel('score_silhoueete')\n",
    "plt.xticks(K)\n",
    "plt.title('silhouette score')\n",
    "plt.show()"
   ]
  },
  {
   "cell_type": "code",
   "execution_count": 13,
   "id": "hollywood-course",
   "metadata": {},
   "outputs": [],
   "source": [
    "# Usamos como cluster k = 190\n",
    "k = 10\n",
    "kmeans = MiniBatchKMeans(n_clusters=k, random_state=12, init='k-means++', batch_size=100, n_init=3)\n",
    "kmeans = kmeans.fit(matrix)\n",
    "labels = kmeans.labels_"
   ]
  },
  {
   "cell_type": "code",
   "execution_count": 14,
   "id": "structured-ensemble",
   "metadata": {},
   "outputs": [
    {
     "data": {
      "text/plain": [
       "array([0, 0, 0, ..., 7, 1, 2], dtype=int32)"
      ]
     },
     "execution_count": 14,
     "metadata": {},
     "output_type": "execute_result"
    }
   ],
   "source": [
    "labels"
   ]
  },
  {
   "cell_type": "code",
   "execution_count": 15,
   "id": "dental-sapphire",
   "metadata": {},
   "outputs": [
    {
     "data": {
      "text/plain": [
       "19986"
      ]
     },
     "execution_count": 15,
     "metadata": {},
     "output_type": "execute_result"
    }
   ],
   "source": [
    "len(labels)"
   ]
  },
  {
   "cell_type": "code",
   "execution_count": 16,
   "id": "minute-daily",
   "metadata": {},
   "outputs": [],
   "source": [
    "df['labels'] = labels"
   ]
  },
  {
   "cell_type": "code",
   "execution_count": 17,
   "id": "inclusive-romantic",
   "metadata": {},
   "outputs": [
    {
     "data": {
      "text/plain": [
       "0    3031\n",
       "7    2737\n",
       "3    2715\n",
       "5    2114\n",
       "9    1825\n",
       "8    1786\n",
       "1    1775\n",
       "4    1569\n",
       "2    1220\n",
       "6    1214\n",
       "Name: labels, dtype: int64"
      ]
     },
     "execution_count": 17,
     "metadata": {},
     "output_type": "execute_result"
    }
   ],
   "source": [
    "df.labels.value_counts()"
   ]
  },
  {
   "cell_type": "code",
   "execution_count": 18,
   "id": "together-nurse",
   "metadata": {},
   "outputs": [],
   "source": [
    "# Guardamos las películas con sus respectivas etiquetas\n",
    "df.to_csv('./data/movies_with_labels.csv', header=True, index=False)"
   ]
  },
  {
   "cell_type": "code",
   "execution_count": 19,
   "id": "preceding-progressive",
   "metadata": {},
   "outputs": [],
   "source": [
    "def get_label(text):\n",
    "    \n",
    "    tfidf = TfidfVectorizer(stop_words='english')\n",
    "    tfidf.fit(df['documents'])\n",
    "   \n",
    "    y = tfidf.transform([text])\n",
    "    \n",
    "    label_pred = kmeans.predict(y)\n",
    "    \n",
    "    return label_pred\n",
    "\n",
    "l = get_label('action adventure known current sci-fi')"
   ]
  },
  {
   "cell_type": "code",
   "execution_count": 20,
   "id": "correct-darwin",
   "metadata": {},
   "outputs": [
    {
     "data": {
      "text/plain": [
       "6"
      ]
     },
     "execution_count": 20,
     "metadata": {},
     "output_type": "execute_result"
    }
   ],
   "source": [
    "l[0]"
   ]
  },
  {
   "cell_type": "code",
   "execution_count": 21,
   "id": "improving-glory",
   "metadata": {},
   "outputs": [],
   "source": [
    "def get_df_films(label, film):\n",
    "\n",
    "    return df[((df['labels'] == label) | (df['title'] == film))].copy()\n",
    "\n",
    "films = get_df_films(l[0], 'Spider-Man')"
   ]
  },
  {
   "cell_type": "code",
   "execution_count": 22,
   "id": "cheap-facing",
   "metadata": {},
   "outputs": [
    {
     "data": {
      "text/html": [
       "<div>\n",
       "<style scoped>\n",
       "    .dataframe tbody tr th:only-of-type {\n",
       "        vertical-align: middle;\n",
       "    }\n",
       "\n",
       "    .dataframe tbody tr th {\n",
       "        vertical-align: top;\n",
       "    }\n",
       "\n",
       "    .dataframe thead th {\n",
       "        text-align: right;\n",
       "    }\n",
       "</style>\n",
       "<table border=\"1\" class=\"dataframe\">\n",
       "  <thead>\n",
       "    <tr style=\"text-align: right;\">\n",
       "      <th></th>\n",
       "      <th>id</th>\n",
       "      <th>title</th>\n",
       "      <th>genre</th>\n",
       "      <th>country</th>\n",
       "      <th>epoch</th>\n",
       "      <th>duration</th>\n",
       "      <th>known</th>\n",
       "      <th>description</th>\n",
       "      <th>documents</th>\n",
       "      <th>labels</th>\n",
       "    </tr>\n",
       "  </thead>\n",
       "  <tbody>\n",
       "    <tr>\n",
       "      <th>10</th>\n",
       "      <td>tt0011130</td>\n",
       "      <td>Dr. Jekyll and Mr. Hyde</td>\n",
       "      <td>Drama, Horror, Sci-Fi</td>\n",
       "      <td>USA</td>\n",
       "      <td>classic</td>\n",
       "      <td>short</td>\n",
       "      <td>unknown</td>\n",
       "      <td>Dr. Henry Jekyll experiments with scientific m...</td>\n",
       "      <td>drama  horror  sci-fi classic unknown</td>\n",
       "      <td>6</td>\n",
       "    </tr>\n",
       "    <tr>\n",
       "      <th>59</th>\n",
       "      <td>tt0017136</td>\n",
       "      <td>Metropolis</td>\n",
       "      <td>Drama, Sci-Fi</td>\n",
       "      <td>Germany</td>\n",
       "      <td>classic</td>\n",
       "      <td>long</td>\n",
       "      <td>known</td>\n",
       "      <td>In a futuristic city sharply divided between t...</td>\n",
       "      <td>drama  sci-fi classic known</td>\n",
       "      <td>6</td>\n",
       "    </tr>\n",
       "    <tr>\n",
       "      <th>141</th>\n",
       "      <td>tt0022835</td>\n",
       "      <td>Dr. Jekyll and Mr. Hyde</td>\n",
       "      <td>Horror, Sci-Fi</td>\n",
       "      <td>USA</td>\n",
       "      <td>classic</td>\n",
       "      <td>normal</td>\n",
       "      <td>unknown</td>\n",
       "      <td>Dr. Jekyll faces horrible consequences when he...</td>\n",
       "      <td>horror  sci-fi classic unknown</td>\n",
       "      <td>6</td>\n",
       "    </tr>\n",
       "    <tr>\n",
       "      <th>149</th>\n",
       "      <td>tt0023194</td>\n",
       "      <td>The Mask of Fu Manchu</td>\n",
       "      <td>Adventure, Horror, Sci-Fi</td>\n",
       "      <td>USA</td>\n",
       "      <td>classic</td>\n",
       "      <td>short</td>\n",
       "      <td>unknown</td>\n",
       "      <td>Englishmen race to find the tomb of Genghis Kh...</td>\n",
       "      <td>adventure  horror  sci-fi classic unknown</td>\n",
       "      <td>6</td>\n",
       "    </tr>\n",
       "    <tr>\n",
       "      <th>183</th>\n",
       "      <td>tt0024184</td>\n",
       "      <td>The Invisible Man</td>\n",
       "      <td>Horror, Sci-Fi</td>\n",
       "      <td>USA</td>\n",
       "      <td>classic</td>\n",
       "      <td>short</td>\n",
       "      <td>known</td>\n",
       "      <td>A scientist finds a way of becoming invisible,...</td>\n",
       "      <td>horror  sci-fi classic known</td>\n",
       "      <td>6</td>\n",
       "    </tr>\n",
       "  </tbody>\n",
       "</table>\n",
       "</div>"
      ],
      "text/plain": [
       "            id                    title                      genre  country  \\\n",
       "10   tt0011130  Dr. Jekyll and Mr. Hyde      Drama, Horror, Sci-Fi      USA   \n",
       "59   tt0017136               Metropolis              Drama, Sci-Fi  Germany   \n",
       "141  tt0022835  Dr. Jekyll and Mr. Hyde             Horror, Sci-Fi      USA   \n",
       "149  tt0023194    The Mask of Fu Manchu  Adventure, Horror, Sci-Fi      USA   \n",
       "183  tt0024184        The Invisible Man             Horror, Sci-Fi      USA   \n",
       "\n",
       "       epoch duration    known  \\\n",
       "10   classic    short  unknown   \n",
       "59   classic     long    known   \n",
       "141  classic   normal  unknown   \n",
       "149  classic    short  unknown   \n",
       "183  classic    short    known   \n",
       "\n",
       "                                           description  \\\n",
       "10   Dr. Henry Jekyll experiments with scientific m...   \n",
       "59   In a futuristic city sharply divided between t...   \n",
       "141  Dr. Jekyll faces horrible consequences when he...   \n",
       "149  Englishmen race to find the tomb of Genghis Kh...   \n",
       "183  A scientist finds a way of becoming invisible,...   \n",
       "\n",
       "                                     documents  labels  \n",
       "10       drama  horror  sci-fi classic unknown       6  \n",
       "59                 drama  sci-fi classic known       6  \n",
       "141             horror  sci-fi classic unknown       6  \n",
       "149  adventure  horror  sci-fi classic unknown       6  \n",
       "183               horror  sci-fi classic known       6  "
      ]
     },
     "execution_count": 22,
     "metadata": {},
     "output_type": "execute_result"
    }
   ],
   "source": [
    "films.head(5)"
   ]
  },
  {
   "cell_type": "code",
   "execution_count": 23,
   "id": "clear-jackson",
   "metadata": {},
   "outputs": [
    {
     "data": {
      "text/plain": [
       "(1186, 10)"
      ]
     },
     "execution_count": 23,
     "metadata": {},
     "output_type": "execute_result"
    }
   ],
   "source": [
    "films = films.drop_duplicates(subset=['title'], keep='last')\n",
    "films = films.reset_index(drop=True)\n",
    "films.shape"
   ]
  },
  {
   "cell_type": "code",
   "execution_count": 24,
   "id": "defensive-degree",
   "metadata": {},
   "outputs": [
    {
     "data": {
      "text/html": [
       "<div>\n",
       "<style scoped>\n",
       "    .dataframe tbody tr th:only-of-type {\n",
       "        vertical-align: middle;\n",
       "    }\n",
       "\n",
       "    .dataframe tbody tr th {\n",
       "        vertical-align: top;\n",
       "    }\n",
       "\n",
       "    .dataframe thead th {\n",
       "        text-align: right;\n",
       "    }\n",
       "</style>\n",
       "<table border=\"1\" class=\"dataframe\">\n",
       "  <thead>\n",
       "    <tr style=\"text-align: right;\">\n",
       "      <th></th>\n",
       "      <th>id</th>\n",
       "      <th>title</th>\n",
       "      <th>genre</th>\n",
       "      <th>country</th>\n",
       "      <th>epoch</th>\n",
       "      <th>duration</th>\n",
       "      <th>known</th>\n",
       "      <th>description</th>\n",
       "      <th>documents</th>\n",
       "      <th>labels</th>\n",
       "    </tr>\n",
       "  </thead>\n",
       "  <tbody>\n",
       "    <tr>\n",
       "      <th>0</th>\n",
       "      <td>tt0017136</td>\n",
       "      <td>Metropolis</td>\n",
       "      <td>Drama, Sci-Fi</td>\n",
       "      <td>Germany</td>\n",
       "      <td>classic</td>\n",
       "      <td>long</td>\n",
       "      <td>known</td>\n",
       "      <td>In a futuristic city sharply divided between t...</td>\n",
       "      <td>drama  sci-fi classic known</td>\n",
       "      <td>6</td>\n",
       "    </tr>\n",
       "    <tr>\n",
       "      <th>1</th>\n",
       "      <td>tt0023194</td>\n",
       "      <td>The Mask of Fu Manchu</td>\n",
       "      <td>Adventure, Horror, Sci-Fi</td>\n",
       "      <td>USA</td>\n",
       "      <td>classic</td>\n",
       "      <td>short</td>\n",
       "      <td>unknown</td>\n",
       "      <td>Englishmen race to find the tomb of Genghis Kh...</td>\n",
       "      <td>adventure  horror  sci-fi classic unknown</td>\n",
       "      <td>6</td>\n",
       "    </tr>\n",
       "    <tr>\n",
       "      <th>2</th>\n",
       "      <td>tt0024188</td>\n",
       "      <td>Island of Lost Souls</td>\n",
       "      <td>Horror, Sci-Fi</td>\n",
       "      <td>USA</td>\n",
       "      <td>classic</td>\n",
       "      <td>short</td>\n",
       "      <td>unknown</td>\n",
       "      <td>An obsessed scientist conducts profane experim...</td>\n",
       "      <td>horror  sci-fi classic unknown</td>\n",
       "      <td>6</td>\n",
       "    </tr>\n",
       "    <tr>\n",
       "      <th>3</th>\n",
       "      <td>tt0024216</td>\n",
       "      <td>King Kong</td>\n",
       "      <td>Adventure, Horror, Sci-Fi</td>\n",
       "      <td>USA</td>\n",
       "      <td>classic</td>\n",
       "      <td>normal</td>\n",
       "      <td>known</td>\n",
       "      <td>A film crew goes to a tropical island for an e...</td>\n",
       "      <td>adventure  horror  sci-fi classic known</td>\n",
       "      <td>6</td>\n",
       "    </tr>\n",
       "    <tr>\n",
       "      <th>4</th>\n",
       "      <td>tt0026138</td>\n",
       "      <td>Bride of Frankenstein</td>\n",
       "      <td>Drama, Horror, Sci-Fi</td>\n",
       "      <td>USA</td>\n",
       "      <td>classic</td>\n",
       "      <td>short</td>\n",
       "      <td>known</td>\n",
       "      <td>Mary Shelley reveals the main characters of he...</td>\n",
       "      <td>drama  horror  sci-fi classic known</td>\n",
       "      <td>6</td>\n",
       "    </tr>\n",
       "  </tbody>\n",
       "</table>\n",
       "</div>"
      ],
      "text/plain": [
       "          id                  title                      genre  country  \\\n",
       "0  tt0017136             Metropolis              Drama, Sci-Fi  Germany   \n",
       "1  tt0023194  The Mask of Fu Manchu  Adventure, Horror, Sci-Fi      USA   \n",
       "2  tt0024188   Island of Lost Souls             Horror, Sci-Fi      USA   \n",
       "3  tt0024216              King Kong  Adventure, Horror, Sci-Fi      USA   \n",
       "4  tt0026138  Bride of Frankenstein      Drama, Horror, Sci-Fi      USA   \n",
       "\n",
       "     epoch duration    known  \\\n",
       "0  classic     long    known   \n",
       "1  classic    short  unknown   \n",
       "2  classic    short  unknown   \n",
       "3  classic   normal    known   \n",
       "4  classic    short    known   \n",
       "\n",
       "                                         description  \\\n",
       "0  In a futuristic city sharply divided between t...   \n",
       "1  Englishmen race to find the tomb of Genghis Kh...   \n",
       "2  An obsessed scientist conducts profane experim...   \n",
       "3  A film crew goes to a tropical island for an e...   \n",
       "4  Mary Shelley reveals the main characters of he...   \n",
       "\n",
       "                                   documents  labels  \n",
       "0                drama  sci-fi classic known       6  \n",
       "1  adventure  horror  sci-fi classic unknown       6  \n",
       "2             horror  sci-fi classic unknown       6  \n",
       "3    adventure  horror  sci-fi classic known       6  \n",
       "4        drama  horror  sci-fi classic known       6  "
      ]
     },
     "execution_count": 24,
     "metadata": {},
     "output_type": "execute_result"
    }
   ],
   "source": [
    "films.head()"
   ]
  },
  {
   "cell_type": "code",
   "execution_count": 25,
   "id": "tired-placement",
   "metadata": {},
   "outputs": [],
   "source": [
    "def get_recommendation(dataframe, film):\n",
    "    \n",
    "    indice_movies = pd.Series(dataframe.index, index=dataframe['title'])\n",
    "\n",
    "    tfidf2 = TfidfVectorizer(stop_words='english')\n",
    "    matrix_tfidf = tfidf.fit_transform(dataframe['description'])\n",
    "\n",
    "    cos_sim = cosine_similarity(matrix_tfidf, matrix_tfidf)\n",
    "\n",
    "    scores = sorted(list(enumerate(cos_sim[indice_movies[film]])), key=lambda l: l[1], reverse=True)\n",
    "    \n",
    "    scores = scores[0:10]\n",
    "\n",
    "    movie_indices = [f[0] for f in scores]\n",
    "\n",
    "    return dataframe['title'].iloc[movie_indices]"
   ]
  },
  {
   "cell_type": "code",
   "execution_count": 27,
   "id": "pacific-accommodation",
   "metadata": {},
   "outputs": [],
   "source": [
    "r = get_recommendation(films, 'Spider-Man')"
   ]
  },
  {
   "cell_type": "code",
   "execution_count": 28,
   "id": "structural-choice",
   "metadata": {},
   "outputs": [
    {
     "data": {
      "text/html": [
       "<div>\n",
       "<style scoped>\n",
       "    .dataframe tbody tr th:only-of-type {\n",
       "        vertical-align: middle;\n",
       "    }\n",
       "\n",
       "    .dataframe tbody tr th {\n",
       "        vertical-align: top;\n",
       "    }\n",
       "\n",
       "    .dataframe thead th {\n",
       "        text-align: right;\n",
       "    }\n",
       "</style>\n",
       "<table border=\"1\" class=\"dataframe\">\n",
       "  <thead>\n",
       "    <tr style=\"text-align: right;\">\n",
       "      <th></th>\n",
       "      <th>title</th>\n",
       "    </tr>\n",
       "  </thead>\n",
       "  <tbody>\n",
       "    <tr>\n",
       "      <th>0</th>\n",
       "      <td>Spider-Man</td>\n",
       "    </tr>\n",
       "    <tr>\n",
       "      <th>1</th>\n",
       "      <td>The Amazing Spider-Man</td>\n",
       "    </tr>\n",
       "    <tr>\n",
       "      <th>2</th>\n",
       "      <td>Spider-Man: Homecoming</td>\n",
       "    </tr>\n",
       "    <tr>\n",
       "      <th>3</th>\n",
       "      <td>Earth vs the Spider</td>\n",
       "    </tr>\n",
       "    <tr>\n",
       "      <th>4</th>\n",
       "      <td>Tammy and the T-Rex</td>\n",
       "    </tr>\n",
       "    <tr>\n",
       "      <th>5</th>\n",
       "      <td>Superhero Movie</td>\n",
       "    </tr>\n",
       "    <tr>\n",
       "      <th>6</th>\n",
       "      <td>Zapped!</td>\n",
       "    </tr>\n",
       "    <tr>\n",
       "      <th>7</th>\n",
       "      <td>Power Rangers</td>\n",
       "    </tr>\n",
       "    <tr>\n",
       "      <th>8</th>\n",
       "      <td>Weird Science</td>\n",
       "    </tr>\n",
       "    <tr>\n",
       "      <th>9</th>\n",
       "      <td>The Amazing Spider-Man 2</td>\n",
       "    </tr>\n",
       "  </tbody>\n",
       "</table>\n",
       "</div>"
      ],
      "text/plain": [
       "                      title\n",
       "0                Spider-Man\n",
       "1    The Amazing Spider-Man\n",
       "2    Spider-Man: Homecoming\n",
       "3       Earth vs the Spider\n",
       "4       Tammy and the T-Rex\n",
       "5           Superhero Movie\n",
       "6                   Zapped!\n",
       "7             Power Rangers\n",
       "8             Weird Science\n",
       "9  The Amazing Spider-Man 2"
      ]
     },
     "execution_count": 28,
     "metadata": {},
     "output_type": "execute_result"
    }
   ],
   "source": [
    "r.reset_index().drop('index', axis=1)"
   ]
  },
  {
   "cell_type": "raw",
   "id": "tired-reliance",
   "metadata": {},
   "source": [
    "!ls Models"
   ]
  },
  {
   "cell_type": "code",
   "execution_count": 29,
   "id": "together-compiler",
   "metadata": {},
   "outputs": [
    {
     "data": {
      "text/plain": [
       "['./Models/kmeans-films.joblib']"
      ]
     },
     "execution_count": 29,
     "metadata": {},
     "output_type": "execute_result"
    }
   ],
   "source": [
    "dump(kmeans, './Models/kmeans-films.joblib')"
   ]
  },
  {
   "cell_type": "code",
   "execution_count": null,
   "id": "valuable-permission",
   "metadata": {},
   "outputs": [],
   "source": []
  }
 ],
 "metadata": {
  "kernelspec": {
   "display_name": "Python 3",
   "language": "python",
   "name": "python3"
  },
  "language_info": {
   "codemirror_mode": {
    "name": "ipython",
    "version": 3
   },
   "file_extension": ".py",
   "mimetype": "text/x-python",
   "name": "python",
   "nbconvert_exporter": "python",
   "pygments_lexer": "ipython3",
   "version": "3.8.5"
  }
 },
 "nbformat": 4,
 "nbformat_minor": 5
}
