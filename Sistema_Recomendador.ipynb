{
 "cells": [
  {
   "cell_type": "markdown",
   "id": "accessory-sixth",
   "metadata": {},
   "source": [
    "# Sistema recomendador\n",
    "\n",
    "La idea es utilizar el dataset que se ha generado en el notebook Exploración-dataset-imdb y generar un modelo que combinará un sistema recomendador basado en contenido con el algorimo KMeans."
   ]
  },
  {
   "cell_type": "code",
   "execution_count": 241,
   "id": "spatial-trunk",
   "metadata": {},
   "outputs": [],
   "source": [
    "import pandas as pd\n",
    "import matplotlib.pyplot as plt\n",
    "import seaborn as sns\n",
    "import numpy as np\n",
    "from sklearn.cluster import KMeans\n",
    "from sklearn.cluster import MiniBatchKMeans\n",
    "from sklearn.metrics import silhouette_score\n",
    "from sklearn.feature_extraction.text import TfidfVectorizer\n",
    "from sklearn.metrics.pairwise import cosine_similarity\n",
    "from joblib import dump, load\n",
    "\n",
    "%matplotlib inline"
   ]
  },
  {
   "cell_type": "code",
   "execution_count": 242,
   "id": "technical-wrist",
   "metadata": {},
   "outputs": [
    {
     "name": "stdout",
     "output_type": "stream",
     "text": [
      "IMDb movies.csv        movies_clean.csv       movies_with_labels.csv\r\n"
     ]
    }
   ],
   "source": [
    "!ls ./data"
   ]
  },
  {
   "cell_type": "code",
   "execution_count": 243,
   "id": "educational-activity",
   "metadata": {},
   "outputs": [],
   "source": [
    "# Cargamos el dataset movies_clean.csv\n",
    "df = pd.read_csv('./data/movies_clean.csv')"
   ]
  },
  {
   "cell_type": "code",
   "execution_count": 245,
   "id": "complicated-quarter",
   "metadata": {},
   "outputs": [
    {
     "data": {
      "text/html": [
       "<div>\n",
       "<style scoped>\n",
       "    .dataframe tbody tr th:only-of-type {\n",
       "        vertical-align: middle;\n",
       "    }\n",
       "\n",
       "    .dataframe tbody tr th {\n",
       "        vertical-align: top;\n",
       "    }\n",
       "\n",
       "    .dataframe thead th {\n",
       "        text-align: right;\n",
       "    }\n",
       "</style>\n",
       "<table border=\"1\" class=\"dataframe\">\n",
       "  <thead>\n",
       "    <tr style=\"text-align: right;\">\n",
       "      <th></th>\n",
       "      <th>id</th>\n",
       "      <th>title</th>\n",
       "      <th>genre</th>\n",
       "      <th>country</th>\n",
       "      <th>epoch</th>\n",
       "      <th>duration</th>\n",
       "      <th>known</th>\n",
       "      <th>description</th>\n",
       "    </tr>\n",
       "  </thead>\n",
       "  <tbody>\n",
       "    <tr>\n",
       "      <th>19981</th>\n",
       "      <td>tt9831136</td>\n",
       "      <td>The Banana Splits Movie</td>\n",
       "      <td>Comedy, Horror, Sci-Fi</td>\n",
       "      <td>USA, South Africa, Canada</td>\n",
       "      <td>current</td>\n",
       "      <td>short</td>\n",
       "      <td>unknown</td>\n",
       "      <td>A family attends a live taping of The Banana S...</td>\n",
       "    </tr>\n",
       "    <tr>\n",
       "      <th>19982</th>\n",
       "      <td>tt9860728</td>\n",
       "      <td>Falling Inn Love</td>\n",
       "      <td>Comedy, Romance</td>\n",
       "      <td>USA</td>\n",
       "      <td>current</td>\n",
       "      <td>normal</td>\n",
       "      <td>unknown</td>\n",
       "      <td>When city girl Gabriela spontaneously enters a...</td>\n",
       "    </tr>\n",
       "    <tr>\n",
       "      <th>19983</th>\n",
       "      <td>tt9894470</td>\n",
       "      <td>VFW</td>\n",
       "      <td>Action, Crime, Horror</td>\n",
       "      <td>USA</td>\n",
       "      <td>current</td>\n",
       "      <td>normal</td>\n",
       "      <td>unknown</td>\n",
       "      <td>A group of old war veterans put their lives on...</td>\n",
       "    </tr>\n",
       "    <tr>\n",
       "      <th>19984</th>\n",
       "      <td>tt9898858</td>\n",
       "      <td>Coffee &amp; Kareem</td>\n",
       "      <td>Action, Comedy</td>\n",
       "      <td>USA</td>\n",
       "      <td>current</td>\n",
       "      <td>short</td>\n",
       "      <td>unknown</td>\n",
       "      <td>Twelve-year-old Kareem Manning hires a crimina...</td>\n",
       "    </tr>\n",
       "    <tr>\n",
       "      <th>19985</th>\n",
       "      <td>tt9900782</td>\n",
       "      <td>Kaithi</td>\n",
       "      <td>Action, Thriller</td>\n",
       "      <td>India</td>\n",
       "      <td>current</td>\n",
       "      <td>long</td>\n",
       "      <td>unknown</td>\n",
       "      <td>A recently released prisoner becomes involved ...</td>\n",
       "    </tr>\n",
       "  </tbody>\n",
       "</table>\n",
       "</div>"
      ],
      "text/plain": [
       "              id                    title                   genre  \\\n",
       "19981  tt9831136  The Banana Splits Movie  Comedy, Horror, Sci-Fi   \n",
       "19982  tt9860728         Falling Inn Love         Comedy, Romance   \n",
       "19983  tt9894470                      VFW   Action, Crime, Horror   \n",
       "19984  tt9898858          Coffee & Kareem          Action, Comedy   \n",
       "19985  tt9900782                   Kaithi        Action, Thriller   \n",
       "\n",
       "                         country    epoch duration    known  \\\n",
       "19981  USA, South Africa, Canada  current    short  unknown   \n",
       "19982                        USA  current   normal  unknown   \n",
       "19983                        USA  current   normal  unknown   \n",
       "19984                        USA  current    short  unknown   \n",
       "19985                      India  current     long  unknown   \n",
       "\n",
       "                                             description  \n",
       "19981  A family attends a live taping of The Banana S...  \n",
       "19982  When city girl Gabriela spontaneously enters a...  \n",
       "19983  A group of old war veterans put their lives on...  \n",
       "19984  Twelve-year-old Kareem Manning hires a crimina...  \n",
       "19985  A recently released prisoner becomes involved ...  "
      ]
     },
     "execution_count": 245,
     "metadata": {},
     "output_type": "execute_result"
    }
   ],
   "source": [
    "df.tail(5)"
   ]
  },
  {
   "cell_type": "code",
   "execution_count": 246,
   "id": "dimensional-edward",
   "metadata": {},
   "outputs": [
    {
     "data": {
      "text/plain": [
       "(19986, 8)"
      ]
     },
     "execution_count": 246,
     "metadata": {},
     "output_type": "execute_result"
    }
   ],
   "source": [
    "df.shape"
   ]
  },
  {
   "cell_type": "markdown",
   "id": "placed-indie",
   "metadata": {},
   "source": [
    "La idea es combinar la columna genre, known y epoch para poder recomendar películas a los usuarios a partir del contenido de las palabras. Para ello utilizamos TfidfVectorizer de la librería sklearn, nos permite crear a partir de texto una matriz TF-IDF. Esta matriz que nos indica lo relevante que es cada palabra en el documento que aparece, dentro de la colección de documentos. Más información [aquí](https://es.wikipedia.org/wiki/Tf-idf)\n"
   ]
  },
  {
   "cell_type": "code",
   "execution_count": 247,
   "id": "eight-wednesday",
   "metadata": {},
   "outputs": [],
   "source": [
    "# Lo primero que haremos será combinar las columnas genres y tags en una única columna llamada documents\n",
    "\n",
    "def join_data(d):\n",
    "    \n",
    "    return f'''{str(d[\"genre\"]).replace(\",\", \" \").lower()} {d[\"epoch\"]} {d['known']}'''\n",
    "\n",
    "\n",
    "df['documents'] = df.apply(join_data, axis=1)"
   ]
  },
  {
   "cell_type": "code",
   "execution_count": 248,
   "id": "homeless-resistance",
   "metadata": {},
   "outputs": [
    {
     "data": {
      "text/plain": [
       "0    adventure  drama  fantasy classic unknown\n",
       "1    adventure  drama  history classic unknown\n",
       "2                       comedy classic unknown\n",
       "3            drama  history  war classic known\n",
       "4               drama  romance classic unknown\n",
       "Name: documents, dtype: object"
      ]
     },
     "execution_count": 248,
     "metadata": {},
     "output_type": "execute_result"
    }
   ],
   "source": [
    "df['documents'].head()"
   ]
  },
  {
   "cell_type": "code",
   "execution_count": 249,
   "id": "painted-alert",
   "metadata": {},
   "outputs": [],
   "source": [
    "# Instanciamos el proceso indicando que usamos el idioma inglés\n",
    "tfidf = TfidfVectorizer(stop_words='english')"
   ]
  },
  {
   "cell_type": "code",
   "execution_count": 250,
   "id": "adaptive-verse",
   "metadata": {},
   "outputs": [],
   "source": [
    "matrix = tfidf.fit_transform(df['documents'])"
   ]
  },
  {
   "cell_type": "code",
   "execution_count": 251,
   "id": "effective-naples",
   "metadata": {},
   "outputs": [
    {
     "data": {
      "text/plain": [
       "(19986, 27)"
      ]
     },
     "execution_count": 251,
     "metadata": {},
     "output_type": "execute_result"
    }
   ],
   "source": [
    "matrix.shape"
   ]
  },
  {
   "cell_type": "markdown",
   "id": "spoken-budget",
   "metadata": {},
   "source": [
    "### Generación del modelo KMeans\n",
    "\n",
    "Una vez que tenemos la matriz creada, procedemos a crear el modelo de aprendizaje no supervisado KMeans. Primero debemos de comprobar cuál es el número de cluster adecuados para nuestro KMeans. Esto lo podemos hacer con silhouette_score"
   ]
  },
  {
   "cell_type": "code",
   "execution_count": 252,
   "id": "furnished-nutrition",
   "metadata": {},
   "outputs": [],
   "source": [
    "# Uso de silhouette para obtener el mejor número de clusters en función de nuestros datos\n",
    "score_silhouette = list()\n",
    "\n",
    "K = np.arange(100, 210, 10)\n",
    "for k in K:\n",
    "    #km = KMeans(n_clusters=k, n_init=10, random_state=42, init='k-means++', max_iter=300)\n",
    "    km = MiniBatchKMeans(n_clusters=k, random_state=42, init='k-means++', batch_size=100)\n",
    "    km = km.fit(matrix)\n",
    "    score_silhouette.append(silhouette_score(matrix, km.labels_))"
   ]
  },
  {
   "cell_type": "code",
   "execution_count": 253,
   "id": "loaded-investor",
   "metadata": {},
   "outputs": [
    {
     "data": {
      "image/png": "[encoded data removed]",
      "text/plain": [
       "<Figure size 720x360 with 1 Axes>"
      ]
     },
     "metadata": {
      "needs_background": "light"
     },
     "output_type": "display_data"
    }
   ],
   "source": [
    "plt.figure(figsize=(10, 5))\n",
    "plt.plot(K, score_silhouette, 'bx-')\n",
    "plt.xlabel('k')\n",
    "plt.ylabel('score_silhoueete')\n",
    "plt.xticks(K)\n",
    "plt.title('silhouette score')\n",
    "plt.show()"
   ]
  },
  {
   "cell_type": "code",
   "execution_count": 254,
   "id": "hollywood-course",
   "metadata": {},
   "outputs": [],
   "source": [
    "# Usamos como cluster k = 190\n",
    "k = 190\n",
    "kmeans = MiniBatchKMeans(n_clusters=k, random_state=12, init='k-means++', batch_size=100, n_init=3)\n",
    "kmeans = kmeans.fit(matrix)\n",
    "labels = kmeans.labels_"
   ]
  },
  {
   "cell_type": "code",
   "execution_count": 255,
   "id": "structured-ensemble",
   "metadata": {},
   "outputs": [
    {
     "data": {
      "text/plain": [
       "array([ 72,  87, 105, ..., 130, 148, 128], dtype=int32)"
      ]
     },
     "execution_count": 255,
     "metadata": {},
     "output_type": "execute_result"
    }
   ],
   "source": [
    "labels"
   ]
  },
  {
   "cell_type": "code",
   "execution_count": 256,
   "id": "dental-sapphire",
   "metadata": {},
   "outputs": [
    {
     "data": {
      "text/plain": [
       "19986"
      ]
     },
     "execution_count": 256,
     "metadata": {},
     "output_type": "execute_result"
    }
   ],
   "source": [
    "len(labels)"
   ]
  },
  {
   "cell_type": "code",
   "execution_count": 257,
   "id": "minute-daily",
   "metadata": {},
   "outputs": [],
   "source": [
    "df['labels'] = labels"
   ]
  },
  {
   "cell_type": "code",
   "execution_count": 258,
   "id": "inclusive-romantic",
   "metadata": {},
   "outputs": [
    {
     "data": {
      "text/plain": [
       "8      831\n",
       "42     601\n",
       "1      538\n",
       "36     499\n",
       "9      474\n",
       "      ... \n",
       "69      15\n",
       "178     14\n",
       "94      11\n",
       "144     10\n",
       "19       8\n",
       "Name: labels, Length: 186, dtype: int64"
      ]
     },
     "execution_count": 258,
     "metadata": {},
     "output_type": "execute_result"
    }
   ],
   "source": [
    "df.labels.value_counts()"
   ]
  },
  {
   "cell_type": "code",
   "execution_count": 259,
   "id": "together-nurse",
   "metadata": {},
   "outputs": [],
   "source": [
    "# Guardamos las películas con sus respectivas etiquetas\n",
    "df.to_csv('./data/movies_with_labels.csv', header=True, index=False)"
   ]
  },
  {
   "cell_type": "code",
   "execution_count": 260,
   "id": "preceding-progressive",
   "metadata": {},
   "outputs": [],
   "source": [
    "def get_label(text):\n",
    "    \n",
    "    \n",
    "    y = tfidf.transform([text])\n",
    "    \n",
    "    label_pred = kmeans.predict(y)\n",
    "    \n",
    "    return label_pred\n",
    "\n",
    "l = get_label('drama sci-fi current known adventure')"
   ]
  },
  {
   "cell_type": "code",
   "execution_count": 261,
   "id": "correct-darwin",
   "metadata": {},
   "outputs": [
    {
     "data": {
      "text/plain": [
       "70"
      ]
     },
     "execution_count": 261,
     "metadata": {},
     "output_type": "execute_result"
    }
   ],
   "source": [
    "l[0]"
   ]
  },
  {
   "cell_type": "code",
   "execution_count": 262,
   "id": "improving-glory",
   "metadata": {},
   "outputs": [],
   "source": [
    "def get_df_films(label, film):\n",
    "\n",
    "    return df[((df['labels'] == label) | (df['title'] == film))].copy()\n",
    "\n",
    "films = get_df_films(l[0], 'Interstellar')"
   ]
  },
  {
   "cell_type": "code",
   "execution_count": 263,
   "id": "cheap-facing",
   "metadata": {},
   "outputs": [
    {
     "data": {
      "text/html": [
       "<div>\n",
       "<style scoped>\n",
       "    .dataframe tbody tr th:only-of-type {\n",
       "        vertical-align: middle;\n",
       "    }\n",
       "\n",
       "    .dataframe tbody tr th {\n",
       "        vertical-align: top;\n",
       "    }\n",
       "\n",
       "    .dataframe thead th {\n",
       "        text-align: right;\n",
       "    }\n",
       "</style>\n",
       "<table border=\"1\" class=\"dataframe\">\n",
       "  <thead>\n",
       "    <tr style=\"text-align: right;\">\n",
       "      <th></th>\n",
       "      <th>id</th>\n",
       "      <th>title</th>\n",
       "      <th>genre</th>\n",
       "      <th>country</th>\n",
       "      <th>epoch</th>\n",
       "      <th>duration</th>\n",
       "      <th>known</th>\n",
       "      <th>description</th>\n",
       "      <th>documents</th>\n",
       "      <th>labels</th>\n",
       "    </tr>\n",
       "  </thead>\n",
       "  <tbody>\n",
       "    <tr>\n",
       "      <th>255</th>\n",
       "      <td>tt0027623</td>\n",
       "      <td>Flash Gordon</td>\n",
       "      <td>Action, Adventure, Sci-Fi</td>\n",
       "      <td>USA</td>\n",
       "      <td>classic</td>\n",
       "      <td>long</td>\n",
       "      <td>unknown</td>\n",
       "      <td>Flash Gordon, Dale Arden and Dr. Alexis Zarkov...</td>\n",
       "      <td>action  adventure  sci-fi classic unknown</td>\n",
       "      <td>70</td>\n",
       "    </tr>\n",
       "    <tr>\n",
       "      <th>1242</th>\n",
       "      <td>tt0049223</td>\n",
       "      <td>Forbidden Planet</td>\n",
       "      <td>Action, Adventure, Sci-Fi</td>\n",
       "      <td>USA, Japan</td>\n",
       "      <td>classic</td>\n",
       "      <td>normal</td>\n",
       "      <td>known</td>\n",
       "      <td>A starship crew goes to investigate the silenc...</td>\n",
       "      <td>action  adventure  sci-fi classic known</td>\n",
       "      <td>70</td>\n",
       "    </tr>\n",
       "    <tr>\n",
       "      <th>1513</th>\n",
       "      <td>tt0053464</td>\n",
       "      <td>Yûsei ôji</td>\n",
       "      <td>Action, Adventure, Sci-Fi</td>\n",
       "      <td>Japan</td>\n",
       "      <td>classic</td>\n",
       "      <td>normal</td>\n",
       "      <td>unknown</td>\n",
       "      <td>When an alien force tries to invade Earth to s...</td>\n",
       "      <td>action  adventure  sci-fi classic unknown</td>\n",
       "      <td>70</td>\n",
       "    </tr>\n",
       "    <tr>\n",
       "      <th>1645</th>\n",
       "      <td>tt0055294</td>\n",
       "      <td>The Phantom Planet</td>\n",
       "      <td>Action, Adventure, Sci-Fi</td>\n",
       "      <td>USA</td>\n",
       "      <td>classic</td>\n",
       "      <td>short</td>\n",
       "      <td>unknown</td>\n",
       "      <td>After an invisible asteroid draws an astronaut...</td>\n",
       "      <td>action  adventure  sci-fi classic unknown</td>\n",
       "      <td>70</td>\n",
       "    </tr>\n",
       "    <tr>\n",
       "      <th>1663</th>\n",
       "      <td>tt0055608</td>\n",
       "      <td>Voyage to the Bottom of the Sea</td>\n",
       "      <td>Action, Adventure, Sci-Fi</td>\n",
       "      <td>USA</td>\n",
       "      <td>classic</td>\n",
       "      <td>normal</td>\n",
       "      <td>unknown</td>\n",
       "      <td>When the Earth is threatened by a burning Van ...</td>\n",
       "      <td>action  adventure  sci-fi classic unknown</td>\n",
       "      <td>70</td>\n",
       "    </tr>\n",
       "  </tbody>\n",
       "</table>\n",
       "</div>"
      ],
      "text/plain": [
       "             id                            title                      genre  \\\n",
       "255   tt0027623                     Flash Gordon  Action, Adventure, Sci-Fi   \n",
       "1242  tt0049223                 Forbidden Planet  Action, Adventure, Sci-Fi   \n",
       "1513  tt0053464                        Yûsei ôji  Action, Adventure, Sci-Fi   \n",
       "1645  tt0055294               The Phantom Planet  Action, Adventure, Sci-Fi   \n",
       "1663  tt0055608  Voyage to the Bottom of the Sea  Action, Adventure, Sci-Fi   \n",
       "\n",
       "         country    epoch duration    known  \\\n",
       "255          USA  classic     long  unknown   \n",
       "1242  USA, Japan  classic   normal    known   \n",
       "1513       Japan  classic   normal  unknown   \n",
       "1645         USA  classic    short  unknown   \n",
       "1663         USA  classic   normal  unknown   \n",
       "\n",
       "                                            description  \\\n",
       "255   Flash Gordon, Dale Arden and Dr. Alexis Zarkov...   \n",
       "1242  A starship crew goes to investigate the silenc...   \n",
       "1513  When an alien force tries to invade Earth to s...   \n",
       "1645  After an invisible asteroid draws an astronaut...   \n",
       "1663  When the Earth is threatened by a burning Van ...   \n",
       "\n",
       "                                      documents  labels  \n",
       "255   action  adventure  sci-fi classic unknown      70  \n",
       "1242    action  adventure  sci-fi classic known      70  \n",
       "1513  action  adventure  sci-fi classic unknown      70  \n",
       "1645  action  adventure  sci-fi classic unknown      70  \n",
       "1663  action  adventure  sci-fi classic unknown      70  "
      ]
     },
     "execution_count": 263,
     "metadata": {},
     "output_type": "execute_result"
    }
   ],
   "source": [
    "films.head(5)"
   ]
  },
  {
   "cell_type": "code",
   "execution_count": 264,
   "id": "clear-jackson",
   "metadata": {},
   "outputs": [
    {
     "data": {
      "text/plain": [
       "(190, 11)"
      ]
     },
     "execution_count": 264,
     "metadata": {},
     "output_type": "execute_result"
    }
   ],
   "source": [
    "films = films.reset_index()\n",
    "films = films.drop_duplicates(subset=['title'], keep='last')\n",
    "films.shape"
   ]
  },
  {
   "cell_type": "code",
   "execution_count": 265,
   "id": "tired-placement",
   "metadata": {},
   "outputs": [],
   "source": [
    "def get_recommendation(dataframe, film):\n",
    "    \n",
    "    indice_movies = pd.Series(dataframe.index, index=dataframe['title'])\n",
    "\n",
    "    tfidf2 = TfidfVectorizer(stop_words='english')\n",
    "    matrix_tfidf = tfidf.fit_transform(dataframe['documents'])\n",
    "\n",
    "    cos_sim = cosine_similarity(matrix_tfidf, matrix_tfidf)\n",
    "\n",
    "    scores = sorted(list(enumerate(cos_sim[indice_movies[film]])), key=lambda l: l[1], reverse=True)\n",
    "\n",
    "    movie_indices = [f[0] for f in scores[:10]]\n",
    "\n",
    "    return dataframe['title'].iloc[movie_indices]"
   ]
  },
  {
   "cell_type": "code",
   "execution_count": 266,
   "id": "resistant-graduation",
   "metadata": {},
   "outputs": [],
   "source": [
    " r = get_recommendation(films, 'Interstellar')"
   ]
  },
  {
   "cell_type": "code",
   "execution_count": 267,
   "id": "structural-choice",
   "metadata": {},
   "outputs": [
    {
     "data": {
      "text/html": [
       "<div>\n",
       "<style scoped>\n",
       "    .dataframe tbody tr th:only-of-type {\n",
       "        vertical-align: middle;\n",
       "    }\n",
       "\n",
       "    .dataframe tbody tr th {\n",
       "        vertical-align: top;\n",
       "    }\n",
       "\n",
       "    .dataframe thead th {\n",
       "        text-align: right;\n",
       "    }\n",
       "</style>\n",
       "<table border=\"1\" class=\"dataframe\">\n",
       "  <thead>\n",
       "    <tr style=\"text-align: right;\">\n",
       "      <th></th>\n",
       "      <th>title</th>\n",
       "    </tr>\n",
       "  </thead>\n",
       "  <tbody>\n",
       "    <tr>\n",
       "      <th>0</th>\n",
       "      <td>Star Trek VI: The Undiscovered Country</td>\n",
       "    </tr>\n",
       "    <tr>\n",
       "      <th>1</th>\n",
       "      <td>Jurassic Park</td>\n",
       "    </tr>\n",
       "    <tr>\n",
       "      <th>2</th>\n",
       "      <td>Stargate</td>\n",
       "    </tr>\n",
       "    <tr>\n",
       "      <th>3</th>\n",
       "      <td>Waterworld</td>\n",
       "    </tr>\n",
       "    <tr>\n",
       "      <th>4</th>\n",
       "      <td>Escape from L.A.</td>\n",
       "    </tr>\n",
       "    <tr>\n",
       "      <th>5</th>\n",
       "      <td>Independence Day</td>\n",
       "    </tr>\n",
       "    <tr>\n",
       "      <th>6</th>\n",
       "      <td>The Fifth Element</td>\n",
       "    </tr>\n",
       "    <tr>\n",
       "      <th>7</th>\n",
       "      <td>The Lost World: Jurassic Park</td>\n",
       "    </tr>\n",
       "    <tr>\n",
       "      <th>8</th>\n",
       "      <td>Starship Troopers</td>\n",
       "    </tr>\n",
       "    <tr>\n",
       "      <th>9</th>\n",
       "      <td>Armageddon</td>\n",
       "    </tr>\n",
       "  </tbody>\n",
       "</table>\n",
       "</div>"
      ],
      "text/plain": [
       "                                    title\n",
       "0  Star Trek VI: The Undiscovered Country\n",
       "1                           Jurassic Park\n",
       "2                                Stargate\n",
       "3                              Waterworld\n",
       "4                        Escape from L.A.\n",
       "5                        Independence Day\n",
       "6                       The Fifth Element\n",
       "7           The Lost World: Jurassic Park\n",
       "8                       Starship Troopers\n",
       "9                              Armageddon"
      ]
     },
     "execution_count": 267,
     "metadata": {},
     "output_type": "execute_result"
    }
   ],
   "source": [
    "r.reset_index().drop('index', axis=1)"
   ]
  },
  {
   "cell_type": "code",
   "execution_count": 268,
   "id": "caring-arrangement",
   "metadata": {},
   "outputs": [
    {
     "name": "stdout",
     "output_type": "stream",
     "text": [
      "kmeans-films.joblib\r\n"
     ]
    }
   ],
   "source": [
    "!ls Models"
   ]
  },
  {
   "cell_type": "code",
   "execution_count": 269,
   "id": "together-compiler",
   "metadata": {},
   "outputs": [
    {
     "data": {
      "text/plain": [
       "['./Models/kmeans-films.joblib']"
      ]
     },
     "execution_count": 269,
     "metadata": {},
     "output_type": "execute_result"
    }
   ],
   "source": [
    "dump(kmeans, './Models/kmeans-films.joblib')"
   ]
  },
  {
   "cell_type": "code",
   "execution_count": null,
   "id": "characteristic-phrase",
   "metadata": {},
   "outputs": [],
   "source": []
  }
 ],
 "metadata": {
  "kernelspec": {
   "display_name": "Python 3",
   "language": "python",
   "name": "python3"
  },
  "language_info": {
   "codemirror_mode": {
    "name": "ipython",
    "version": 3
   },
   "file_extension": ".py",
   "mimetype": "text/x-python",
   "name": "python",
   "nbconvert_exporter": "python",
   "pygments_lexer": "ipython3",
   "version": "3.8.5"
  }
 },
 "nbformat": 4,
 "nbformat_minor": 5
}
