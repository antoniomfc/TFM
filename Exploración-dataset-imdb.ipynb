{
 "cells": [
  {
   "cell_type": "markdown",
   "id": "trying-signature",
   "metadata": {},
   "source": [
    "# Exploración dataset imdb\n",
    "\n",
    "Notebook inicial para explorar los dataset de películas de imdb. Han sido descargados de [Kaggle](https://www.kaggle.com/stefanoleone992/imdb-extensive-dataset)\n",
    "\n",
    "[imdb](https://www.imdb.com/interfaces/)"
   ]
  },
  {
   "cell_type": "code",
   "execution_count": 67,
   "id": "senior-draft",
   "metadata": {},
   "outputs": [],
   "source": [
    "import pandas as pd\n",
    "import matplotlib.pyplot as plt\n",
    "import numpy as np\n",
    "\n",
    "%matplotlib inline"
   ]
  },
  {
   "cell_type": "code",
   "execution_count": 68,
   "id": "compressed-status",
   "metadata": {},
   "outputs": [
    {
     "name": "stdout",
     "output_type": "stream",
     "text": [
      "ratings.tsv titles.tsv\r\n"
     ]
    }
   ],
   "source": [
    "!ls ./data"
   ]
  },
  {
   "cell_type": "code",
   "execution_count": 69,
   "id": "designing-champagne",
   "metadata": {},
   "outputs": [
    {
     "name": "stderr",
     "output_type": "stream",
     "text": [
      "/Users/antoniocantos/opt/anaconda3/envs/Master/lib/python3.8/site-packages/IPython/core/interactiveshell.py:3155: DtypeWarning: Columns (4,5) have mixed types.Specify dtype option on import or set low_memory=False.\n",
      "  has_raised = await self.run_ast_nodes(code_ast.body, cell_name,\n"
     ]
    }
   ],
   "source": [
    "# Cargamos las puntuaciones y los títulos\n",
    "df_ratings = pd.read_csv('./data/ratings.tsv', sep='\\t')\n",
    "df_titles = pd.read_csv('./data/titles.tsv', sep='\\t')"
   ]
  },
  {
   "cell_type": "code",
   "execution_count": 70,
   "id": "hydraulic-retention",
   "metadata": {},
   "outputs": [
    {
     "data": {
      "text/plain": [
       "((1174510, 3), (8138650, 9))"
      ]
     },
     "execution_count": 70,
     "metadata": {},
     "output_type": "execute_result"
    }
   ],
   "source": [
    "df_ratings.shape, df_titles.shape"
   ]
  },
  {
   "cell_type": "code",
   "execution_count": 71,
   "id": "tutorial-merit",
   "metadata": {},
   "outputs": [
    {
     "data": {
      "text/plain": [
       "tconst           0\n",
       "averageRating    0\n",
       "numVotes         0\n",
       "dtype: int64"
      ]
     },
     "execution_count": 71,
     "metadata": {},
     "output_type": "execute_result"
    }
   ],
   "source": [
    "# Del dataset sólo borramos filas en el caso de que no tengan valoraciones.\n",
    "df_ratings.isnull().sum()"
   ]
  },
  {
   "cell_type": "markdown",
   "id": "collected-expression",
   "metadata": {},
   "source": [
    "Por lo tanto, nos quedamos con el dataset de ratings para más adelante cruzarlo con el dataset de títulos.\n",
    "\n",
    "Ahora exploramos el dataset de títulos. Como vamos a ver, hay almacenadas, series, series de televisión, películas de televisión, etc."
   ]
  },
  {
   "cell_type": "code",
   "execution_count": 72,
   "id": "spatial-compact",
   "metadata": {},
   "outputs": [
    {
     "data": {
      "text/html": [
       "<div>\n",
       "<style scoped>\n",
       "    .dataframe tbody tr th:only-of-type {\n",
       "        vertical-align: middle;\n",
       "    }\n",
       "\n",
       "    .dataframe tbody tr th {\n",
       "        vertical-align: top;\n",
       "    }\n",
       "\n",
       "    .dataframe thead th {\n",
       "        text-align: right;\n",
       "    }\n",
       "</style>\n",
       "<table border=\"1\" class=\"dataframe\">\n",
       "  <thead>\n",
       "    <tr style=\"text-align: right;\">\n",
       "      <th></th>\n",
       "      <th>tconst</th>\n",
       "      <th>titleType</th>\n",
       "      <th>primaryTitle</th>\n",
       "      <th>originalTitle</th>\n",
       "      <th>isAdult</th>\n",
       "      <th>startYear</th>\n",
       "      <th>endYear</th>\n",
       "      <th>runtimeMinutes</th>\n",
       "      <th>genres</th>\n",
       "    </tr>\n",
       "  </thead>\n",
       "  <tbody>\n",
       "    <tr>\n",
       "      <th>0</th>\n",
       "      <td>tt0000001</td>\n",
       "      <td>short</td>\n",
       "      <td>Carmencita</td>\n",
       "      <td>Carmencita</td>\n",
       "      <td>0</td>\n",
       "      <td>1894</td>\n",
       "      <td>\\N</td>\n",
       "      <td>1</td>\n",
       "      <td>Documentary,Short</td>\n",
       "    </tr>\n",
       "    <tr>\n",
       "      <th>1</th>\n",
       "      <td>tt0000002</td>\n",
       "      <td>short</td>\n",
       "      <td>Le clown et ses chiens</td>\n",
       "      <td>Le clown et ses chiens</td>\n",
       "      <td>0</td>\n",
       "      <td>1892</td>\n",
       "      <td>\\N</td>\n",
       "      <td>5</td>\n",
       "      <td>Animation,Short</td>\n",
       "    </tr>\n",
       "    <tr>\n",
       "      <th>2</th>\n",
       "      <td>tt0000003</td>\n",
       "      <td>short</td>\n",
       "      <td>Pauvre Pierrot</td>\n",
       "      <td>Pauvre Pierrot</td>\n",
       "      <td>0</td>\n",
       "      <td>1892</td>\n",
       "      <td>\\N</td>\n",
       "      <td>4</td>\n",
       "      <td>Animation,Comedy,Romance</td>\n",
       "    </tr>\n",
       "    <tr>\n",
       "      <th>3</th>\n",
       "      <td>tt0000004</td>\n",
       "      <td>short</td>\n",
       "      <td>Un bon bock</td>\n",
       "      <td>Un bon bock</td>\n",
       "      <td>0</td>\n",
       "      <td>1892</td>\n",
       "      <td>\\N</td>\n",
       "      <td>12</td>\n",
       "      <td>Animation,Short</td>\n",
       "    </tr>\n",
       "    <tr>\n",
       "      <th>4</th>\n",
       "      <td>tt0000005</td>\n",
       "      <td>short</td>\n",
       "      <td>Blacksmith Scene</td>\n",
       "      <td>Blacksmith Scene</td>\n",
       "      <td>0</td>\n",
       "      <td>1893</td>\n",
       "      <td>\\N</td>\n",
       "      <td>1</td>\n",
       "      <td>Comedy,Short</td>\n",
       "    </tr>\n",
       "  </tbody>\n",
       "</table>\n",
       "</div>"
      ],
      "text/plain": [
       "      tconst titleType            primaryTitle           originalTitle  \\\n",
       "0  tt0000001     short              Carmencita              Carmencita   \n",
       "1  tt0000002     short  Le clown et ses chiens  Le clown et ses chiens   \n",
       "2  tt0000003     short          Pauvre Pierrot          Pauvre Pierrot   \n",
       "3  tt0000004     short             Un bon bock             Un bon bock   \n",
       "4  tt0000005     short        Blacksmith Scene        Blacksmith Scene   \n",
       "\n",
       "  isAdult startYear endYear runtimeMinutes                    genres  \n",
       "0       0      1894      \\N              1         Documentary,Short  \n",
       "1       0      1892      \\N              5           Animation,Short  \n",
       "2       0      1892      \\N              4  Animation,Comedy,Romance  \n",
       "3       0      1892      \\N             12           Animation,Short  \n",
       "4       0      1893      \\N              1              Comedy,Short  "
      ]
     },
     "execution_count": 72,
     "metadata": {},
     "output_type": "execute_result"
    }
   ],
   "source": [
    "df_titles.head()"
   ]
  },
  {
   "cell_type": "code",
   "execution_count": 73,
   "id": "computational-anatomy",
   "metadata": {},
   "outputs": [
    {
     "data": {
      "text/plain": [
       "tvEpisode       5958918\n",
       "short            823864\n",
       "movie            584114\n",
       "video            316339\n",
       "tvSeries         211941\n",
       "tvMovie          132393\n",
       "tvMiniSeries      38610\n",
       "tvSpecial         33568\n",
       "videoGame         28742\n",
       "tvShort           10159\n",
       "radioEpisode          1\n",
       "radioSeries           1\n",
       "Name: titleType, dtype: int64"
      ]
     },
     "execution_count": 73,
     "metadata": {},
     "output_type": "execute_result"
    }
   ],
   "source": [
    "# Comprobamos el tipo de títulos que tenemos\n",
    "df_titles.titleType.value_counts()"
   ]
  },
  {
   "cell_type": "code",
   "execution_count": 74,
   "id": "female-carry",
   "metadata": {},
   "outputs": [],
   "source": [
    "# Nos quedamos sólo con movie\n",
    "df_movies = df_titles[df_titles['titleType'] == 'movie'].copy()"
   ]
  },
  {
   "cell_type": "code",
   "execution_count": 75,
   "id": "written-observation",
   "metadata": {},
   "outputs": [
    {
     "data": {
      "text/plain": [
       "(584114, 9)"
      ]
     },
     "execution_count": 75,
     "metadata": {},
     "output_type": "execute_result"
    }
   ],
   "source": [
    "df_movies.shape"
   ]
  },
  {
   "cell_type": "code",
   "execution_count": 76,
   "id": "august-bargain",
   "metadata": {},
   "outputs": [
    {
     "data": {
      "text/plain": [
       "7554536"
      ]
     },
     "execution_count": 76,
     "metadata": {},
     "output_type": "execute_result"
    }
   ],
   "source": [
    "# Como podemos observar, hemos reducido el dataset 7554536 filas.\n",
    "df_titles.shape[0] - df_movies.shape[0]"
   ]
  },
  {
   "cell_type": "code",
   "execution_count": 77,
   "id": "changed-clinic",
   "metadata": {},
   "outputs": [
    {
     "data": {
      "text/plain": [
       "tconst            0\n",
       "titleType         0\n",
       "primaryTitle      0\n",
       "originalTitle     0\n",
       "isAdult           0\n",
       "startYear         0\n",
       "endYear           0\n",
       "runtimeMinutes    0\n",
       "genres            0\n",
       "dtype: int64"
      ]
     },
     "execution_count": 77,
     "metadata": {},
     "output_type": "execute_result"
    }
   ],
   "source": [
    "# Comprobamos los valores nulos del dataset\n",
    "df_movies.isnull().sum()"
   ]
  },
  {
   "cell_type": "code",
   "execution_count": 78,
   "id": "linear-recipe",
   "metadata": {},
   "outputs": [],
   "source": [
    "# Nos vamos a quedar con las columnas tconst, originalTitle, isAdult, startYear, runtimeMinutes y genres\n",
    "df_movies.drop(['titleType', 'primaryTitle', 'endYear'], axis=1, inplace=True)"
   ]
  },
  {
   "cell_type": "code",
   "execution_count": 79,
   "id": "loose-booth",
   "metadata": {},
   "outputs": [],
   "source": [
    "# Ahora vamos a realizar un merge entre los dos dataset que estamos trabajando, movies y ratings\n",
    "df = df_movies.merge(df_ratings, on='tconst')"
   ]
  },
  {
   "cell_type": "code",
   "execution_count": 80,
   "id": "dental-ground",
   "metadata": {},
   "outputs": [
    {
     "data": {
      "text/html": [
       "<div>\n",
       "<style scoped>\n",
       "    .dataframe tbody tr th:only-of-type {\n",
       "        vertical-align: middle;\n",
       "    }\n",
       "\n",
       "    .dataframe tbody tr th {\n",
       "        vertical-align: top;\n",
       "    }\n",
       "\n",
       "    .dataframe thead th {\n",
       "        text-align: right;\n",
       "    }\n",
       "</style>\n",
       "<table border=\"1\" class=\"dataframe\">\n",
       "  <thead>\n",
       "    <tr style=\"text-align: right;\">\n",
       "      <th></th>\n",
       "      <th>tconst</th>\n",
       "      <th>originalTitle</th>\n",
       "      <th>isAdult</th>\n",
       "      <th>startYear</th>\n",
       "      <th>runtimeMinutes</th>\n",
       "      <th>genres</th>\n",
       "      <th>averageRating</th>\n",
       "      <th>numVotes</th>\n",
       "    </tr>\n",
       "  </thead>\n",
       "  <tbody>\n",
       "    <tr>\n",
       "      <th>0</th>\n",
       "      <td>tt0000502</td>\n",
       "      <td>Bohemios</td>\n",
       "      <td>0</td>\n",
       "      <td>1905</td>\n",
       "      <td>100</td>\n",
       "      <td>\\N</td>\n",
       "      <td>4.5</td>\n",
       "      <td>10</td>\n",
       "    </tr>\n",
       "    <tr>\n",
       "      <th>1</th>\n",
       "      <td>tt0000574</td>\n",
       "      <td>The Story of the Kelly Gang</td>\n",
       "      <td>0</td>\n",
       "      <td>1906</td>\n",
       "      <td>70</td>\n",
       "      <td>Action,Adventure,Biography</td>\n",
       "      <td>6.1</td>\n",
       "      <td>661</td>\n",
       "    </tr>\n",
       "    <tr>\n",
       "      <th>2</th>\n",
       "      <td>tt0000591</td>\n",
       "      <td>L'enfant prodigue</td>\n",
       "      <td>0</td>\n",
       "      <td>1907</td>\n",
       "      <td>90</td>\n",
       "      <td>Drama</td>\n",
       "      <td>5.2</td>\n",
       "      <td>10</td>\n",
       "    </tr>\n",
       "    <tr>\n",
       "      <th>3</th>\n",
       "      <td>tt0000615</td>\n",
       "      <td>Robbery Under Arms</td>\n",
       "      <td>0</td>\n",
       "      <td>1907</td>\n",
       "      <td>\\N</td>\n",
       "      <td>Drama</td>\n",
       "      <td>4.5</td>\n",
       "      <td>16</td>\n",
       "    </tr>\n",
       "    <tr>\n",
       "      <th>4</th>\n",
       "      <td>tt0000630</td>\n",
       "      <td>Amleto</td>\n",
       "      <td>0</td>\n",
       "      <td>1908</td>\n",
       "      <td>\\N</td>\n",
       "      <td>Drama</td>\n",
       "      <td>3.8</td>\n",
       "      <td>16</td>\n",
       "    </tr>\n",
       "  </tbody>\n",
       "</table>\n",
       "</div>"
      ],
      "text/plain": [
       "      tconst                originalTitle isAdult startYear runtimeMinutes  \\\n",
       "0  tt0000502                     Bohemios       0      1905            100   \n",
       "1  tt0000574  The Story of the Kelly Gang       0      1906             70   \n",
       "2  tt0000591            L'enfant prodigue       0      1907             90   \n",
       "3  tt0000615           Robbery Under Arms       0      1907             \\N   \n",
       "4  tt0000630                       Amleto       0      1908             \\N   \n",
       "\n",
       "                       genres  averageRating  numVotes  \n",
       "0                          \\N            4.5        10  \n",
       "1  Action,Adventure,Biography            6.1       661  \n",
       "2                       Drama            5.2        10  \n",
       "3                       Drama            4.5        16  \n",
       "4                       Drama            3.8        16  "
      ]
     },
     "execution_count": 80,
     "metadata": {},
     "output_type": "execute_result"
    }
   ],
   "source": [
    "df.head()"
   ]
  },
  {
   "cell_type": "code",
   "execution_count": 81,
   "id": "identified-float",
   "metadata": {},
   "outputs": [],
   "source": [
    "# Renombramos las columnas del nuevo dataset \n",
    "df.columns = ['id', 'title', 'is_adult', 'year', 'minutes', 'genres', 'average_rating', 'num_votes']"
   ]
  },
  {
   "cell_type": "code",
   "execution_count": 82,
   "id": "noble-third",
   "metadata": {},
   "outputs": [
    {
     "data": {
      "text/html": [
       "<div>\n",
       "<style scoped>\n",
       "    .dataframe tbody tr th:only-of-type {\n",
       "        vertical-align: middle;\n",
       "    }\n",
       "\n",
       "    .dataframe tbody tr th {\n",
       "        vertical-align: top;\n",
       "    }\n",
       "\n",
       "    .dataframe thead th {\n",
       "        text-align: right;\n",
       "    }\n",
       "</style>\n",
       "<table border=\"1\" class=\"dataframe\">\n",
       "  <thead>\n",
       "    <tr style=\"text-align: right;\">\n",
       "      <th></th>\n",
       "      <th>id</th>\n",
       "      <th>title</th>\n",
       "      <th>is_adult</th>\n",
       "      <th>year</th>\n",
       "      <th>minutes</th>\n",
       "      <th>genres</th>\n",
       "      <th>average_rating</th>\n",
       "      <th>num_votes</th>\n",
       "    </tr>\n",
       "  </thead>\n",
       "  <tbody>\n",
       "    <tr>\n",
       "      <th>0</th>\n",
       "      <td>tt0000502</td>\n",
       "      <td>Bohemios</td>\n",
       "      <td>0</td>\n",
       "      <td>1905</td>\n",
       "      <td>100</td>\n",
       "      <td>\\N</td>\n",
       "      <td>4.5</td>\n",
       "      <td>10</td>\n",
       "    </tr>\n",
       "    <tr>\n",
       "      <th>1</th>\n",
       "      <td>tt0000574</td>\n",
       "      <td>The Story of the Kelly Gang</td>\n",
       "      <td>0</td>\n",
       "      <td>1906</td>\n",
       "      <td>70</td>\n",
       "      <td>Action,Adventure,Biography</td>\n",
       "      <td>6.1</td>\n",
       "      <td>661</td>\n",
       "    </tr>\n",
       "    <tr>\n",
       "      <th>2</th>\n",
       "      <td>tt0000591</td>\n",
       "      <td>L'enfant prodigue</td>\n",
       "      <td>0</td>\n",
       "      <td>1907</td>\n",
       "      <td>90</td>\n",
       "      <td>Drama</td>\n",
       "      <td>5.2</td>\n",
       "      <td>10</td>\n",
       "    </tr>\n",
       "    <tr>\n",
       "      <th>3</th>\n",
       "      <td>tt0000615</td>\n",
       "      <td>Robbery Under Arms</td>\n",
       "      <td>0</td>\n",
       "      <td>1907</td>\n",
       "      <td>\\N</td>\n",
       "      <td>Drama</td>\n",
       "      <td>4.5</td>\n",
       "      <td>16</td>\n",
       "    </tr>\n",
       "    <tr>\n",
       "      <th>4</th>\n",
       "      <td>tt0000630</td>\n",
       "      <td>Amleto</td>\n",
       "      <td>0</td>\n",
       "      <td>1908</td>\n",
       "      <td>\\N</td>\n",
       "      <td>Drama</td>\n",
       "      <td>3.8</td>\n",
       "      <td>16</td>\n",
       "    </tr>\n",
       "  </tbody>\n",
       "</table>\n",
       "</div>"
      ],
      "text/plain": [
       "          id                        title is_adult  year minutes  \\\n",
       "0  tt0000502                     Bohemios        0  1905     100   \n",
       "1  tt0000574  The Story of the Kelly Gang        0  1906      70   \n",
       "2  tt0000591            L'enfant prodigue        0  1907      90   \n",
       "3  tt0000615           Robbery Under Arms        0  1907      \\N   \n",
       "4  tt0000630                       Amleto        0  1908      \\N   \n",
       "\n",
       "                       genres  average_rating  num_votes  \n",
       "0                          \\N             4.5         10  \n",
       "1  Action,Adventure,Biography             6.1        661  \n",
       "2                       Drama             5.2         10  \n",
       "3                       Drama             4.5         16  \n",
       "4                       Drama             3.8         16  "
      ]
     },
     "execution_count": 82,
     "metadata": {},
     "output_type": "execute_result"
    }
   ],
   "source": [
    "df.head()"
   ]
  },
  {
   "cell_type": "code",
   "execution_count": 83,
   "id": "convinced-wings",
   "metadata": {},
   "outputs": [
    {
     "name": "stdout",
     "output_type": "stream",
     "text": [
      "<class 'pandas.core.frame.DataFrame'>\n",
      "Int64Index: 266573 entries, 0 to 266572\n",
      "Data columns (total 8 columns):\n",
      " #   Column          Non-Null Count   Dtype  \n",
      "---  ------          --------------   -----  \n",
      " 0   id              266573 non-null  object \n",
      " 1   title           266573 non-null  object \n",
      " 2   is_adult        266573 non-null  object \n",
      " 3   year            266573 non-null  object \n",
      " 4   minutes         266573 non-null  object \n",
      " 5   genres          266573 non-null  object \n",
      " 6   average_rating  266573 non-null  float64\n",
      " 7   num_votes       266573 non-null  int64  \n",
      "dtypes: float64(1), int64(1), object(6)\n",
      "memory usage: 18.3+ MB\n"
     ]
    }
   ],
   "source": [
    "df.info()"
   ]
  },
  {
   "cell_type": "markdown",
   "id": "executed-correspondence",
   "metadata": {},
   "source": [
    "Como podemos observar en la celda anterior, las columnas is_adult, year y minutes deberían de ser de tipo entero, pero en este caso sob de tipo objeto (string). Vamos a ver el motivo, además de realizar una limpieza de datos"
   ]
  },
  {
   "cell_type": "code",
   "execution_count": 84,
   "id": "virgin-fifth",
   "metadata": {},
   "outputs": [
    {
     "data": {
      "text/plain": [
       "0    261661\n",
       "1      4327\n",
       "0       583\n",
       "1         2\n",
       "Name: is_adult, dtype: int64"
      ]
     },
     "execution_count": 84,
     "metadata": {},
     "output_type": "execute_result"
    }
   ],
   "source": [
    "df.is_adult.value_counts()"
   ]
  },
  {
   "cell_type": "code",
   "execution_count": 85,
   "id": "nuclear-fundamentals",
   "metadata": {},
   "outputs": [],
   "source": [
    "# Transformamos todos los valores a enteros\n",
    "df.is_adult = df.is_adult.astype(int)"
   ]
  },
  {
   "cell_type": "code",
   "execution_count": 86,
   "id": "competitive-cream",
   "metadata": {},
   "outputs": [
    {
     "name": "stdout",
     "output_type": "stream",
     "text": [
      "<class 'pandas.core.frame.DataFrame'>\n",
      "Int64Index: 266573 entries, 0 to 266572\n",
      "Data columns (total 8 columns):\n",
      " #   Column          Non-Null Count   Dtype  \n",
      "---  ------          --------------   -----  \n",
      " 0   id              266573 non-null  object \n",
      " 1   title           266573 non-null  object \n",
      " 2   is_adult        266573 non-null  int64  \n",
      " 3   year            266573 non-null  object \n",
      " 4   minutes         266573 non-null  object \n",
      " 5   genres          266573 non-null  object \n",
      " 6   average_rating  266573 non-null  float64\n",
      " 7   num_votes       266573 non-null  int64  \n",
      "dtypes: float64(1), int64(2), object(5)\n",
      "memory usage: 18.3+ MB\n"
     ]
    }
   ],
   "source": [
    "df.info()"
   ]
  },
  {
   "cell_type": "markdown",
   "id": "otherwise-aquarium",
   "metadata": {},
   "source": [
    "La columna is_adult ya es de  tipo entero. Continuamos por year"
   ]
  },
  {
   "cell_type": "code",
   "execution_count": 87,
   "id": "placed-tokyo",
   "metadata": {},
   "outputs": [
    {
     "data": {
      "text/plain": [
       "2017    9803\n",
       "2018    9680\n",
       "2016    9451\n",
       "2019    9424\n",
       "2015    9078\n",
       "        ... \n",
       "2014       1\n",
       "2019       1\n",
       "1904       1\n",
       "1896       1\n",
       "1901       1\n",
       "Name: year, Length: 215, dtype: int64"
      ]
     },
     "execution_count": 87,
     "metadata": {},
     "output_type": "execute_result"
    }
   ],
   "source": [
    "df.year.value_counts()"
   ]
  },
  {
   "cell_type": "code",
   "execution_count": 88,
   "id": "lightweight-jimmy",
   "metadata": {},
   "outputs": [
    {
     "data": {
      "text/plain": [
       "(28, 266573)"
      ]
     },
     "execution_count": 88,
     "metadata": {},
     "output_type": "execute_result"
    }
   ],
   "source": [
    "# El problema que nos encontramos, es que tienen algunas columnas con el valor \\N\n",
    "len(df[df.year == '\\\\N']), len(df)"
   ]
  },
  {
   "cell_type": "code",
   "execution_count": 89,
   "id": "located-spectacular",
   "metadata": {},
   "outputs": [],
   "source": [
    "# Como son sólo 28 filas, las borramos del dataset\n",
    "df = df[df['year'] != '\\\\N']"
   ]
  },
  {
   "cell_type": "code",
   "execution_count": 90,
   "id": "handed-trustee",
   "metadata": {},
   "outputs": [
    {
     "data": {
      "text/plain": [
       "266545"
      ]
     },
     "execution_count": 90,
     "metadata": {},
     "output_type": "execute_result"
    }
   ],
   "source": [
    "len(df)"
   ]
  },
  {
   "cell_type": "code",
   "execution_count": 91,
   "id": "external-sector",
   "metadata": {},
   "outputs": [],
   "source": [
    "df.year = df.year.astype(int)"
   ]
  },
  {
   "cell_type": "code",
   "execution_count": 92,
   "id": "opposed-garden",
   "metadata": {},
   "outputs": [
    {
     "name": "stdout",
     "output_type": "stream",
     "text": [
      "<class 'pandas.core.frame.DataFrame'>\n",
      "Int64Index: 266545 entries, 0 to 266572\n",
      "Data columns (total 8 columns):\n",
      " #   Column          Non-Null Count   Dtype  \n",
      "---  ------          --------------   -----  \n",
      " 0   id              266545 non-null  object \n",
      " 1   title           266545 non-null  object \n",
      " 2   is_adult        266545 non-null  int64  \n",
      " 3   year            266545 non-null  int64  \n",
      " 4   minutes         266545 non-null  object \n",
      " 5   genres          266545 non-null  object \n",
      " 6   average_rating  266545 non-null  float64\n",
      " 7   num_votes       266545 non-null  int64  \n",
      "dtypes: float64(1), int64(3), object(4)\n",
      "memory usage: 18.3+ MB\n"
     ]
    }
   ],
   "source": [
    "df.info()"
   ]
  },
  {
   "cell_type": "markdown",
   "id": "manufactured-madison",
   "metadata": {},
   "source": [
    "Nos queda por último los minutos, que también tiene el problema de que tiene \\N"
   ]
  },
  {
   "cell_type": "code",
   "execution_count": 93,
   "id": "sweet-click",
   "metadata": {},
   "outputs": [
    {
     "data": {
      "text/plain": [
       "27128"
      ]
     },
     "execution_count": 93,
     "metadata": {},
     "output_type": "execute_result"
    }
   ],
   "source": [
    "len(df[df.minutes == '\\\\N'])"
   ]
  },
  {
   "cell_type": "markdown",
   "id": "solid-violin",
   "metadata": {},
   "source": [
    "En este caso tenemos 27128 filas con la columna minutos a \\\\N de 266545 filas. Vamos a ver cuál es la media y media de la columna para sustituirla por las filas donde tengan \\\\N"
   ]
  },
  {
   "cell_type": "code",
   "execution_count": 94,
   "id": "abroad-machinery",
   "metadata": {},
   "outputs": [
    {
     "data": {
      "text/plain": [
       "(94.29620285944607, 91.0)"
      ]
     },
     "execution_count": 94,
     "metadata": {},
     "output_type": "execute_result"
    }
   ],
   "source": [
    "df[df.minutes != '\\\\N']['minutes'].astype(int).mean(), df[df.minutes != '\\\\N']['minutes'].astype(int).median()"
   ]
  },
  {
   "cell_type": "code",
   "execution_count": 95,
   "id": "expected-surgery",
   "metadata": {},
   "outputs": [],
   "source": [
    "# Son muy similares, aplicamos la mediana al dataset\n",
    "median = int(df[df.minutes != '\\\\N']['minutes'].astype(int).median())\n",
    "df.minutes = df.minutes.apply(lambda x: int(x) if x != '\\\\N' else median)"
   ]
  },
  {
   "cell_type": "code",
   "execution_count": 96,
   "id": "former-roots",
   "metadata": {},
   "outputs": [
    {
     "name": "stdout",
     "output_type": "stream",
     "text": [
      "<class 'pandas.core.frame.DataFrame'>\n",
      "Int64Index: 266545 entries, 0 to 266572\n",
      "Data columns (total 8 columns):\n",
      " #   Column          Non-Null Count   Dtype  \n",
      "---  ------          --------------   -----  \n",
      " 0   id              266545 non-null  object \n",
      " 1   title           266545 non-null  object \n",
      " 2   is_adult        266545 non-null  int64  \n",
      " 3   year            266545 non-null  int64  \n",
      " 4   minutes         266545 non-null  int64  \n",
      " 5   genres          266545 non-null  object \n",
      " 6   average_rating  266545 non-null  float64\n",
      " 7   num_votes       266545 non-null  int64  \n",
      "dtypes: float64(1), int64(4), object(3)\n",
      "memory usage: 18.3+ MB\n"
     ]
    }
   ],
   "source": [
    "df.info()"
   ]
  },
  {
   "cell_type": "markdown",
   "id": "angry-beach",
   "metadata": {},
   "source": [
    "Una vez que tenemos los atributos cuantitativos limpios, vemos el resto de atributos cualitativos"
   ]
  },
  {
   "cell_type": "code",
   "execution_count": 97,
   "id": "closed-nutrition",
   "metadata": {},
   "outputs": [
    {
     "data": {
      "text/plain": [
       "Drama                          45415\n",
       "Documentary                    25837\n",
       "Comedy                         23020\n",
       "\\N                             10176\n",
       "Comedy,Drama                    8630\n",
       "                               ...  \n",
       "Documentary,News,Reality-TV        1\n",
       "Musical,Sci-Fi,Thriller            1\n",
       "Biography,Drama,Film-Noir          1\n",
       "Action,Adult,Sci-Fi                1\n",
       "Adult,Adventure,Mystery            1\n",
       "Name: genres, Length: 1265, dtype: int64"
      ]
     },
     "execution_count": 97,
     "metadata": {},
     "output_type": "execute_result"
    }
   ],
   "source": [
    "df.genres.value_counts()"
   ]
  },
  {
   "cell_type": "code",
   "execution_count": 98,
   "id": "universal-notion",
   "metadata": {},
   "outputs": [
    {
     "data": {
      "text/plain": [
       "254773    2076\n",
       "254768    1594\n",
       "254763    1132\n",
       "254761    1025\n",
       "169012     768\n",
       "          ... \n",
       "102862       5\n",
       "102479       5\n",
       "102095       5\n",
       "101158       5\n",
       "266534       5\n",
       "Name: num_votes, Length: 10176, dtype: int64"
      ]
     },
     "execution_count": 98,
     "metadata": {},
     "output_type": "execute_result"
    }
   ],
   "source": [
    "df[df['genres'] == '\\\\N'].sort_values(by='num_votes', ascending=False)['num_votes']"
   ]
  },
  {
   "cell_type": "code",
   "execution_count": 99,
   "id": "under-ordinance",
   "metadata": {},
   "outputs": [
    {
     "data": {
      "image/png": "[encoded data removed]",
      "text/plain": [
       "<Figure size 432x288 with 1 Axes>"
      ]
     },
     "metadata": {
      "needs_background": "light"
     },
     "output_type": "display_data"
    }
   ],
   "source": [
    "df[df['genres'] == '\\\\N'].sort_values(by='num_votes', ascending=False)['num_votes'].plot(kind='box');"
   ]
  },
  {
   "cell_type": "code",
   "execution_count": 100,
   "id": "comprehensive-husband",
   "metadata": {},
   "outputs": [
    {
     "data": {
      "text/plain": [
       "count    10176.000000\n",
       "mean        16.888660\n",
       "std         36.249264\n",
       "min          5.000000\n",
       "25%          8.000000\n",
       "50%         11.000000\n",
       "75%         19.000000\n",
       "max       2076.000000\n",
       "Name: num_votes, dtype: float64"
      ]
     },
     "execution_count": 100,
     "metadata": {},
     "output_type": "execute_result"
    }
   ],
   "source": [
    "df[df['genres'] == '\\\\N'].sort_values(by='num_votes', ascending=False)['num_votes'].describe()"
   ]
  },
  {
   "cell_type": "code",
   "execution_count": 101,
   "id": "grand-links",
   "metadata": {},
   "outputs": [
    {
     "data": {
      "text/plain": [
       "70.25"
      ]
     },
     "execution_count": 101,
     "metadata": {},
     "output_type": "execute_result"
    }
   ],
   "source": [
    "df[df['genres'] == '\\\\N'].sort_values(by='num_votes', ascending=False)['num_votes'].quantile(0.99)"
   ]
  },
  {
   "cell_type": "markdown",
   "id": "informed-delaware",
   "metadata": {},
   "source": [
    "Como podemos observar, el 99% de las películas tiene menos de 70 votos, teniendo en cuenta la página web más usada por usuarios como es imdb a nivel mundial, hace pensar que son películas muy poco conocidas y que seguramente es difícil de encontrar para verlas en la actualidad. Por lo tanto, se opta por borrar las todas las películas que no tienen género."
   ]
  },
  {
   "cell_type": "code",
   "execution_count": 102,
   "id": "confident-small",
   "metadata": {},
   "outputs": [],
   "source": [
    "df = df[df['genres'] != '\\\\N']"
   ]
  },
  {
   "cell_type": "code",
   "execution_count": 103,
   "id": "southwest-belly",
   "metadata": {},
   "outputs": [
    {
     "data": {
      "text/plain": [
       "(256369, 8)"
      ]
     },
     "execution_count": 103,
     "metadata": {},
     "output_type": "execute_result"
    }
   ],
   "source": [
    "df.shape"
   ]
  },
  {
   "cell_type": "markdown",
   "id": "perfect-victory",
   "metadata": {},
   "source": [
    "Borramos la columna is_adult ya que sólo hay 19 filas con el valor 1. De hecho, además de la columna, vamos a borrar las 19 filas ya que en el futuro chatbot no queremos recomendar a un posible usuario menor de 18 años una película para adultos"
   ]
  },
  {
   "cell_type": "code",
   "execution_count": 111,
   "id": "infrared-raleigh",
   "metadata": {},
   "outputs": [
    {
     "data": {
      "text/plain": [
       "0    34282\n",
       "1       19\n",
       "Name: is_adult, dtype: int64"
      ]
     },
     "execution_count": 111,
     "metadata": {},
     "output_type": "execute_result"
    }
   ],
   "source": [
    "df.is_adult.value_counts()"
   ]
  },
  {
   "cell_type": "code",
   "execution_count": 112,
   "id": "considerable-marker",
   "metadata": {},
   "outputs": [
    {
     "data": {
      "text/plain": [
       "Index(['id', 'title', 'year', 'minutes', 'genres', 'average_rating',\n",
       "       'num_votes'],\n",
       "      dtype='object')"
      ]
     },
     "execution_count": 112,
     "metadata": {},
     "output_type": "execute_result"
    }
   ],
   "source": [
    "df = df[df.is_adult != 1]\n",
    "df.drop('is_adult', axis=1, inplace=True)\n",
    "df.columns"
   ]
  },
  {
   "cell_type": "markdown",
   "id": "wanted-drinking",
   "metadata": {},
   "source": [
    "A continuación comprobamos si hay alguna fila con el título a \\\\N"
   ]
  },
  {
   "cell_type": "code",
   "execution_count": 104,
   "id": "boxed-potter",
   "metadata": {},
   "outputs": [
    {
     "data": {
      "text/html": [
       "<div>\n",
       "<style scoped>\n",
       "    .dataframe tbody tr th:only-of-type {\n",
       "        vertical-align: middle;\n",
       "    }\n",
       "\n",
       "    .dataframe tbody tr th {\n",
       "        vertical-align: top;\n",
       "    }\n",
       "\n",
       "    .dataframe thead th {\n",
       "        text-align: right;\n",
       "    }\n",
       "</style>\n",
       "<table border=\"1\" class=\"dataframe\">\n",
       "  <thead>\n",
       "    <tr style=\"text-align: right;\">\n",
       "      <th></th>\n",
       "      <th>id</th>\n",
       "      <th>title</th>\n",
       "      <th>is_adult</th>\n",
       "      <th>year</th>\n",
       "      <th>minutes</th>\n",
       "      <th>genres</th>\n",
       "      <th>average_rating</th>\n",
       "      <th>num_votes</th>\n",
       "    </tr>\n",
       "  </thead>\n",
       "  <tbody>\n",
       "  </tbody>\n",
       "</table>\n",
       "</div>"
      ],
      "text/plain": [
       "Empty DataFrame\n",
       "Columns: [id, title, is_adult, year, minutes, genres, average_rating, num_votes]\n",
       "Index: []"
      ]
     },
     "execution_count": 104,
     "metadata": {},
     "output_type": "execute_result"
    }
   ],
   "source": [
    "df[df.title == '\\\\N']"
   ]
  },
  {
   "cell_type": "markdown",
   "id": "mediterranean-sherman",
   "metadata": {},
   "source": [
    "Vemos que no existe ninguna, por lo tanto ya tenemos limpio el dataset, teniendo 256369 películas."
   ]
  },
  {
   "cell_type": "markdown",
   "id": "proud-ballet",
   "metadata": {},
   "source": [
    "Vamos ahora a ver cómo están distribuidos el número de votaciones de las películas, ya que una película poco valorada por los usuarios, no estará en el dataset debido a que cuando se recomiende una película en el futuro chatbot, esta película se entiende que debería poder ser accesible al usuario o bien a través del alquilere o por alguna plataforma de streaming. Tener pocos votos hoy en día puede implicar que la películas es difícil de obtener por algunos de los medios comentados."
   ]
  },
  {
   "cell_type": "code",
   "execution_count": 105,
   "id": "invalid-volunteer",
   "metadata": {},
   "outputs": [
    {
     "data": {
      "text/plain": [
       "count     256369.000000\n",
       "mean        3514.531780\n",
       "std        33283.293103\n",
       "min            5.000000\n",
       "25%           17.000000\n",
       "50%           59.000000\n",
       "75%          298.000000\n",
       "max      2429764.000000\n",
       "Name: num_votes, dtype: object"
      ]
     },
     "execution_count": 105,
     "metadata": {},
     "output_type": "execute_result"
    }
   ],
   "source": [
    "df.num_votes.describe().apply(lambda x: format(x, 'f'))"
   ]
  },
  {
   "cell_type": "markdown",
   "id": "surrounded-swaziland",
   "metadata": {},
   "source": [
    "Eliminamos las películas que tengan menos de 1000 votos, pero antes guardamos el dataset limpio"
   ]
  },
  {
   "cell_type": "code",
   "execution_count": 106,
   "id": "stunning-bandwidth",
   "metadata": {},
   "outputs": [],
   "source": [
    "df.to_csv('./data/movies_clean.csv', index=False, header=True)"
   ]
  },
  {
   "cell_type": "code",
   "execution_count": 107,
   "id": "elect-jordan",
   "metadata": {},
   "outputs": [],
   "source": [
    "# Eliminamos del dataframe las películas con menos de 1000 votos\n",
    "df = df[df['num_votes'] >= 1000]"
   ]
  },
  {
   "cell_type": "code",
   "execution_count": 113,
   "id": "inclusive-constraint",
   "metadata": {},
   "outputs": [
    {
     "data": {
      "text/plain": [
       "(34282, 7)"
      ]
     },
     "execution_count": 113,
     "metadata": {},
     "output_type": "execute_result"
    }
   ],
   "source": [
    "df.shape"
   ]
  },
  {
   "cell_type": "markdown",
   "id": "latest-wellington",
   "metadata": {},
   "source": [
    "Ahora tenemos 34282 películas."
   ]
  },
  {
   "cell_type": "code",
   "execution_count": 114,
   "id": "approximate-subscription",
   "metadata": {},
   "outputs": [
    {
     "data": {
      "text/html": [
       "<div>\n",
       "<style scoped>\n",
       "    .dataframe tbody tr th:only-of-type {\n",
       "        vertical-align: middle;\n",
       "    }\n",
       "\n",
       "    .dataframe tbody tr th {\n",
       "        vertical-align: top;\n",
       "    }\n",
       "\n",
       "    .dataframe thead th {\n",
       "        text-align: right;\n",
       "    }\n",
       "</style>\n",
       "<table border=\"1\" class=\"dataframe\">\n",
       "  <thead>\n",
       "    <tr style=\"text-align: right;\">\n",
       "      <th></th>\n",
       "      <th>id</th>\n",
       "      <th>title</th>\n",
       "      <th>year</th>\n",
       "      <th>minutes</th>\n",
       "      <th>genres</th>\n",
       "      <th>average_rating</th>\n",
       "      <th>num_votes</th>\n",
       "    </tr>\n",
       "  </thead>\n",
       "  <tbody>\n",
       "    <tr>\n",
       "      <th>56</th>\n",
       "      <td>tt0002130</td>\n",
       "      <td>L'Inferno</td>\n",
       "      <td>1911</td>\n",
       "      <td>71</td>\n",
       "      <td>Adventure,Drama,Fantasy</td>\n",
       "      <td>7.1</td>\n",
       "      <td>2549</td>\n",
       "    </tr>\n",
       "    <tr>\n",
       "      <th>84</th>\n",
       "      <td>tt0002844</td>\n",
       "      <td>Fantômas - À l'ombre de la guillotine</td>\n",
       "      <td>1913</td>\n",
       "      <td>54</td>\n",
       "      <td>Crime,Drama</td>\n",
       "      <td>7.0</td>\n",
       "      <td>2095</td>\n",
       "    </tr>\n",
       "    <tr>\n",
       "      <th>93</th>\n",
       "      <td>tt0003014</td>\n",
       "      <td>Ingeborg Holm</td>\n",
       "      <td>1913</td>\n",
       "      <td>96</td>\n",
       "      <td>Drama</td>\n",
       "      <td>7.0</td>\n",
       "      <td>1091</td>\n",
       "    </tr>\n",
       "    <tr>\n",
       "      <th>96</th>\n",
       "      <td>tt0003037</td>\n",
       "      <td>Juve contre Fantômas</td>\n",
       "      <td>1913</td>\n",
       "      <td>61</td>\n",
       "      <td>Crime,Drama</td>\n",
       "      <td>7.0</td>\n",
       "      <td>1443</td>\n",
       "    </tr>\n",
       "    <tr>\n",
       "      <th>101</th>\n",
       "      <td>tt0003165</td>\n",
       "      <td>Le mort qui tue</td>\n",
       "      <td>1913</td>\n",
       "      <td>90</td>\n",
       "      <td>Crime,Drama,Mystery</td>\n",
       "      <td>7.0</td>\n",
       "      <td>1126</td>\n",
       "    </tr>\n",
       "  </tbody>\n",
       "</table>\n",
       "</div>"
      ],
      "text/plain": [
       "            id                                  title  year  minutes  \\\n",
       "56   tt0002130                              L'Inferno  1911       71   \n",
       "84   tt0002844  Fantômas - À l'ombre de la guillotine  1913       54   \n",
       "93   tt0003014                          Ingeborg Holm  1913       96   \n",
       "96   tt0003037                   Juve contre Fantômas  1913       61   \n",
       "101  tt0003165                        Le mort qui tue  1913       90   \n",
       "\n",
       "                      genres  average_rating  num_votes  \n",
       "56   Adventure,Drama,Fantasy             7.1       2549  \n",
       "84               Crime,Drama             7.0       2095  \n",
       "93                     Drama             7.0       1091  \n",
       "96               Crime,Drama             7.0       1443  \n",
       "101      Crime,Drama,Mystery             7.0       1126  "
      ]
     },
     "execution_count": 114,
     "metadata": {},
     "output_type": "execute_result"
    }
   ],
   "source": [
    "df.head()"
   ]
  },
  {
   "cell_type": "markdown",
   "id": "interracial-squad",
   "metadata": {},
   "source": [
    "### creación de nuevas columnas en el dataset\n",
    "\n",
    "Se van a crear una serie de columnas para segmentar un poco más los datos.\n",
    "\n",
    "1. Creación de una nueva columna llamada epoca (época), en la cual tendrá tres posibles valores:\n",
    "    - Actual, desde el año 2000 hasta hoy\n",
    "    - Intermedio, desde el año 1970 hasta 1999\n",
    "    - Clásica, desde 1900 hasta 1969\n",
    "2. Creación de una nueva columna llamada duración, en la cual tendrá tres posibles valores:\n",
    "    - Corta, con un máximo de 90 minutos\n",
    "    - Normal, entre 91 y 120 minutos\n",
    "    - Larga, desde 121 minutos en adelante.\n",
    "3. División de los géneros en tres subcategorias. En el caso de que una película tenga en la columna genres un sólo género, el resto se pondrá unknown.\n",
    "    - genre_1\n",
    "    - genre_2\n",
    "    - genre_3\n",
    "4. La última columna a crear indicará si la película es:\n",
    "    - Conocida\n",
    "    - Normal\n",
    "    - Poco conocida"
   ]
  },
  {
   "cell_type": "code",
   "execution_count": 117,
   "id": "lined-madness",
   "metadata": {},
   "outputs": [],
   "source": [
    "def set_time(year):\n",
    "    if year <= 1969:\n",
    "        return 'Classic'\n",
    "    elif year > 1969 and year < 2000:\n",
    "        return 'Middle'\n",
    "    else:\n",
    "        return 'Current'\n",
    "\n",
    "df['time'] = df.year.apply(set_time)"
   ]
  },
  {
   "cell_type": "code",
   "execution_count": 118,
   "id": "funny-visibility",
   "metadata": {},
   "outputs": [
    {
     "data": {
      "text/html": [
       "<div>\n",
       "<style scoped>\n",
       "    .dataframe tbody tr th:only-of-type {\n",
       "        vertical-align: middle;\n",
       "    }\n",
       "\n",
       "    .dataframe tbody tr th {\n",
       "        vertical-align: top;\n",
       "    }\n",
       "\n",
       "    .dataframe thead th {\n",
       "        text-align: right;\n",
       "    }\n",
       "</style>\n",
       "<table border=\"1\" class=\"dataframe\">\n",
       "  <thead>\n",
       "    <tr style=\"text-align: right;\">\n",
       "      <th></th>\n",
       "      <th>id</th>\n",
       "      <th>title</th>\n",
       "      <th>year</th>\n",
       "      <th>minutes</th>\n",
       "      <th>genres</th>\n",
       "      <th>average_rating</th>\n",
       "      <th>num_votes</th>\n",
       "      <th>time</th>\n",
       "    </tr>\n",
       "  </thead>\n",
       "  <tbody>\n",
       "    <tr>\n",
       "      <th>56</th>\n",
       "      <td>tt0002130</td>\n",
       "      <td>L'Inferno</td>\n",
       "      <td>1911</td>\n",
       "      <td>71</td>\n",
       "      <td>Adventure,Drama,Fantasy</td>\n",
       "      <td>7.1</td>\n",
       "      <td>2549</td>\n",
       "      <td>Classic</td>\n",
       "    </tr>\n",
       "    <tr>\n",
       "      <th>84</th>\n",
       "      <td>tt0002844</td>\n",
       "      <td>Fantômas - À l'ombre de la guillotine</td>\n",
       "      <td>1913</td>\n",
       "      <td>54</td>\n",
       "      <td>Crime,Drama</td>\n",
       "      <td>7.0</td>\n",
       "      <td>2095</td>\n",
       "      <td>Classic</td>\n",
       "    </tr>\n",
       "    <tr>\n",
       "      <th>93</th>\n",
       "      <td>tt0003014</td>\n",
       "      <td>Ingeborg Holm</td>\n",
       "      <td>1913</td>\n",
       "      <td>96</td>\n",
       "      <td>Drama</td>\n",
       "      <td>7.0</td>\n",
       "      <td>1091</td>\n",
       "      <td>Classic</td>\n",
       "    </tr>\n",
       "    <tr>\n",
       "      <th>96</th>\n",
       "      <td>tt0003037</td>\n",
       "      <td>Juve contre Fantômas</td>\n",
       "      <td>1913</td>\n",
       "      <td>61</td>\n",
       "      <td>Crime,Drama</td>\n",
       "      <td>7.0</td>\n",
       "      <td>1443</td>\n",
       "      <td>Classic</td>\n",
       "    </tr>\n",
       "    <tr>\n",
       "      <th>101</th>\n",
       "      <td>tt0003165</td>\n",
       "      <td>Le mort qui tue</td>\n",
       "      <td>1913</td>\n",
       "      <td>90</td>\n",
       "      <td>Crime,Drama,Mystery</td>\n",
       "      <td>7.0</td>\n",
       "      <td>1126</td>\n",
       "      <td>Classic</td>\n",
       "    </tr>\n",
       "  </tbody>\n",
       "</table>\n",
       "</div>"
      ],
      "text/plain": [
       "            id                                  title  year  minutes  \\\n",
       "56   tt0002130                              L'Inferno  1911       71   \n",
       "84   tt0002844  Fantômas - À l'ombre de la guillotine  1913       54   \n",
       "93   tt0003014                          Ingeborg Holm  1913       96   \n",
       "96   tt0003037                   Juve contre Fantômas  1913       61   \n",
       "101  tt0003165                        Le mort qui tue  1913       90   \n",
       "\n",
       "                      genres  average_rating  num_votes     time  \n",
       "56   Adventure,Drama,Fantasy             7.1       2549  Classic  \n",
       "84               Crime,Drama             7.0       2095  Classic  \n",
       "93                     Drama             7.0       1091  Classic  \n",
       "96               Crime,Drama             7.0       1443  Classic  \n",
       "101      Crime,Drama,Mystery             7.0       1126  Classic  "
      ]
     },
     "execution_count": 118,
     "metadata": {},
     "output_type": "execute_result"
    }
   ],
   "source": [
    "df.head()"
   ]
  },
  {
   "cell_type": "code",
   "execution_count": 120,
   "id": "essential-beach",
   "metadata": {},
   "outputs": [],
   "source": [
    "# Creación de la columna duración (length)\n",
    "\n",
    "def set_length(minutes):\n",
    "    if minutes <= 90:\n",
    "        return 'Short'\n",
    "    elif minutes > 90 and minutes <= 120:\n",
    "        return 'Normal'\n",
    "    else:\n",
    "        return 'Long'\n",
    "    \n",
    "df['length'] = df.minutes.apply(set_length)"
   ]
  },
  {
   "cell_type": "code",
   "execution_count": 121,
   "id": "multiple-appendix",
   "metadata": {},
   "outputs": [
    {
     "data": {
      "text/html": [
       "<div>\n",
       "<style scoped>\n",
       "    .dataframe tbody tr th:only-of-type {\n",
       "        vertical-align: middle;\n",
       "    }\n",
       "\n",
       "    .dataframe tbody tr th {\n",
       "        vertical-align: top;\n",
       "    }\n",
       "\n",
       "    .dataframe thead th {\n",
       "        text-align: right;\n",
       "    }\n",
       "</style>\n",
       "<table border=\"1\" class=\"dataframe\">\n",
       "  <thead>\n",
       "    <tr style=\"text-align: right;\">\n",
       "      <th></th>\n",
       "      <th>id</th>\n",
       "      <th>title</th>\n",
       "      <th>year</th>\n",
       "      <th>minutes</th>\n",
       "      <th>genres</th>\n",
       "      <th>average_rating</th>\n",
       "      <th>num_votes</th>\n",
       "      <th>time</th>\n",
       "      <th>length</th>\n",
       "    </tr>\n",
       "  </thead>\n",
       "  <tbody>\n",
       "    <tr>\n",
       "      <th>56</th>\n",
       "      <td>tt0002130</td>\n",
       "      <td>L'Inferno</td>\n",
       "      <td>1911</td>\n",
       "      <td>71</td>\n",
       "      <td>Adventure,Drama,Fantasy</td>\n",
       "      <td>7.1</td>\n",
       "      <td>2549</td>\n",
       "      <td>Classic</td>\n",
       "      <td>Short</td>\n",
       "    </tr>\n",
       "    <tr>\n",
       "      <th>84</th>\n",
       "      <td>tt0002844</td>\n",
       "      <td>Fantômas - À l'ombre de la guillotine</td>\n",
       "      <td>1913</td>\n",
       "      <td>54</td>\n",
       "      <td>Crime,Drama</td>\n",
       "      <td>7.0</td>\n",
       "      <td>2095</td>\n",
       "      <td>Classic</td>\n",
       "      <td>Short</td>\n",
       "    </tr>\n",
       "    <tr>\n",
       "      <th>93</th>\n",
       "      <td>tt0003014</td>\n",
       "      <td>Ingeborg Holm</td>\n",
       "      <td>1913</td>\n",
       "      <td>96</td>\n",
       "      <td>Drama</td>\n",
       "      <td>7.0</td>\n",
       "      <td>1091</td>\n",
       "      <td>Classic</td>\n",
       "      <td>Normal</td>\n",
       "    </tr>\n",
       "    <tr>\n",
       "      <th>96</th>\n",
       "      <td>tt0003037</td>\n",
       "      <td>Juve contre Fantômas</td>\n",
       "      <td>1913</td>\n",
       "      <td>61</td>\n",
       "      <td>Crime,Drama</td>\n",
       "      <td>7.0</td>\n",
       "      <td>1443</td>\n",
       "      <td>Classic</td>\n",
       "      <td>Short</td>\n",
       "    </tr>\n",
       "    <tr>\n",
       "      <th>101</th>\n",
       "      <td>tt0003165</td>\n",
       "      <td>Le mort qui tue</td>\n",
       "      <td>1913</td>\n",
       "      <td>90</td>\n",
       "      <td>Crime,Drama,Mystery</td>\n",
       "      <td>7.0</td>\n",
       "      <td>1126</td>\n",
       "      <td>Classic</td>\n",
       "      <td>Short</td>\n",
       "    </tr>\n",
       "  </tbody>\n",
       "</table>\n",
       "</div>"
      ],
      "text/plain": [
       "            id                                  title  year  minutes  \\\n",
       "56   tt0002130                              L'Inferno  1911       71   \n",
       "84   tt0002844  Fantômas - À l'ombre de la guillotine  1913       54   \n",
       "93   tt0003014                          Ingeborg Holm  1913       96   \n",
       "96   tt0003037                   Juve contre Fantômas  1913       61   \n",
       "101  tt0003165                        Le mort qui tue  1913       90   \n",
       "\n",
       "                      genres  average_rating  num_votes     time  length  \n",
       "56   Adventure,Drama,Fantasy             7.1       2549  Classic   Short  \n",
       "84               Crime,Drama             7.0       2095  Classic   Short  \n",
       "93                     Drama             7.0       1091  Classic  Normal  \n",
       "96               Crime,Drama             7.0       1443  Classic   Short  \n",
       "101      Crime,Drama,Mystery             7.0       1126  Classic   Short  "
      ]
     },
     "execution_count": 121,
     "metadata": {},
     "output_type": "execute_result"
    }
   ],
   "source": [
    "df.head()"
   ]
  },
  {
   "cell_type": "code",
   "execution_count": 127,
   "id": "appreciated-excess",
   "metadata": {},
   "outputs": [
    {
     "data": {
      "text/plain": [
       "count      34282.000000\n",
       "mean       25461.156321\n",
       "std        87910.020283\n",
       "min         1000.000000\n",
       "25%         1688.000000\n",
       "50%         3438.000000\n",
       "75%        11612.000000\n",
       "max      2429764.000000\n",
       "Name: num_votes, dtype: object"
      ]
     },
     "execution_count": 127,
     "metadata": {},
     "output_type": "execute_result"
    }
   ],
   "source": [
    "df['num_votes'].describe().apply(lambda x: format(x, 'f'))"
   ]
  },
  {
   "cell_type": "code",
   "execution_count": 128,
   "id": "explicit-color",
   "metadata": {},
   "outputs": [],
   "source": [
    "# Decimos que menos de 2000 votos la película no es conocida. Entre 2000 y 10000 normal. y por encima de 1000 votos\n",
    "# la película es conocida\n",
    "def film_known(votes):\n",
    "    if(votes <= 2000):\n",
    "        return 'Unknown'\n",
    "    elif votes < 10000:\n",
    "        return 'Normal'\n",
    "    else:\n",
    "        return 'Known'\n",
    "    \n",
    "df['known'] = df.num_votes.apply(film_known)"
   ]
  },
  {
   "cell_type": "code",
   "execution_count": 129,
   "id": "superb-haiti",
   "metadata": {},
   "outputs": [
    {
     "data": {
      "text/html": [
       "<div>\n",
       "<style scoped>\n",
       "    .dataframe tbody tr th:only-of-type {\n",
       "        vertical-align: middle;\n",
       "    }\n",
       "\n",
       "    .dataframe tbody tr th {\n",
       "        vertical-align: top;\n",
       "    }\n",
       "\n",
       "    .dataframe thead th {\n",
       "        text-align: right;\n",
       "    }\n",
       "</style>\n",
       "<table border=\"1\" class=\"dataframe\">\n",
       "  <thead>\n",
       "    <tr style=\"text-align: right;\">\n",
       "      <th></th>\n",
       "      <th>id</th>\n",
       "      <th>title</th>\n",
       "      <th>year</th>\n",
       "      <th>minutes</th>\n",
       "      <th>genres</th>\n",
       "      <th>average_rating</th>\n",
       "      <th>num_votes</th>\n",
       "      <th>time</th>\n",
       "      <th>length</th>\n",
       "      <th>known</th>\n",
       "    </tr>\n",
       "  </thead>\n",
       "  <tbody>\n",
       "    <tr>\n",
       "      <th>56</th>\n",
       "      <td>tt0002130</td>\n",
       "      <td>L'Inferno</td>\n",
       "      <td>1911</td>\n",
       "      <td>71</td>\n",
       "      <td>Adventure,Drama,Fantasy</td>\n",
       "      <td>7.1</td>\n",
       "      <td>2549</td>\n",
       "      <td>Classic</td>\n",
       "      <td>Short</td>\n",
       "      <td>Normal</td>\n",
       "    </tr>\n",
       "    <tr>\n",
       "      <th>84</th>\n",
       "      <td>tt0002844</td>\n",
       "      <td>Fantômas - À l'ombre de la guillotine</td>\n",
       "      <td>1913</td>\n",
       "      <td>54</td>\n",
       "      <td>Crime,Drama</td>\n",
       "      <td>7.0</td>\n",
       "      <td>2095</td>\n",
       "      <td>Classic</td>\n",
       "      <td>Short</td>\n",
       "      <td>Normal</td>\n",
       "    </tr>\n",
       "    <tr>\n",
       "      <th>93</th>\n",
       "      <td>tt0003014</td>\n",
       "      <td>Ingeborg Holm</td>\n",
       "      <td>1913</td>\n",
       "      <td>96</td>\n",
       "      <td>Drama</td>\n",
       "      <td>7.0</td>\n",
       "      <td>1091</td>\n",
       "      <td>Classic</td>\n",
       "      <td>Normal</td>\n",
       "      <td>Unknown</td>\n",
       "    </tr>\n",
       "    <tr>\n",
       "      <th>96</th>\n",
       "      <td>tt0003037</td>\n",
       "      <td>Juve contre Fantômas</td>\n",
       "      <td>1913</td>\n",
       "      <td>61</td>\n",
       "      <td>Crime,Drama</td>\n",
       "      <td>7.0</td>\n",
       "      <td>1443</td>\n",
       "      <td>Classic</td>\n",
       "      <td>Short</td>\n",
       "      <td>Unknown</td>\n",
       "    </tr>\n",
       "    <tr>\n",
       "      <th>101</th>\n",
       "      <td>tt0003165</td>\n",
       "      <td>Le mort qui tue</td>\n",
       "      <td>1913</td>\n",
       "      <td>90</td>\n",
       "      <td>Crime,Drama,Mystery</td>\n",
       "      <td>7.0</td>\n",
       "      <td>1126</td>\n",
       "      <td>Classic</td>\n",
       "      <td>Short</td>\n",
       "      <td>Unknown</td>\n",
       "    </tr>\n",
       "  </tbody>\n",
       "</table>\n",
       "</div>"
      ],
      "text/plain": [
       "            id                                  title  year  minutes  \\\n",
       "56   tt0002130                              L'Inferno  1911       71   \n",
       "84   tt0002844  Fantômas - À l'ombre de la guillotine  1913       54   \n",
       "93   tt0003014                          Ingeborg Holm  1913       96   \n",
       "96   tt0003037                   Juve contre Fantômas  1913       61   \n",
       "101  tt0003165                        Le mort qui tue  1913       90   \n",
       "\n",
       "                      genres  average_rating  num_votes     time  length  \\\n",
       "56   Adventure,Drama,Fantasy             7.1       2549  Classic   Short   \n",
       "84               Crime,Drama             7.0       2095  Classic   Short   \n",
       "93                     Drama             7.0       1091  Classic  Normal   \n",
       "96               Crime,Drama             7.0       1443  Classic   Short   \n",
       "101      Crime,Drama,Mystery             7.0       1126  Classic   Short   \n",
       "\n",
       "       known  \n",
       "56    Normal  \n",
       "84    Normal  \n",
       "93   Unknown  \n",
       "96   Unknown  \n",
       "101  Unknown  "
      ]
     },
     "execution_count": 129,
     "metadata": {},
     "output_type": "execute_result"
    }
   ],
   "source": [
    "df.head()"
   ]
  },
  {
   "cell_type": "code",
   "execution_count": 137,
   "id": "progressive-distribution",
   "metadata": {},
   "outputs": [],
   "source": [
    "# Generamos una tupla de tres elementos para el género\n",
    "    \n",
    "df['genre_1'] = df.genres.apply(lambda x: x.split(',')[0])\n",
    "df['genre_2'] = df.genres.apply(lambda x: x.split(',')[1] if len(x.split(',')) > 1 else 'Unknown')\n",
    "df['genre_3'] = df.genres.apply(lambda x: x.split(',')[2] if len(x.split(',')) > 2 else 'Unknown')"
   ]
  },
  {
   "cell_type": "code",
   "execution_count": 138,
   "id": "offensive-surname",
   "metadata": {},
   "outputs": [
    {
     "data": {
      "text/html": [
       "<div>\n",
       "<style scoped>\n",
       "    .dataframe tbody tr th:only-of-type {\n",
       "        vertical-align: middle;\n",
       "    }\n",
       "\n",
       "    .dataframe tbody tr th {\n",
       "        vertical-align: top;\n",
       "    }\n",
       "\n",
       "    .dataframe thead th {\n",
       "        text-align: right;\n",
       "    }\n",
       "</style>\n",
       "<table border=\"1\" class=\"dataframe\">\n",
       "  <thead>\n",
       "    <tr style=\"text-align: right;\">\n",
       "      <th></th>\n",
       "      <th>id</th>\n",
       "      <th>title</th>\n",
       "      <th>year</th>\n",
       "      <th>minutes</th>\n",
       "      <th>genres</th>\n",
       "      <th>average_rating</th>\n",
       "      <th>num_votes</th>\n",
       "      <th>time</th>\n",
       "      <th>length</th>\n",
       "      <th>known</th>\n",
       "      <th>genre_1</th>\n",
       "      <th>genre_2</th>\n",
       "      <th>genre_3</th>\n",
       "    </tr>\n",
       "  </thead>\n",
       "  <tbody>\n",
       "    <tr>\n",
       "      <th>56</th>\n",
       "      <td>tt0002130</td>\n",
       "      <td>L'Inferno</td>\n",
       "      <td>1911</td>\n",
       "      <td>71</td>\n",
       "      <td>Adventure,Drama,Fantasy</td>\n",
       "      <td>7.1</td>\n",
       "      <td>2549</td>\n",
       "      <td>Classic</td>\n",
       "      <td>Short</td>\n",
       "      <td>Normal</td>\n",
       "      <td>Adventure</td>\n",
       "      <td>Drama</td>\n",
       "      <td>Fantasy</td>\n",
       "    </tr>\n",
       "    <tr>\n",
       "      <th>84</th>\n",
       "      <td>tt0002844</td>\n",
       "      <td>Fantômas - À l'ombre de la guillotine</td>\n",
       "      <td>1913</td>\n",
       "      <td>54</td>\n",
       "      <td>Crime,Drama</td>\n",
       "      <td>7.0</td>\n",
       "      <td>2095</td>\n",
       "      <td>Classic</td>\n",
       "      <td>Short</td>\n",
       "      <td>Normal</td>\n",
       "      <td>Crime</td>\n",
       "      <td>Drama</td>\n",
       "      <td>Unknown</td>\n",
       "    </tr>\n",
       "    <tr>\n",
       "      <th>93</th>\n",
       "      <td>tt0003014</td>\n",
       "      <td>Ingeborg Holm</td>\n",
       "      <td>1913</td>\n",
       "      <td>96</td>\n",
       "      <td>Drama</td>\n",
       "      <td>7.0</td>\n",
       "      <td>1091</td>\n",
       "      <td>Classic</td>\n",
       "      <td>Normal</td>\n",
       "      <td>Unknown</td>\n",
       "      <td>Drama</td>\n",
       "      <td>Unknown</td>\n",
       "      <td>Unknown</td>\n",
       "    </tr>\n",
       "    <tr>\n",
       "      <th>96</th>\n",
       "      <td>tt0003037</td>\n",
       "      <td>Juve contre Fantômas</td>\n",
       "      <td>1913</td>\n",
       "      <td>61</td>\n",
       "      <td>Crime,Drama</td>\n",
       "      <td>7.0</td>\n",
       "      <td>1443</td>\n",
       "      <td>Classic</td>\n",
       "      <td>Short</td>\n",
       "      <td>Unknown</td>\n",
       "      <td>Crime</td>\n",
       "      <td>Drama</td>\n",
       "      <td>Unknown</td>\n",
       "    </tr>\n",
       "    <tr>\n",
       "      <th>101</th>\n",
       "      <td>tt0003165</td>\n",
       "      <td>Le mort qui tue</td>\n",
       "      <td>1913</td>\n",
       "      <td>90</td>\n",
       "      <td>Crime,Drama,Mystery</td>\n",
       "      <td>7.0</td>\n",
       "      <td>1126</td>\n",
       "      <td>Classic</td>\n",
       "      <td>Short</td>\n",
       "      <td>Unknown</td>\n",
       "      <td>Crime</td>\n",
       "      <td>Drama</td>\n",
       "      <td>Mystery</td>\n",
       "    </tr>\n",
       "  </tbody>\n",
       "</table>\n",
       "</div>"
      ],
      "text/plain": [
       "            id                                  title  year  minutes  \\\n",
       "56   tt0002130                              L'Inferno  1911       71   \n",
       "84   tt0002844  Fantômas - À l'ombre de la guillotine  1913       54   \n",
       "93   tt0003014                          Ingeborg Holm  1913       96   \n",
       "96   tt0003037                   Juve contre Fantômas  1913       61   \n",
       "101  tt0003165                        Le mort qui tue  1913       90   \n",
       "\n",
       "                      genres  average_rating  num_votes     time  length  \\\n",
       "56   Adventure,Drama,Fantasy             7.1       2549  Classic   Short   \n",
       "84               Crime,Drama             7.0       2095  Classic   Short   \n",
       "93                     Drama             7.0       1091  Classic  Normal   \n",
       "96               Crime,Drama             7.0       1443  Classic   Short   \n",
       "101      Crime,Drama,Mystery             7.0       1126  Classic   Short   \n",
       "\n",
       "       known    genre_1  genre_2  genre_3  \n",
       "56    Normal  Adventure    Drama  Fantasy  \n",
       "84    Normal      Crime    Drama  Unknown  \n",
       "93   Unknown      Drama  Unknown  Unknown  \n",
       "96   Unknown      Crime    Drama  Unknown  \n",
       "101  Unknown      Crime    Drama  Mystery  "
      ]
     },
     "execution_count": 138,
     "metadata": {},
     "output_type": "execute_result"
    }
   ],
   "source": [
    "df.head()"
   ]
  },
  {
   "cell_type": "markdown",
   "id": "supposed-cement",
   "metadata": {},
   "source": [
    "Guardamos el dataset con las nuevas columnas en un fichero csv\n"
   ]
  },
  {
   "cell_type": "code",
   "execution_count": 141,
   "id": "elder-adapter",
   "metadata": {},
   "outputs": [],
   "source": [
    "df.to_csv('./data/movies_new_columns.csv', header=True, index=False)"
   ]
  },
  {
   "cell_type": "code",
   "execution_count": 143,
   "id": "creative-documentary",
   "metadata": {},
   "outputs": [
    {
     "data": {
      "text/html": [
       "<div>\n",
       "<style scoped>\n",
       "    .dataframe tbody tr th:only-of-type {\n",
       "        vertical-align: middle;\n",
       "    }\n",
       "\n",
       "    .dataframe tbody tr th {\n",
       "        vertical-align: top;\n",
       "    }\n",
       "\n",
       "    .dataframe thead th {\n",
       "        text-align: right;\n",
       "    }\n",
       "</style>\n",
       "<table border=\"1\" class=\"dataframe\">\n",
       "  <thead>\n",
       "    <tr style=\"text-align: right;\">\n",
       "      <th></th>\n",
       "      <th>id</th>\n",
       "      <th>title</th>\n",
       "      <th>year</th>\n",
       "      <th>minutes</th>\n",
       "      <th>genres</th>\n",
       "      <th>average_rating</th>\n",
       "      <th>num_votes</th>\n",
       "      <th>time</th>\n",
       "      <th>length</th>\n",
       "      <th>known</th>\n",
       "      <th>genre_1</th>\n",
       "      <th>genre_2</th>\n",
       "      <th>genre_3</th>\n",
       "    </tr>\n",
       "  </thead>\n",
       "  <tbody>\n",
       "    <tr>\n",
       "      <th>167823</th>\n",
       "      <td>tt1375666</td>\n",
       "      <td>Inception</td>\n",
       "      <td>2010</td>\n",
       "      <td>148</td>\n",
       "      <td>Action,Adventure,Sci-Fi</td>\n",
       "      <td>8.8</td>\n",
       "      <td>2141232</td>\n",
       "      <td>Current</td>\n",
       "      <td>Long</td>\n",
       "      <td>Known</td>\n",
       "      <td>Action</td>\n",
       "      <td>Adventure</td>\n",
       "      <td>Sci-Fi</td>\n",
       "    </tr>\n",
       "  </tbody>\n",
       "</table>\n",
       "</div>"
      ],
      "text/plain": [
       "               id      title  year  minutes                   genres  \\\n",
       "167823  tt1375666  Inception  2010      148  Action,Adventure,Sci-Fi   \n",
       "\n",
       "        average_rating  num_votes     time length  known genre_1    genre_2  \\\n",
       "167823             8.8    2141232  Current   Long  Known  Action  Adventure   \n",
       "\n",
       "       genre_3  \n",
       "167823  Sci-Fi  "
      ]
     },
     "execution_count": 143,
     "metadata": {},
     "output_type": "execute_result"
    }
   ],
   "source": [
    "df[df.title == 'Inception']"
   ]
  },
  {
   "cell_type": "code",
   "execution_count": null,
   "id": "injured-abuse",
   "metadata": {},
   "outputs": [],
   "source": []
  }
 ],
 "metadata": {
  "kernelspec": {
   "display_name": "Python 3",
   "language": "python",
   "name": "python3"
  },
  "language_info": {
   "codemirror_mode": {
    "name": "ipython",
    "version": 3
   },
   "file_extension": ".py",
   "mimetype": "text/x-python",
   "name": "python",
   "nbconvert_exporter": "python",
   "pygments_lexer": "ipython3",
   "version": "3.8.5"
  }
 },
 "nbformat": 4,
 "nbformat_minor": 5
}
