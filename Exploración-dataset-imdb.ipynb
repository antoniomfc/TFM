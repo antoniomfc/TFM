{
 "cells": [
  {
   "cell_type": "markdown",
   "id": "trying-signature",
   "metadata": {},
   "source": [
    "# Exploración dataset imdb\n",
    "\n",
    "Notebook inicial para explorar los dataset de películas de imdb. Han sido descargados de [Kaggle](https://www.kaggle.com/stefanoleone992/imdb-extensive-dataset)\n",
    "\n",
    "[imdb](https://www.imdb.com/interfaces/)"
   ]
  },
  {
   "cell_type": "code",
   "execution_count": 171,
   "id": "senior-draft",
   "metadata": {},
   "outputs": [],
   "source": [
    "import pandas as pd\n",
    "import matplotlib.pyplot as plt\n",
    "import numpy as np\n",
    "import seaborn as sns\n",
    "%matplotlib inline"
   ]
  },
  {
   "cell_type": "code",
   "execution_count": 172,
   "id": "compressed-status",
   "metadata": {},
   "outputs": [
    {
     "name": "stdout",
     "output_type": "stream",
     "text": [
      "IMDb movies.csv        movies_labels.csv      ratings.tsv\r\n",
      "movies_clean.csv       movies_new_columns.csv titles.tsv\r\n"
     ]
    }
   ],
   "source": [
    "!ls ./data"
   ]
  },
  {
   "cell_type": "code",
   "execution_count": 173,
   "id": "designing-champagne",
   "metadata": {},
   "outputs": [
    {
     "name": "stderr",
     "output_type": "stream",
     "text": [
      "/Users/antoniocantos/opt/anaconda3/envs/Master/lib/python3.8/site-packages/IPython/core/interactiveshell.py:3155: DtypeWarning: Columns (3) have mixed types.Specify dtype option on import or set low_memory=False.\n",
      "  has_raised = await self.run_ast_nodes(code_ast.body, cell_name,\n"
     ]
    }
   ],
   "source": [
    "# Cargamos el dataset de películas\n",
    "df = pd.read_csv('./data/IMDb movies.csv')"
   ]
  },
  {
   "cell_type": "code",
   "execution_count": 174,
   "id": "hydraulic-retention",
   "metadata": {},
   "outputs": [
    {
     "data": {
      "text/plain": [
       "(85855, 22)"
      ]
     },
     "execution_count": 174,
     "metadata": {},
     "output_type": "execute_result"
    }
   ],
   "source": [
    "df.shape"
   ]
  },
  {
   "cell_type": "markdown",
   "id": "collected-expression",
   "metadata": {},
   "source": [
    "### Exploración del dataset"
   ]
  },
  {
   "cell_type": "code",
   "execution_count": 175,
   "id": "spatial-compact",
   "metadata": {},
   "outputs": [
    {
     "data": {
      "text/html": [
       "<div>\n",
       "<style scoped>\n",
       "    .dataframe tbody tr th:only-of-type {\n",
       "        vertical-align: middle;\n",
       "    }\n",
       "\n",
       "    .dataframe tbody tr th {\n",
       "        vertical-align: top;\n",
       "    }\n",
       "\n",
       "    .dataframe thead th {\n",
       "        text-align: right;\n",
       "    }\n",
       "</style>\n",
       "<table border=\"1\" class=\"dataframe\">\n",
       "  <thead>\n",
       "    <tr style=\"text-align: right;\">\n",
       "      <th></th>\n",
       "      <th>imdb_title_id</th>\n",
       "      <th>title</th>\n",
       "      <th>original_title</th>\n",
       "      <th>year</th>\n",
       "      <th>date_published</th>\n",
       "      <th>genre</th>\n",
       "      <th>duration</th>\n",
       "      <th>country</th>\n",
       "      <th>language</th>\n",
       "      <th>director</th>\n",
       "      <th>...</th>\n",
       "      <th>actors</th>\n",
       "      <th>description</th>\n",
       "      <th>avg_vote</th>\n",
       "      <th>votes</th>\n",
       "      <th>budget</th>\n",
       "      <th>usa_gross_income</th>\n",
       "      <th>worlwide_gross_income</th>\n",
       "      <th>metascore</th>\n",
       "      <th>reviews_from_users</th>\n",
       "      <th>reviews_from_critics</th>\n",
       "    </tr>\n",
       "  </thead>\n",
       "  <tbody>\n",
       "    <tr>\n",
       "      <th>0</th>\n",
       "      <td>tt0000009</td>\n",
       "      <td>Miss Jerry</td>\n",
       "      <td>Miss Jerry</td>\n",
       "      <td>1894</td>\n",
       "      <td>1894-10-09</td>\n",
       "      <td>Romance</td>\n",
       "      <td>45</td>\n",
       "      <td>USA</td>\n",
       "      <td>None</td>\n",
       "      <td>Alexander Black</td>\n",
       "      <td>...</td>\n",
       "      <td>Blanche Bayliss, William Courtenay, Chauncey D...</td>\n",
       "      <td>The adventures of a female reporter in the 1890s.</td>\n",
       "      <td>5.9</td>\n",
       "      <td>154</td>\n",
       "      <td>NaN</td>\n",
       "      <td>NaN</td>\n",
       "      <td>NaN</td>\n",
       "      <td>NaN</td>\n",
       "      <td>1.0</td>\n",
       "      <td>2.0</td>\n",
       "    </tr>\n",
       "    <tr>\n",
       "      <th>1</th>\n",
       "      <td>tt0000574</td>\n",
       "      <td>The Story of the Kelly Gang</td>\n",
       "      <td>The Story of the Kelly Gang</td>\n",
       "      <td>1906</td>\n",
       "      <td>1906-12-26</td>\n",
       "      <td>Biography, Crime, Drama</td>\n",
       "      <td>70</td>\n",
       "      <td>Australia</td>\n",
       "      <td>None</td>\n",
       "      <td>Charles Tait</td>\n",
       "      <td>...</td>\n",
       "      <td>Elizabeth Tait, John Tait, Norman Campbell, Be...</td>\n",
       "      <td>True story of notorious Australian outlaw Ned ...</td>\n",
       "      <td>6.1</td>\n",
       "      <td>589</td>\n",
       "      <td>$ 2250</td>\n",
       "      <td>NaN</td>\n",
       "      <td>NaN</td>\n",
       "      <td>NaN</td>\n",
       "      <td>7.0</td>\n",
       "      <td>7.0</td>\n",
       "    </tr>\n",
       "    <tr>\n",
       "      <th>2</th>\n",
       "      <td>tt0001892</td>\n",
       "      <td>Den sorte drøm</td>\n",
       "      <td>Den sorte drøm</td>\n",
       "      <td>1911</td>\n",
       "      <td>1911-08-19</td>\n",
       "      <td>Drama</td>\n",
       "      <td>53</td>\n",
       "      <td>Germany, Denmark</td>\n",
       "      <td>NaN</td>\n",
       "      <td>Urban Gad</td>\n",
       "      <td>...</td>\n",
       "      <td>Asta Nielsen, Valdemar Psilander, Gunnar Helse...</td>\n",
       "      <td>Two men of high rank are both wooing the beaut...</td>\n",
       "      <td>5.8</td>\n",
       "      <td>188</td>\n",
       "      <td>NaN</td>\n",
       "      <td>NaN</td>\n",
       "      <td>NaN</td>\n",
       "      <td>NaN</td>\n",
       "      <td>5.0</td>\n",
       "      <td>2.0</td>\n",
       "    </tr>\n",
       "    <tr>\n",
       "      <th>3</th>\n",
       "      <td>tt0002101</td>\n",
       "      <td>Cleopatra</td>\n",
       "      <td>Cleopatra</td>\n",
       "      <td>1912</td>\n",
       "      <td>1912-11-13</td>\n",
       "      <td>Drama, History</td>\n",
       "      <td>100</td>\n",
       "      <td>USA</td>\n",
       "      <td>English</td>\n",
       "      <td>Charles L. Gaskill</td>\n",
       "      <td>...</td>\n",
       "      <td>Helen Gardner, Pearl Sindelar, Miss Fielding, ...</td>\n",
       "      <td>The fabled queen of Egypt's affair with Roman ...</td>\n",
       "      <td>5.2</td>\n",
       "      <td>446</td>\n",
       "      <td>$ 45000</td>\n",
       "      <td>NaN</td>\n",
       "      <td>NaN</td>\n",
       "      <td>NaN</td>\n",
       "      <td>25.0</td>\n",
       "      <td>3.0</td>\n",
       "    </tr>\n",
       "    <tr>\n",
       "      <th>4</th>\n",
       "      <td>tt0002130</td>\n",
       "      <td>L'Inferno</td>\n",
       "      <td>L'Inferno</td>\n",
       "      <td>1911</td>\n",
       "      <td>1911-03-06</td>\n",
       "      <td>Adventure, Drama, Fantasy</td>\n",
       "      <td>68</td>\n",
       "      <td>Italy</td>\n",
       "      <td>Italian</td>\n",
       "      <td>Francesco Bertolini, Adolfo Padovan</td>\n",
       "      <td>...</td>\n",
       "      <td>Salvatore Papa, Arturo Pirovano, Giuseppe de L...</td>\n",
       "      <td>Loosely adapted from Dante's Divine Comedy and...</td>\n",
       "      <td>7.0</td>\n",
       "      <td>2237</td>\n",
       "      <td>NaN</td>\n",
       "      <td>NaN</td>\n",
       "      <td>NaN</td>\n",
       "      <td>NaN</td>\n",
       "      <td>31.0</td>\n",
       "      <td>14.0</td>\n",
       "    </tr>\n",
       "  </tbody>\n",
       "</table>\n",
       "<p>5 rows × 22 columns</p>\n",
       "</div>"
      ],
      "text/plain": [
       "  imdb_title_id                        title               original_title  \\\n",
       "0     tt0000009                   Miss Jerry                   Miss Jerry   \n",
       "1     tt0000574  The Story of the Kelly Gang  The Story of the Kelly Gang   \n",
       "2     tt0001892               Den sorte drøm               Den sorte drøm   \n",
       "3     tt0002101                    Cleopatra                    Cleopatra   \n",
       "4     tt0002130                    L'Inferno                    L'Inferno   \n",
       "\n",
       "   year date_published                      genre  duration           country  \\\n",
       "0  1894     1894-10-09                    Romance        45               USA   \n",
       "1  1906     1906-12-26    Biography, Crime, Drama        70         Australia   \n",
       "2  1911     1911-08-19                      Drama        53  Germany, Denmark   \n",
       "3  1912     1912-11-13             Drama, History       100               USA   \n",
       "4  1911     1911-03-06  Adventure, Drama, Fantasy        68             Italy   \n",
       "\n",
       "  language                             director  ...  \\\n",
       "0     None                      Alexander Black  ...   \n",
       "1     None                         Charles Tait  ...   \n",
       "2      NaN                            Urban Gad  ...   \n",
       "3  English                   Charles L. Gaskill  ...   \n",
       "4  Italian  Francesco Bertolini, Adolfo Padovan  ...   \n",
       "\n",
       "                                              actors  \\\n",
       "0  Blanche Bayliss, William Courtenay, Chauncey D...   \n",
       "1  Elizabeth Tait, John Tait, Norman Campbell, Be...   \n",
       "2  Asta Nielsen, Valdemar Psilander, Gunnar Helse...   \n",
       "3  Helen Gardner, Pearl Sindelar, Miss Fielding, ...   \n",
       "4  Salvatore Papa, Arturo Pirovano, Giuseppe de L...   \n",
       "\n",
       "                                         description avg_vote votes   budget  \\\n",
       "0  The adventures of a female reporter in the 1890s.      5.9   154      NaN   \n",
       "1  True story of notorious Australian outlaw Ned ...      6.1   589   $ 2250   \n",
       "2  Two men of high rank are both wooing the beaut...      5.8   188      NaN   \n",
       "3  The fabled queen of Egypt's affair with Roman ...      5.2   446  $ 45000   \n",
       "4  Loosely adapted from Dante's Divine Comedy and...      7.0  2237      NaN   \n",
       "\n",
       "   usa_gross_income worlwide_gross_income metascore reviews_from_users  \\\n",
       "0               NaN                   NaN       NaN                1.0   \n",
       "1               NaN                   NaN       NaN                7.0   \n",
       "2               NaN                   NaN       NaN                5.0   \n",
       "3               NaN                   NaN       NaN               25.0   \n",
       "4               NaN                   NaN       NaN               31.0   \n",
       "\n",
       "   reviews_from_critics  \n",
       "0                   2.0  \n",
       "1                   7.0  \n",
       "2                   2.0  \n",
       "3                   3.0  \n",
       "4                  14.0  \n",
       "\n",
       "[5 rows x 22 columns]"
      ]
     },
     "execution_count": 175,
     "metadata": {},
     "output_type": "execute_result"
    }
   ],
   "source": [
    "df.head()"
   ]
  },
  {
   "cell_type": "code",
   "execution_count": 176,
   "id": "changed-clinic",
   "metadata": {},
   "outputs": [
    {
     "data": {
      "text/plain": [
       "imdb_title_id                0\n",
       "title                        0\n",
       "original_title               0\n",
       "year                         0\n",
       "date_published               0\n",
       "genre                        0\n",
       "duration                     0\n",
       "country                     64\n",
       "language                   833\n",
       "director                    87\n",
       "writer                    1572\n",
       "production_company        4455\n",
       "actors                      69\n",
       "description               2115\n",
       "avg_vote                     0\n",
       "votes                        0\n",
       "budget                   62145\n",
       "usa_gross_income         70529\n",
       "worlwide_gross_income    54839\n",
       "metascore                72550\n",
       "reviews_from_users        7597\n",
       "reviews_from_critics     11797\n",
       "dtype: int64"
      ]
     },
     "execution_count": 176,
     "metadata": {},
     "output_type": "execute_result"
    }
   ],
   "source": [
    "# Comprobamos los valores nulos del dataset\n",
    "df.isnull().sum()"
   ]
  },
  {
   "cell_type": "markdown",
   "id": "attached-courage",
   "metadata": {},
   "source": [
    "Nos vamos a quedar con las columnas title, year, genre, duration, country, description, avg_vote y votes"
   ]
  },
  {
   "cell_type": "code",
   "execution_count": 177,
   "id": "linear-recipe",
   "metadata": {},
   "outputs": [],
   "source": [
    "df = df[['title', 'year', 'genre', 'duration', 'country', 'description', 'avg_vote', 'votes']]"
   ]
  },
  {
   "cell_type": "code",
   "execution_count": 178,
   "id": "dental-ground",
   "metadata": {},
   "outputs": [
    {
     "data": {
      "text/html": [
       "<div>\n",
       "<style scoped>\n",
       "    .dataframe tbody tr th:only-of-type {\n",
       "        vertical-align: middle;\n",
       "    }\n",
       "\n",
       "    .dataframe tbody tr th {\n",
       "        vertical-align: top;\n",
       "    }\n",
       "\n",
       "    .dataframe thead th {\n",
       "        text-align: right;\n",
       "    }\n",
       "</style>\n",
       "<table border=\"1\" class=\"dataframe\">\n",
       "  <thead>\n",
       "    <tr style=\"text-align: right;\">\n",
       "      <th></th>\n",
       "      <th>title</th>\n",
       "      <th>year</th>\n",
       "      <th>genre</th>\n",
       "      <th>duration</th>\n",
       "      <th>country</th>\n",
       "      <th>description</th>\n",
       "      <th>avg_vote</th>\n",
       "      <th>votes</th>\n",
       "    </tr>\n",
       "  </thead>\n",
       "  <tbody>\n",
       "    <tr>\n",
       "      <th>0</th>\n",
       "      <td>Miss Jerry</td>\n",
       "      <td>1894</td>\n",
       "      <td>Romance</td>\n",
       "      <td>45</td>\n",
       "      <td>USA</td>\n",
       "      <td>The adventures of a female reporter in the 1890s.</td>\n",
       "      <td>5.9</td>\n",
       "      <td>154</td>\n",
       "    </tr>\n",
       "    <tr>\n",
       "      <th>1</th>\n",
       "      <td>The Story of the Kelly Gang</td>\n",
       "      <td>1906</td>\n",
       "      <td>Biography, Crime, Drama</td>\n",
       "      <td>70</td>\n",
       "      <td>Australia</td>\n",
       "      <td>True story of notorious Australian outlaw Ned ...</td>\n",
       "      <td>6.1</td>\n",
       "      <td>589</td>\n",
       "    </tr>\n",
       "    <tr>\n",
       "      <th>2</th>\n",
       "      <td>Den sorte drøm</td>\n",
       "      <td>1911</td>\n",
       "      <td>Drama</td>\n",
       "      <td>53</td>\n",
       "      <td>Germany, Denmark</td>\n",
       "      <td>Two men of high rank are both wooing the beaut...</td>\n",
       "      <td>5.8</td>\n",
       "      <td>188</td>\n",
       "    </tr>\n",
       "    <tr>\n",
       "      <th>3</th>\n",
       "      <td>Cleopatra</td>\n",
       "      <td>1912</td>\n",
       "      <td>Drama, History</td>\n",
       "      <td>100</td>\n",
       "      <td>USA</td>\n",
       "      <td>The fabled queen of Egypt's affair with Roman ...</td>\n",
       "      <td>5.2</td>\n",
       "      <td>446</td>\n",
       "    </tr>\n",
       "    <tr>\n",
       "      <th>4</th>\n",
       "      <td>L'Inferno</td>\n",
       "      <td>1911</td>\n",
       "      <td>Adventure, Drama, Fantasy</td>\n",
       "      <td>68</td>\n",
       "      <td>Italy</td>\n",
       "      <td>Loosely adapted from Dante's Divine Comedy and...</td>\n",
       "      <td>7.0</td>\n",
       "      <td>2237</td>\n",
       "    </tr>\n",
       "  </tbody>\n",
       "</table>\n",
       "</div>"
      ],
      "text/plain": [
       "                         title  year                      genre  duration  \\\n",
       "0                   Miss Jerry  1894                    Romance        45   \n",
       "1  The Story of the Kelly Gang  1906    Biography, Crime, Drama        70   \n",
       "2               Den sorte drøm  1911                      Drama        53   \n",
       "3                    Cleopatra  1912             Drama, History       100   \n",
       "4                    L'Inferno  1911  Adventure, Drama, Fantasy        68   \n",
       "\n",
       "            country                                        description  \\\n",
       "0               USA  The adventures of a female reporter in the 1890s.   \n",
       "1         Australia  True story of notorious Australian outlaw Ned ...   \n",
       "2  Germany, Denmark  Two men of high rank are both wooing the beaut...   \n",
       "3               USA  The fabled queen of Egypt's affair with Roman ...   \n",
       "4             Italy  Loosely adapted from Dante's Divine Comedy and...   \n",
       "\n",
       "   avg_vote  votes  \n",
       "0       5.9    154  \n",
       "1       6.1    589  \n",
       "2       5.8    188  \n",
       "3       5.2    446  \n",
       "4       7.0   2237  "
      ]
     },
     "execution_count": 178,
     "metadata": {},
     "output_type": "execute_result"
    }
   ],
   "source": [
    "df.head()"
   ]
  },
  {
   "cell_type": "code",
   "execution_count": 179,
   "id": "convinced-wings",
   "metadata": {},
   "outputs": [
    {
     "name": "stdout",
     "output_type": "stream",
     "text": [
      "<class 'pandas.core.frame.DataFrame'>\n",
      "RangeIndex: 85855 entries, 0 to 85854\n",
      "Data columns (total 8 columns):\n",
      " #   Column       Non-Null Count  Dtype  \n",
      "---  ------       --------------  -----  \n",
      " 0   title        85855 non-null  object \n",
      " 1   year         85855 non-null  object \n",
      " 2   genre        85855 non-null  object \n",
      " 3   duration     85855 non-null  int64  \n",
      " 4   country      85791 non-null  object \n",
      " 5   description  83740 non-null  object \n",
      " 6   avg_vote     85855 non-null  float64\n",
      " 7   votes        85855 non-null  int64  \n",
      "dtypes: float64(1), int64(2), object(5)\n",
      "memory usage: 5.2+ MB\n"
     ]
    }
   ],
   "source": [
    "df.info()"
   ]
  },
  {
   "cell_type": "markdown",
   "id": "small-threshold",
   "metadata": {},
   "source": [
    "Comenzamos a limpiar las columnas. Vemos que la columna year es de tipo objeto (string) cuando debería de ser de tipo entero."
   ]
  },
  {
   "cell_type": "code",
   "execution_count": 180,
   "id": "light-alloy",
   "metadata": {},
   "outputs": [
    {
     "data": {
      "text/plain": [
       "0"
      ]
     },
     "execution_count": 180,
     "metadata": {},
     "output_type": "execute_result"
    }
   ],
   "source": [
    "df.year.isnull().sum()"
   ]
  },
  {
   "cell_type": "code",
   "execution_count": 181,
   "id": "surgical-shield",
   "metadata": {},
   "outputs": [
    {
     "data": {
      "text/plain": [
       "83917    TV Movie 2019\n",
       "Name: year, dtype: object"
      ]
     },
     "execution_count": 181,
     "metadata": {},
     "output_type": "execute_result"
    }
   ],
   "source": [
    "df[df.year == 'TV Movie 2019'].year"
   ]
  },
  {
   "cell_type": "code",
   "execution_count": 182,
   "id": "classical-praise",
   "metadata": {},
   "outputs": [],
   "source": [
    "# Vemos que al menos hay un valor que es un string, por lo que procedemos a limpiar el dataset, primero ponemos \n",
    "# los valores a NaN\n",
    "\n",
    "df.year = df.year.apply(lambda x: x if str(x).isdigit() else np.NaN)"
   ]
  },
  {
   "cell_type": "code",
   "execution_count": 183,
   "id": "lightweight-jimmy",
   "metadata": {},
   "outputs": [
    {
     "data": {
      "text/plain": [
       "0        1894\n",
       "1        1906\n",
       "2        1911\n",
       "3        1912\n",
       "4        1911\n",
       "         ... \n",
       "85850    2020\n",
       "85851    2020\n",
       "85852    2019\n",
       "85853    2019\n",
       "85854    2019\n",
       "Name: year, Length: 85854, dtype: object"
      ]
     },
     "execution_count": 183,
     "metadata": {},
     "output_type": "execute_result"
    }
   ],
   "source": [
    "df.year.dropna()"
   ]
  },
  {
   "cell_type": "markdown",
   "id": "settled-exclusive",
   "metadata": {},
   "source": [
    "Como podemos observar, sólo teniamos una fila con valor no numérico. Pero esto sirve por si hubiera más, calculamos su media y desviación típica, para asignarlo al valor null"
   ]
  },
  {
   "cell_type": "code",
   "execution_count": 184,
   "id": "fantastic-portfolio",
   "metadata": {},
   "outputs": [
    {
     "data": {
      "text/plain": [
       "count    85854.000000\n",
       "mean      1993.500594\n",
       "std         24.216405\n",
       "min       1894.000000\n",
       "25%       1979.000000\n",
       "50%       2003.000000\n",
       "75%       2013.000000\n",
       "max       2020.000000\n",
       "Name: year, dtype: float64"
      ]
     },
     "execution_count": 184,
     "metadata": {},
     "output_type": "execute_result"
    }
   ],
   "source": [
    "df.year.dropna().astype(int).describe()"
   ]
  },
  {
   "cell_type": "code",
   "execution_count": 185,
   "id": "hourly-consistency",
   "metadata": {},
   "outputs": [
    {
     "data": {
      "text/plain": [
       "<AxesSubplot:>"
      ]
     },
     "execution_count": 185,
     "metadata": {},
     "output_type": "execute_result"
    },
    {
     "data": {
      "image/png": "[encoded data removed]",
      "text/plain": [
       "<Figure size 432x288 with 1 Axes>"
      ]
     },
     "metadata": {
      "needs_background": "light"
     },
     "output_type": "display_data"
    }
   ],
   "source": [
    "df.year.dropna().astype(int).plot(kind='box')"
   ]
  },
  {
   "cell_type": "markdown",
   "id": "reported-earthquake",
   "metadata": {},
   "source": [
    "Asignamos la media a los valores nulos"
   ]
  },
  {
   "cell_type": "code",
   "execution_count": 186,
   "id": "located-spectacular",
   "metadata": {},
   "outputs": [],
   "source": [
    "df.year.fillna(df.year.dropna().astype(int).median(), inplace=True)"
   ]
  },
  {
   "cell_type": "code",
   "execution_count": 187,
   "id": "handed-trustee",
   "metadata": {},
   "outputs": [],
   "source": [
    "df.year = df.year.astype(int)"
   ]
  },
  {
   "cell_type": "code",
   "execution_count": 188,
   "id": "external-sector",
   "metadata": {},
   "outputs": [
    {
     "name": "stdout",
     "output_type": "stream",
     "text": [
      "<class 'pandas.core.frame.DataFrame'>\n",
      "RangeIndex: 85855 entries, 0 to 85854\n",
      "Data columns (total 8 columns):\n",
      " #   Column       Non-Null Count  Dtype  \n",
      "---  ------       --------------  -----  \n",
      " 0   title        85855 non-null  object \n",
      " 1   year         85855 non-null  int64  \n",
      " 2   genre        85855 non-null  object \n",
      " 3   duration     85855 non-null  int64  \n",
      " 4   country      85791 non-null  object \n",
      " 5   description  83740 non-null  object \n",
      " 6   avg_vote     85855 non-null  float64\n",
      " 7   votes        85855 non-null  int64  \n",
      "dtypes: float64(1), int64(3), object(4)\n",
      "memory usage: 5.2+ MB\n"
     ]
    }
   ],
   "source": [
    "df.info()"
   ]
  },
  {
   "cell_type": "markdown",
   "id": "earlier-satin",
   "metadata": {},
   "source": [
    "Nos falta por limpiar la columna país, en la cual le asignaremos Unknown, y la columna description en la cual le asignaremos una cadena vacia."
   ]
  },
  {
   "cell_type": "code",
   "execution_count": 189,
   "id": "sweet-click",
   "metadata": {},
   "outputs": [],
   "source": [
    "df.country.fillna('Unknown', inplace=True)"
   ]
  },
  {
   "cell_type": "code",
   "execution_count": 190,
   "id": "abroad-machinery",
   "metadata": {},
   "outputs": [],
   "source": [
    "df.description.fillna('', inplace=True)"
   ]
  },
  {
   "cell_type": "code",
   "execution_count": 191,
   "id": "expected-surgery",
   "metadata": {},
   "outputs": [
    {
     "name": "stdout",
     "output_type": "stream",
     "text": [
      "<class 'pandas.core.frame.DataFrame'>\n",
      "RangeIndex: 85855 entries, 0 to 85854\n",
      "Data columns (total 8 columns):\n",
      " #   Column       Non-Null Count  Dtype  \n",
      "---  ------       --------------  -----  \n",
      " 0   title        85855 non-null  object \n",
      " 1   year         85855 non-null  int64  \n",
      " 2   genre        85855 non-null  object \n",
      " 3   duration     85855 non-null  int64  \n",
      " 4   country      85855 non-null  object \n",
      " 5   description  85855 non-null  object \n",
      " 6   avg_vote     85855 non-null  float64\n",
      " 7   votes        85855 non-null  int64  \n",
      "dtypes: float64(1), int64(3), object(4)\n",
      "memory usage: 5.2+ MB\n"
     ]
    }
   ],
   "source": [
    "df.info()"
   ]
  },
  {
   "cell_type": "code",
   "execution_count": 192,
   "id": "violent-research",
   "metadata": {},
   "outputs": [
    {
     "data": {
      "text/html": [
       "<div>\n",
       "<style scoped>\n",
       "    .dataframe tbody tr th:only-of-type {\n",
       "        vertical-align: middle;\n",
       "    }\n",
       "\n",
       "    .dataframe tbody tr th {\n",
       "        vertical-align: top;\n",
       "    }\n",
       "\n",
       "    .dataframe thead th {\n",
       "        text-align: right;\n",
       "    }\n",
       "</style>\n",
       "<table border=\"1\" class=\"dataframe\">\n",
       "  <thead>\n",
       "    <tr style=\"text-align: right;\">\n",
       "      <th></th>\n",
       "      <th>title</th>\n",
       "      <th>year</th>\n",
       "      <th>genre</th>\n",
       "      <th>duration</th>\n",
       "      <th>country</th>\n",
       "      <th>description</th>\n",
       "      <th>avg_vote</th>\n",
       "      <th>votes</th>\n",
       "    </tr>\n",
       "  </thead>\n",
       "  <tbody>\n",
       "    <tr>\n",
       "      <th>38038</th>\n",
       "      <td>Out 1, noli me tangere</td>\n",
       "      <td>1971</td>\n",
       "      <td>Drama, Mystery</td>\n",
       "      <td>729</td>\n",
       "      <td>France</td>\n",
       "      <td>Following the May 1968 civil unrest in France,...</td>\n",
       "      <td>7.8</td>\n",
       "      <td>1126</td>\n",
       "    </tr>\n",
       "    <tr>\n",
       "      <th>85057</th>\n",
       "      <td>La flor</td>\n",
       "      <td>2016</td>\n",
       "      <td>Drama, Fantasy, Musical</td>\n",
       "      <td>808</td>\n",
       "      <td>Argentina</td>\n",
       "      <td>A film in six episodes, connected by the same ...</td>\n",
       "      <td>7.7</td>\n",
       "      <td>473</td>\n",
       "    </tr>\n",
       "  </tbody>\n",
       "</table>\n",
       "</div>"
      ],
      "text/plain": [
       "                        title  year                    genre  duration  \\\n",
       "38038  Out 1, noli me tangere  1971           Drama, Mystery       729   \n",
       "85057                 La flor  2016  Drama, Fantasy, Musical       808   \n",
       "\n",
       "         country                                        description  avg_vote  \\\n",
       "38038     France  Following the May 1968 civil unrest in France,...       7.8   \n",
       "85057  Argentina  A film in six episodes, connected by the same ...       7.7   \n",
       "\n",
       "       votes  \n",
       "38038   1126  \n",
       "85057    473  "
      ]
     },
     "execution_count": 192,
     "metadata": {},
     "output_type": "execute_result"
    }
   ],
   "source": [
    "df[df.duration > 600].head()"
   ]
  },
  {
   "cell_type": "markdown",
   "id": "adequate-register",
   "metadata": {},
   "source": [
    "### Visualización\n",
    "\n",
    "Ya tenemos algunas de las columnas limpias, procedemos a visualizar los datos de algunas de las columnas."
   ]
  },
  {
   "cell_type": "code",
   "execution_count": 193,
   "id": "closed-nutrition",
   "metadata": {},
   "outputs": [
    {
     "data": {
      "image/png": "[encoded data removed]",
      "text/plain": [
       "<Figure size 720x720 with 4 Axes>"
      ]
     },
     "metadata": {
      "needs_background": "light"
     },
     "output_type": "display_data"
    }
   ],
   "source": [
    "fig, ax = plt.subplots(2, 2, figsize=(10, 10))\n",
    "\n",
    "sns.boxplot(x=df.year, ax=ax[0, 0])\n",
    "sns.boxplot(x=df.duration, ax=ax[0, 1])\n",
    "sns.histplot(x=df.avg_vote, ax=ax[1, 0])\n",
    "sns.boxplot(x=df.votes, ax=ax[1, 1])\n",
    "\n",
    "plt.show()"
   ]
  },
  {
   "cell_type": "markdown",
   "id": "surrounded-swaziland",
   "metadata": {},
   "source": [
    "Guardamos el dataset que hemos limpiado."
   ]
  },
  {
   "cell_type": "code",
   "execution_count": 194,
   "id": "stunning-bandwidth",
   "metadata": {},
   "outputs": [],
   "source": [
    "df.to_csv('./data/movies_clean.csv', index=False, header=True)"
   ]
  },
  {
   "cell_type": "markdown",
   "id": "satellite-mainland",
   "metadata": {},
   "source": [
    "### Generación de nuevas columnas\n",
    "\n",
    "Se van a crear una serie de columnas para segmentar un poco más los datos.\n",
    "\n",
    "1. Creación de una nueva columna llamada epoca (época), en la cual tendrá tres posibles valores:\n",
    "    - Actual, desde el año 2000 hasta hoy\n",
    "    - Intermedio, desde el año 1970 hasta 1999\n",
    "    - Clásica, desde 1900 hasta 1969\n",
    "2. Creación de una nueva columna llamada duración, en la cual tendrá tres posibles valores:\n",
    "    - Corta, con un máximo de 90 minutos\n",
    "    - Normal, entre 91 y 120 minutos\n",
    "    - Larga, desde 121 minutos en adelante.\n",
    "3. La última columna a crear indicará si la película es:\n",
    "    - Conocida\n",
    "    - Normal\n",
    "    - Poco conocida\n",
    "    \n",
    "\n",
    "Pero antes de generar las columnas, vamos a eliminear las películas con menos de 1000 votos. Normalmente películas con pocos votos nos puede indicar que el acceso actual a esas películas es muy difícil."
   ]
  },
  {
   "cell_type": "code",
   "execution_count": 195,
   "id": "illegal-browser",
   "metadata": {},
   "outputs": [
    {
     "data": {
      "text/plain": [
       "count      85855.000000\n",
       "mean        9493.489605\n",
       "std        53574.359543\n",
       "min           99.000000\n",
       "25%          205.000000\n",
       "50%          484.000000\n",
       "75%         1766.500000\n",
       "max      2278845.000000\n",
       "Name: votes, dtype: object"
      ]
     },
     "execution_count": 195,
     "metadata": {},
     "output_type": "execute_result"
    }
   ],
   "source": [
    "df.votes.describe().apply(lambda x: format(x, 'f'))"
   ]
  },
  {
   "cell_type": "code",
   "execution_count": 196,
   "id": "elect-jordan",
   "metadata": {},
   "outputs": [],
   "source": [
    "# Eliminamos del dataframe las películas con menos de 1000 votos\n",
    "df = df[df.votes >= 1000]"
   ]
  },
  {
   "cell_type": "code",
   "execution_count": 197,
   "id": "inclusive-constraint",
   "metadata": {},
   "outputs": [
    {
     "data": {
      "text/plain": [
       "(29374, 8)"
      ]
     },
     "execution_count": 197,
     "metadata": {},
     "output_type": "execute_result"
    }
   ],
   "source": [
    "df.shape"
   ]
  },
  {
   "cell_type": "markdown",
   "id": "latest-wellington",
   "metadata": {},
   "source": [
    "Ahora tenemos 29374 películas."
   ]
  },
  {
   "cell_type": "code",
   "execution_count": 198,
   "id": "approximate-subscription",
   "metadata": {},
   "outputs": [
    {
     "data": {
      "text/html": [
       "<div>\n",
       "<style scoped>\n",
       "    .dataframe tbody tr th:only-of-type {\n",
       "        vertical-align: middle;\n",
       "    }\n",
       "\n",
       "    .dataframe tbody tr th {\n",
       "        vertical-align: top;\n",
       "    }\n",
       "\n",
       "    .dataframe thead th {\n",
       "        text-align: right;\n",
       "    }\n",
       "</style>\n",
       "<table border=\"1\" class=\"dataframe\">\n",
       "  <thead>\n",
       "    <tr style=\"text-align: right;\">\n",
       "      <th></th>\n",
       "      <th>title</th>\n",
       "      <th>year</th>\n",
       "      <th>genre</th>\n",
       "      <th>duration</th>\n",
       "      <th>country</th>\n",
       "      <th>description</th>\n",
       "      <th>avg_vote</th>\n",
       "      <th>votes</th>\n",
       "    </tr>\n",
       "  </thead>\n",
       "  <tbody>\n",
       "    <tr>\n",
       "      <th>4</th>\n",
       "      <td>L'Inferno</td>\n",
       "      <td>1911</td>\n",
       "      <td>Adventure, Drama, Fantasy</td>\n",
       "      <td>68</td>\n",
       "      <td>Italy</td>\n",
       "      <td>Loosely adapted from Dante's Divine Comedy and...</td>\n",
       "      <td>7.0</td>\n",
       "      <td>2237</td>\n",
       "    </tr>\n",
       "    <tr>\n",
       "      <th>11</th>\n",
       "      <td>Fantômas - À l'ombre de la guillotine</td>\n",
       "      <td>1913</td>\n",
       "      <td>Crime, Drama</td>\n",
       "      <td>54</td>\n",
       "      <td>France</td>\n",
       "      <td>Inspector Juve is tasked to investigate and ca...</td>\n",
       "      <td>7.0</td>\n",
       "      <td>1944</td>\n",
       "    </tr>\n",
       "    <tr>\n",
       "      <th>13</th>\n",
       "      <td>Juve contre Fantômas</td>\n",
       "      <td>1913</td>\n",
       "      <td>Crime, Drama</td>\n",
       "      <td>61</td>\n",
       "      <td>France</td>\n",
       "      <td>In Part Two of Louis Feuillade's 5 1/2-hour ep...</td>\n",
       "      <td>7.0</td>\n",
       "      <td>1349</td>\n",
       "    </tr>\n",
       "    <tr>\n",
       "      <th>16</th>\n",
       "      <td>Le mort qui tue</td>\n",
       "      <td>1913</td>\n",
       "      <td>Crime, Drama, Mystery</td>\n",
       "      <td>90</td>\n",
       "      <td>France</td>\n",
       "      <td>After a body disappears from inside the prison...</td>\n",
       "      <td>7.0</td>\n",
       "      <td>1050</td>\n",
       "    </tr>\n",
       "    <tr>\n",
       "      <th>18</th>\n",
       "      <td>Lo studente di Praga</td>\n",
       "      <td>1913</td>\n",
       "      <td>Drama, Fantasy, Horror</td>\n",
       "      <td>85</td>\n",
       "      <td>Germany</td>\n",
       "      <td>Balduin, a student of Prague, leaves his royst...</td>\n",
       "      <td>6.5</td>\n",
       "      <td>1768</td>\n",
       "    </tr>\n",
       "  </tbody>\n",
       "</table>\n",
       "</div>"
      ],
      "text/plain": [
       "                                    title  year                      genre  \\\n",
       "4                               L'Inferno  1911  Adventure, Drama, Fantasy   \n",
       "11  Fantômas - À l'ombre de la guillotine  1913               Crime, Drama   \n",
       "13                   Juve contre Fantômas  1913               Crime, Drama   \n",
       "16                        Le mort qui tue  1913      Crime, Drama, Mystery   \n",
       "18                   Lo studente di Praga  1913     Drama, Fantasy, Horror   \n",
       "\n",
       "    duration  country                                        description  \\\n",
       "4         68    Italy  Loosely adapted from Dante's Divine Comedy and...   \n",
       "11        54   France  Inspector Juve is tasked to investigate and ca...   \n",
       "13        61   France  In Part Two of Louis Feuillade's 5 1/2-hour ep...   \n",
       "16        90   France  After a body disappears from inside the prison...   \n",
       "18        85  Germany  Balduin, a student of Prague, leaves his royst...   \n",
       "\n",
       "    avg_vote  votes  \n",
       "4        7.0   2237  \n",
       "11       7.0   1944  \n",
       "13       7.0   1349  \n",
       "16       7.0   1050  \n",
       "18       6.5   1768  "
      ]
     },
     "execution_count": 198,
     "metadata": {},
     "output_type": "execute_result"
    }
   ],
   "source": [
    "df.head()"
   ]
  },
  {
   "cell_type": "code",
   "execution_count": 199,
   "id": "lined-madness",
   "metadata": {},
   "outputs": [],
   "source": [
    "def set_time(year):\n",
    "    if year <= 1979:\n",
    "        return 'Classic'\n",
    "    elif year < 2000:\n",
    "        return 'Middle'\n",
    "    else:\n",
    "        return 'Current'\n",
    "\n",
    "df['time'] = df.year.apply(set_time)"
   ]
  },
  {
   "cell_type": "code",
   "execution_count": 200,
   "id": "funny-visibility",
   "metadata": {},
   "outputs": [
    {
     "data": {
      "text/html": [
       "<div>\n",
       "<style scoped>\n",
       "    .dataframe tbody tr th:only-of-type {\n",
       "        vertical-align: middle;\n",
       "    }\n",
       "\n",
       "    .dataframe tbody tr th {\n",
       "        vertical-align: top;\n",
       "    }\n",
       "\n",
       "    .dataframe thead th {\n",
       "        text-align: right;\n",
       "    }\n",
       "</style>\n",
       "<table border=\"1\" class=\"dataframe\">\n",
       "  <thead>\n",
       "    <tr style=\"text-align: right;\">\n",
       "      <th></th>\n",
       "      <th>title</th>\n",
       "      <th>year</th>\n",
       "      <th>genre</th>\n",
       "      <th>duration</th>\n",
       "      <th>country</th>\n",
       "      <th>description</th>\n",
       "      <th>avg_vote</th>\n",
       "      <th>votes</th>\n",
       "      <th>time</th>\n",
       "    </tr>\n",
       "  </thead>\n",
       "  <tbody>\n",
       "    <tr>\n",
       "      <th>4</th>\n",
       "      <td>L'Inferno</td>\n",
       "      <td>1911</td>\n",
       "      <td>Adventure, Drama, Fantasy</td>\n",
       "      <td>68</td>\n",
       "      <td>Italy</td>\n",
       "      <td>Loosely adapted from Dante's Divine Comedy and...</td>\n",
       "      <td>7.0</td>\n",
       "      <td>2237</td>\n",
       "      <td>Classic</td>\n",
       "    </tr>\n",
       "    <tr>\n",
       "      <th>11</th>\n",
       "      <td>Fantômas - À l'ombre de la guillotine</td>\n",
       "      <td>1913</td>\n",
       "      <td>Crime, Drama</td>\n",
       "      <td>54</td>\n",
       "      <td>France</td>\n",
       "      <td>Inspector Juve is tasked to investigate and ca...</td>\n",
       "      <td>7.0</td>\n",
       "      <td>1944</td>\n",
       "      <td>Classic</td>\n",
       "    </tr>\n",
       "    <tr>\n",
       "      <th>13</th>\n",
       "      <td>Juve contre Fantômas</td>\n",
       "      <td>1913</td>\n",
       "      <td>Crime, Drama</td>\n",
       "      <td>61</td>\n",
       "      <td>France</td>\n",
       "      <td>In Part Two of Louis Feuillade's 5 1/2-hour ep...</td>\n",
       "      <td>7.0</td>\n",
       "      <td>1349</td>\n",
       "      <td>Classic</td>\n",
       "    </tr>\n",
       "    <tr>\n",
       "      <th>16</th>\n",
       "      <td>Le mort qui tue</td>\n",
       "      <td>1913</td>\n",
       "      <td>Crime, Drama, Mystery</td>\n",
       "      <td>90</td>\n",
       "      <td>France</td>\n",
       "      <td>After a body disappears from inside the prison...</td>\n",
       "      <td>7.0</td>\n",
       "      <td>1050</td>\n",
       "      <td>Classic</td>\n",
       "    </tr>\n",
       "    <tr>\n",
       "      <th>18</th>\n",
       "      <td>Lo studente di Praga</td>\n",
       "      <td>1913</td>\n",
       "      <td>Drama, Fantasy, Horror</td>\n",
       "      <td>85</td>\n",
       "      <td>Germany</td>\n",
       "      <td>Balduin, a student of Prague, leaves his royst...</td>\n",
       "      <td>6.5</td>\n",
       "      <td>1768</td>\n",
       "      <td>Classic</td>\n",
       "    </tr>\n",
       "  </tbody>\n",
       "</table>\n",
       "</div>"
      ],
      "text/plain": [
       "                                    title  year                      genre  \\\n",
       "4                               L'Inferno  1911  Adventure, Drama, Fantasy   \n",
       "11  Fantômas - À l'ombre de la guillotine  1913               Crime, Drama   \n",
       "13                   Juve contre Fantômas  1913               Crime, Drama   \n",
       "16                        Le mort qui tue  1913      Crime, Drama, Mystery   \n",
       "18                   Lo studente di Praga  1913     Drama, Fantasy, Horror   \n",
       "\n",
       "    duration  country                                        description  \\\n",
       "4         68    Italy  Loosely adapted from Dante's Divine Comedy and...   \n",
       "11        54   France  Inspector Juve is tasked to investigate and ca...   \n",
       "13        61   France  In Part Two of Louis Feuillade's 5 1/2-hour ep...   \n",
       "16        90   France  After a body disappears from inside the prison...   \n",
       "18        85  Germany  Balduin, a student of Prague, leaves his royst...   \n",
       "\n",
       "    avg_vote  votes     time  \n",
       "4        7.0   2237  Classic  \n",
       "11       7.0   1944  Classic  \n",
       "13       7.0   1349  Classic  \n",
       "16       7.0   1050  Classic  \n",
       "18       6.5   1768  Classic  "
      ]
     },
     "execution_count": 200,
     "metadata": {},
     "output_type": "execute_result"
    }
   ],
   "source": [
    "df.head()"
   ]
  },
  {
   "cell_type": "code",
   "execution_count": 201,
   "id": "essential-beach",
   "metadata": {},
   "outputs": [],
   "source": [
    "# Creación de la columna duración (length)\n",
    "\n",
    "def set_length(minutes):\n",
    "    if minutes <= 90:\n",
    "        return 'Short'\n",
    "    elif minutes > 90 and minutes <= 120:\n",
    "        return 'Normal'\n",
    "    else:\n",
    "        return 'Long'\n",
    "    \n",
    "df['length'] = df.duration.apply(set_length)"
   ]
  },
  {
   "cell_type": "code",
   "execution_count": 202,
   "id": "multiple-appendix",
   "metadata": {},
   "outputs": [
    {
     "data": {
      "text/html": [
       "<div>\n",
       "<style scoped>\n",
       "    .dataframe tbody tr th:only-of-type {\n",
       "        vertical-align: middle;\n",
       "    }\n",
       "\n",
       "    .dataframe tbody tr th {\n",
       "        vertical-align: top;\n",
       "    }\n",
       "\n",
       "    .dataframe thead th {\n",
       "        text-align: right;\n",
       "    }\n",
       "</style>\n",
       "<table border=\"1\" class=\"dataframe\">\n",
       "  <thead>\n",
       "    <tr style=\"text-align: right;\">\n",
       "      <th></th>\n",
       "      <th>title</th>\n",
       "      <th>year</th>\n",
       "      <th>genre</th>\n",
       "      <th>duration</th>\n",
       "      <th>country</th>\n",
       "      <th>description</th>\n",
       "      <th>avg_vote</th>\n",
       "      <th>votes</th>\n",
       "      <th>time</th>\n",
       "      <th>length</th>\n",
       "    </tr>\n",
       "  </thead>\n",
       "  <tbody>\n",
       "    <tr>\n",
       "      <th>4</th>\n",
       "      <td>L'Inferno</td>\n",
       "      <td>1911</td>\n",
       "      <td>Adventure, Drama, Fantasy</td>\n",
       "      <td>68</td>\n",
       "      <td>Italy</td>\n",
       "      <td>Loosely adapted from Dante's Divine Comedy and...</td>\n",
       "      <td>7.0</td>\n",
       "      <td>2237</td>\n",
       "      <td>Classic</td>\n",
       "      <td>Short</td>\n",
       "    </tr>\n",
       "    <tr>\n",
       "      <th>11</th>\n",
       "      <td>Fantômas - À l'ombre de la guillotine</td>\n",
       "      <td>1913</td>\n",
       "      <td>Crime, Drama</td>\n",
       "      <td>54</td>\n",
       "      <td>France</td>\n",
       "      <td>Inspector Juve is tasked to investigate and ca...</td>\n",
       "      <td>7.0</td>\n",
       "      <td>1944</td>\n",
       "      <td>Classic</td>\n",
       "      <td>Short</td>\n",
       "    </tr>\n",
       "    <tr>\n",
       "      <th>13</th>\n",
       "      <td>Juve contre Fantômas</td>\n",
       "      <td>1913</td>\n",
       "      <td>Crime, Drama</td>\n",
       "      <td>61</td>\n",
       "      <td>France</td>\n",
       "      <td>In Part Two of Louis Feuillade's 5 1/2-hour ep...</td>\n",
       "      <td>7.0</td>\n",
       "      <td>1349</td>\n",
       "      <td>Classic</td>\n",
       "      <td>Short</td>\n",
       "    </tr>\n",
       "    <tr>\n",
       "      <th>16</th>\n",
       "      <td>Le mort qui tue</td>\n",
       "      <td>1913</td>\n",
       "      <td>Crime, Drama, Mystery</td>\n",
       "      <td>90</td>\n",
       "      <td>France</td>\n",
       "      <td>After a body disappears from inside the prison...</td>\n",
       "      <td>7.0</td>\n",
       "      <td>1050</td>\n",
       "      <td>Classic</td>\n",
       "      <td>Short</td>\n",
       "    </tr>\n",
       "    <tr>\n",
       "      <th>18</th>\n",
       "      <td>Lo studente di Praga</td>\n",
       "      <td>1913</td>\n",
       "      <td>Drama, Fantasy, Horror</td>\n",
       "      <td>85</td>\n",
       "      <td>Germany</td>\n",
       "      <td>Balduin, a student of Prague, leaves his royst...</td>\n",
       "      <td>6.5</td>\n",
       "      <td>1768</td>\n",
       "      <td>Classic</td>\n",
       "      <td>Short</td>\n",
       "    </tr>\n",
       "  </tbody>\n",
       "</table>\n",
       "</div>"
      ],
      "text/plain": [
       "                                    title  year                      genre  \\\n",
       "4                               L'Inferno  1911  Adventure, Drama, Fantasy   \n",
       "11  Fantômas - À l'ombre de la guillotine  1913               Crime, Drama   \n",
       "13                   Juve contre Fantômas  1913               Crime, Drama   \n",
       "16                        Le mort qui tue  1913      Crime, Drama, Mystery   \n",
       "18                   Lo studente di Praga  1913     Drama, Fantasy, Horror   \n",
       "\n",
       "    duration  country                                        description  \\\n",
       "4         68    Italy  Loosely adapted from Dante's Divine Comedy and...   \n",
       "11        54   France  Inspector Juve is tasked to investigate and ca...   \n",
       "13        61   France  In Part Two of Louis Feuillade's 5 1/2-hour ep...   \n",
       "16        90   France  After a body disappears from inside the prison...   \n",
       "18        85  Germany  Balduin, a student of Prague, leaves his royst...   \n",
       "\n",
       "    avg_vote  votes     time length  \n",
       "4        7.0   2237  Classic  Short  \n",
       "11       7.0   1944  Classic  Short  \n",
       "13       7.0   1349  Classic  Short  \n",
       "16       7.0   1050  Classic  Short  \n",
       "18       6.5   1768  Classic  Short  "
      ]
     },
     "execution_count": 202,
     "metadata": {},
     "output_type": "execute_result"
    }
   ],
   "source": [
    "df.head()"
   ]
  },
  {
   "cell_type": "code",
   "execution_count": 203,
   "id": "appreciated-excess",
   "metadata": {},
   "outputs": [
    {
     "data": {
      "text/plain": [
       "count      29374.000000\n",
       "mean       27087.164533\n",
       "std        88986.925090\n",
       "min         1000.000000\n",
       "25%         1686.250000\n",
       "50%         3564.000000\n",
       "75%        13139.500000\n",
       "max      2278845.000000\n",
       "Name: votes, dtype: object"
      ]
     },
     "execution_count": 203,
     "metadata": {},
     "output_type": "execute_result"
    }
   ],
   "source": [
    "df.votes.describe().apply(lambda x: format(x, 'f'))"
   ]
  },
  {
   "cell_type": "code",
   "execution_count": 204,
   "id": "explicit-color",
   "metadata": {},
   "outputs": [],
   "source": [
    "# Decimos que menos de 3000 votos la película no es conocida. Entre 3000 y 15000 normal. y por encima de 15000 votos\n",
    "# la película es conocida\n",
    "def film_known(votes):\n",
    "    if(votes <= 3000):\n",
    "        return 'Unknown'\n",
    "    elif votes < 15000:\n",
    "        return 'Normal'\n",
    "    else:\n",
    "        return 'Known'\n",
    "    \n",
    "df['known'] = df.votes.apply(film_known)"
   ]
  },
  {
   "cell_type": "code",
   "execution_count": 205,
   "id": "superb-haiti",
   "metadata": {},
   "outputs": [
    {
     "data": {
      "text/html": [
       "<div>\n",
       "<style scoped>\n",
       "    .dataframe tbody tr th:only-of-type {\n",
       "        vertical-align: middle;\n",
       "    }\n",
       "\n",
       "    .dataframe tbody tr th {\n",
       "        vertical-align: top;\n",
       "    }\n",
       "\n",
       "    .dataframe thead th {\n",
       "        text-align: right;\n",
       "    }\n",
       "</style>\n",
       "<table border=\"1\" class=\"dataframe\">\n",
       "  <thead>\n",
       "    <tr style=\"text-align: right;\">\n",
       "      <th></th>\n",
       "      <th>title</th>\n",
       "      <th>year</th>\n",
       "      <th>genre</th>\n",
       "      <th>duration</th>\n",
       "      <th>country</th>\n",
       "      <th>description</th>\n",
       "      <th>avg_vote</th>\n",
       "      <th>votes</th>\n",
       "      <th>time</th>\n",
       "      <th>length</th>\n",
       "      <th>known</th>\n",
       "    </tr>\n",
       "  </thead>\n",
       "  <tbody>\n",
       "    <tr>\n",
       "      <th>4</th>\n",
       "      <td>L'Inferno</td>\n",
       "      <td>1911</td>\n",
       "      <td>Adventure, Drama, Fantasy</td>\n",
       "      <td>68</td>\n",
       "      <td>Italy</td>\n",
       "      <td>Loosely adapted from Dante's Divine Comedy and...</td>\n",
       "      <td>7.0</td>\n",
       "      <td>2237</td>\n",
       "      <td>Classic</td>\n",
       "      <td>Short</td>\n",
       "      <td>Unknown</td>\n",
       "    </tr>\n",
       "    <tr>\n",
       "      <th>11</th>\n",
       "      <td>Fantômas - À l'ombre de la guillotine</td>\n",
       "      <td>1913</td>\n",
       "      <td>Crime, Drama</td>\n",
       "      <td>54</td>\n",
       "      <td>France</td>\n",
       "      <td>Inspector Juve is tasked to investigate and ca...</td>\n",
       "      <td>7.0</td>\n",
       "      <td>1944</td>\n",
       "      <td>Classic</td>\n",
       "      <td>Short</td>\n",
       "      <td>Unknown</td>\n",
       "    </tr>\n",
       "    <tr>\n",
       "      <th>13</th>\n",
       "      <td>Juve contre Fantômas</td>\n",
       "      <td>1913</td>\n",
       "      <td>Crime, Drama</td>\n",
       "      <td>61</td>\n",
       "      <td>France</td>\n",
       "      <td>In Part Two of Louis Feuillade's 5 1/2-hour ep...</td>\n",
       "      <td>7.0</td>\n",
       "      <td>1349</td>\n",
       "      <td>Classic</td>\n",
       "      <td>Short</td>\n",
       "      <td>Unknown</td>\n",
       "    </tr>\n",
       "    <tr>\n",
       "      <th>16</th>\n",
       "      <td>Le mort qui tue</td>\n",
       "      <td>1913</td>\n",
       "      <td>Crime, Drama, Mystery</td>\n",
       "      <td>90</td>\n",
       "      <td>France</td>\n",
       "      <td>After a body disappears from inside the prison...</td>\n",
       "      <td>7.0</td>\n",
       "      <td>1050</td>\n",
       "      <td>Classic</td>\n",
       "      <td>Short</td>\n",
       "      <td>Unknown</td>\n",
       "    </tr>\n",
       "    <tr>\n",
       "      <th>18</th>\n",
       "      <td>Lo studente di Praga</td>\n",
       "      <td>1913</td>\n",
       "      <td>Drama, Fantasy, Horror</td>\n",
       "      <td>85</td>\n",
       "      <td>Germany</td>\n",
       "      <td>Balduin, a student of Prague, leaves his royst...</td>\n",
       "      <td>6.5</td>\n",
       "      <td>1768</td>\n",
       "      <td>Classic</td>\n",
       "      <td>Short</td>\n",
       "      <td>Unknown</td>\n",
       "    </tr>\n",
       "  </tbody>\n",
       "</table>\n",
       "</div>"
      ],
      "text/plain": [
       "                                    title  year                      genre  \\\n",
       "4                               L'Inferno  1911  Adventure, Drama, Fantasy   \n",
       "11  Fantômas - À l'ombre de la guillotine  1913               Crime, Drama   \n",
       "13                   Juve contre Fantômas  1913               Crime, Drama   \n",
       "16                        Le mort qui tue  1913      Crime, Drama, Mystery   \n",
       "18                   Lo studente di Praga  1913     Drama, Fantasy, Horror   \n",
       "\n",
       "    duration  country                                        description  \\\n",
       "4         68    Italy  Loosely adapted from Dante's Divine Comedy and...   \n",
       "11        54   France  Inspector Juve is tasked to investigate and ca...   \n",
       "13        61   France  In Part Two of Louis Feuillade's 5 1/2-hour ep...   \n",
       "16        90   France  After a body disappears from inside the prison...   \n",
       "18        85  Germany  Balduin, a student of Prague, leaves his royst...   \n",
       "\n",
       "    avg_vote  votes     time length    known  \n",
       "4        7.0   2237  Classic  Short  Unknown  \n",
       "11       7.0   1944  Classic  Short  Unknown  \n",
       "13       7.0   1349  Classic  Short  Unknown  \n",
       "16       7.0   1050  Classic  Short  Unknown  \n",
       "18       6.5   1768  Classic  Short  Unknown  "
      ]
     },
     "execution_count": 205,
     "metadata": {},
     "output_type": "execute_result"
    }
   ],
   "source": [
    "df.head()"
   ]
  },
  {
   "cell_type": "code",
   "execution_count": 206,
   "id": "fiscal-elephant",
   "metadata": {},
   "outputs": [
    {
     "data": {
      "text/html": [
       "<div>\n",
       "<style scoped>\n",
       "    .dataframe tbody tr th:only-of-type {\n",
       "        vertical-align: middle;\n",
       "    }\n",
       "\n",
       "    .dataframe tbody tr th {\n",
       "        vertical-align: top;\n",
       "    }\n",
       "\n",
       "    .dataframe thead th {\n",
       "        text-align: right;\n",
       "    }\n",
       "</style>\n",
       "<table border=\"1\" class=\"dataframe\">\n",
       "  <thead>\n",
       "    <tr style=\"text-align: right;\">\n",
       "      <th></th>\n",
       "      <th>title</th>\n",
       "      <th>year</th>\n",
       "      <th>genre</th>\n",
       "      <th>duration</th>\n",
       "      <th>country</th>\n",
       "      <th>description</th>\n",
       "      <th>avg_vote</th>\n",
       "      <th>votes</th>\n",
       "      <th>time</th>\n",
       "      <th>length</th>\n",
       "      <th>known</th>\n",
       "    </tr>\n",
       "  </thead>\n",
       "  <tbody>\n",
       "    <tr>\n",
       "      <th>4</th>\n",
       "      <td>L'Inferno</td>\n",
       "      <td>1911</td>\n",
       "      <td>Adventure, Drama, Fantasy</td>\n",
       "      <td>68</td>\n",
       "      <td>Italy</td>\n",
       "      <td>Loosely adapted from Dante's Divine Comedy and...</td>\n",
       "      <td>7.0</td>\n",
       "      <td>2237</td>\n",
       "      <td>Classic</td>\n",
       "      <td>Short</td>\n",
       "      <td>Unknown</td>\n",
       "    </tr>\n",
       "    <tr>\n",
       "      <th>11</th>\n",
       "      <td>Fantômas - À l'ombre de la guillotine</td>\n",
       "      <td>1913</td>\n",
       "      <td>Crime, Drama</td>\n",
       "      <td>54</td>\n",
       "      <td>France</td>\n",
       "      <td>Inspector Juve is tasked to investigate and ca...</td>\n",
       "      <td>7.0</td>\n",
       "      <td>1944</td>\n",
       "      <td>Classic</td>\n",
       "      <td>Short</td>\n",
       "      <td>Unknown</td>\n",
       "    </tr>\n",
       "    <tr>\n",
       "      <th>13</th>\n",
       "      <td>Juve contre Fantômas</td>\n",
       "      <td>1913</td>\n",
       "      <td>Crime, Drama</td>\n",
       "      <td>61</td>\n",
       "      <td>France</td>\n",
       "      <td>In Part Two of Louis Feuillade's 5 1/2-hour ep...</td>\n",
       "      <td>7.0</td>\n",
       "      <td>1349</td>\n",
       "      <td>Classic</td>\n",
       "      <td>Short</td>\n",
       "      <td>Unknown</td>\n",
       "    </tr>\n",
       "    <tr>\n",
       "      <th>16</th>\n",
       "      <td>Le mort qui tue</td>\n",
       "      <td>1913</td>\n",
       "      <td>Crime, Drama, Mystery</td>\n",
       "      <td>90</td>\n",
       "      <td>France</td>\n",
       "      <td>After a body disappears from inside the prison...</td>\n",
       "      <td>7.0</td>\n",
       "      <td>1050</td>\n",
       "      <td>Classic</td>\n",
       "      <td>Short</td>\n",
       "      <td>Unknown</td>\n",
       "    </tr>\n",
       "    <tr>\n",
       "      <th>18</th>\n",
       "      <td>Lo studente di Praga</td>\n",
       "      <td>1913</td>\n",
       "      <td>Drama, Fantasy, Horror</td>\n",
       "      <td>85</td>\n",
       "      <td>Germany</td>\n",
       "      <td>Balduin, a student of Prague, leaves his royst...</td>\n",
       "      <td>6.5</td>\n",
       "      <td>1768</td>\n",
       "      <td>Classic</td>\n",
       "      <td>Short</td>\n",
       "      <td>Unknown</td>\n",
       "    </tr>\n",
       "    <tr>\n",
       "      <th>22</th>\n",
       "      <td>The Avenging Conscience: or 'Thou Shalt Not Kill'</td>\n",
       "      <td>1914</td>\n",
       "      <td>Crime, Drama, Horror</td>\n",
       "      <td>78</td>\n",
       "      <td>USA</td>\n",
       "      <td>Prevented from dating his sweetheart by his un...</td>\n",
       "      <td>6.4</td>\n",
       "      <td>1105</td>\n",
       "      <td>Classic</td>\n",
       "      <td>Short</td>\n",
       "      <td>Unknown</td>\n",
       "    </tr>\n",
       "    <tr>\n",
       "      <th>24</th>\n",
       "      <td>Cabiria</td>\n",
       "      <td>1914</td>\n",
       "      <td>Adventure, Drama, History</td>\n",
       "      <td>148</td>\n",
       "      <td>Italy</td>\n",
       "      <td>Cabiria is a Roman child when her home is dest...</td>\n",
       "      <td>7.1</td>\n",
       "      <td>3073</td>\n",
       "      <td>Classic</td>\n",
       "      <td>Long</td>\n",
       "      <td>Normal</td>\n",
       "    </tr>\n",
       "    <tr>\n",
       "      <th>27</th>\n",
       "      <td>Fantômas contre Fantômas</td>\n",
       "      <td>1914</td>\n",
       "      <td>Crime, Drama</td>\n",
       "      <td>59</td>\n",
       "      <td>France</td>\n",
       "      <td>The mystery of the drama is the appearance of ...</td>\n",
       "      <td>6.9</td>\n",
       "      <td>1161</td>\n",
       "      <td>Classic</td>\n",
       "      <td>Short</td>\n",
       "      <td>Unknown</td>\n",
       "    </tr>\n",
       "    <tr>\n",
       "      <th>29</th>\n",
       "      <td>Der Golem</td>\n",
       "      <td>1915</td>\n",
       "      <td>Horror</td>\n",
       "      <td>60</td>\n",
       "      <td>Germany</td>\n",
       "      <td>In this version of the golem legend, the golem...</td>\n",
       "      <td>6.8</td>\n",
       "      <td>1040</td>\n",
       "      <td>Classic</td>\n",
       "      <td>Short</td>\n",
       "      <td>Unknown</td>\n",
       "    </tr>\n",
       "    <tr>\n",
       "      <th>34</th>\n",
       "      <td>Judith of Bethulia</td>\n",
       "      <td>1914</td>\n",
       "      <td>Drama</td>\n",
       "      <td>61</td>\n",
       "      <td>USA</td>\n",
       "      <td>A religious woman seeks to save her people fro...</td>\n",
       "      <td>6.1</td>\n",
       "      <td>1239</td>\n",
       "      <td>Classic</td>\n",
       "      <td>Short</td>\n",
       "      <td>Unknown</td>\n",
       "    </tr>\n",
       "  </tbody>\n",
       "</table>\n",
       "</div>"
      ],
      "text/plain": [
       "                                                title  year  \\\n",
       "4                                           L'Inferno  1911   \n",
       "11              Fantômas - À l'ombre de la guillotine  1913   \n",
       "13                               Juve contre Fantômas  1913   \n",
       "16                                    Le mort qui tue  1913   \n",
       "18                               Lo studente di Praga  1913   \n",
       "22  The Avenging Conscience: or 'Thou Shalt Not Kill'  1914   \n",
       "24                                            Cabiria  1914   \n",
       "27                           Fantômas contre Fantômas  1914   \n",
       "29                                          Der Golem  1915   \n",
       "34                                 Judith of Bethulia  1914   \n",
       "\n",
       "                        genre  duration  country  \\\n",
       "4   Adventure, Drama, Fantasy        68    Italy   \n",
       "11               Crime, Drama        54   France   \n",
       "13               Crime, Drama        61   France   \n",
       "16      Crime, Drama, Mystery        90   France   \n",
       "18     Drama, Fantasy, Horror        85  Germany   \n",
       "22       Crime, Drama, Horror        78      USA   \n",
       "24  Adventure, Drama, History       148    Italy   \n",
       "27               Crime, Drama        59   France   \n",
       "29                     Horror        60  Germany   \n",
       "34                      Drama        61      USA   \n",
       "\n",
       "                                          description  avg_vote  votes  \\\n",
       "4   Loosely adapted from Dante's Divine Comedy and...       7.0   2237   \n",
       "11  Inspector Juve is tasked to investigate and ca...       7.0   1944   \n",
       "13  In Part Two of Louis Feuillade's 5 1/2-hour ep...       7.0   1349   \n",
       "16  After a body disappears from inside the prison...       7.0   1050   \n",
       "18  Balduin, a student of Prague, leaves his royst...       6.5   1768   \n",
       "22  Prevented from dating his sweetheart by his un...       6.4   1105   \n",
       "24  Cabiria is a Roman child when her home is dest...       7.1   3073   \n",
       "27  The mystery of the drama is the appearance of ...       6.9   1161   \n",
       "29  In this version of the golem legend, the golem...       6.8   1040   \n",
       "34  A religious woman seeks to save her people fro...       6.1   1239   \n",
       "\n",
       "       time length    known  \n",
       "4   Classic  Short  Unknown  \n",
       "11  Classic  Short  Unknown  \n",
       "13  Classic  Short  Unknown  \n",
       "16  Classic  Short  Unknown  \n",
       "18  Classic  Short  Unknown  \n",
       "22  Classic  Short  Unknown  \n",
       "24  Classic   Long   Normal  \n",
       "27  Classic  Short  Unknown  \n",
       "29  Classic  Short  Unknown  \n",
       "34  Classic  Short  Unknown  "
      ]
     },
     "execution_count": 206,
     "metadata": {},
     "output_type": "execute_result"
    }
   ],
   "source": [
    "df.head(10)"
   ]
  },
  {
   "cell_type": "markdown",
   "id": "supposed-cement",
   "metadata": {},
   "source": [
    "Guardamos el dataset con las nuevas columnas en un fichero csv\n"
   ]
  },
  {
   "cell_type": "code",
   "execution_count": 207,
   "id": "elder-adapter",
   "metadata": {},
   "outputs": [],
   "source": [
    "df.to_csv('./data/movies_new_columns.csv', header=True, index=False)"
   ]
  },
  {
   "cell_type": "code",
   "execution_count": 208,
   "id": "creative-documentary",
   "metadata": {},
   "outputs": [
    {
     "data": {
      "text/html": [
       "<div>\n",
       "<style scoped>\n",
       "    .dataframe tbody tr th:only-of-type {\n",
       "        vertical-align: middle;\n",
       "    }\n",
       "\n",
       "    .dataframe tbody tr th {\n",
       "        vertical-align: top;\n",
       "    }\n",
       "\n",
       "    .dataframe thead th {\n",
       "        text-align: right;\n",
       "    }\n",
       "</style>\n",
       "<table border=\"1\" class=\"dataframe\">\n",
       "  <thead>\n",
       "    <tr style=\"text-align: right;\">\n",
       "      <th></th>\n",
       "      <th>title</th>\n",
       "      <th>year</th>\n",
       "      <th>genre</th>\n",
       "      <th>duration</th>\n",
       "      <th>country</th>\n",
       "      <th>description</th>\n",
       "      <th>avg_vote</th>\n",
       "      <th>votes</th>\n",
       "      <th>time</th>\n",
       "      <th>length</th>\n",
       "      <th>known</th>\n",
       "    </tr>\n",
       "  </thead>\n",
       "  <tbody>\n",
       "    <tr>\n",
       "      <th>57475</th>\n",
       "      <td>Inception</td>\n",
       "      <td>2010</td>\n",
       "      <td>Action, Adventure, Sci-Fi</td>\n",
       "      <td>148</td>\n",
       "      <td>USA, UK</td>\n",
       "      <td>A thief who steals corporate secrets through t...</td>\n",
       "      <td>8.8</td>\n",
       "      <td>2002816</td>\n",
       "      <td>Current</td>\n",
       "      <td>Long</td>\n",
       "      <td>Known</td>\n",
       "    </tr>\n",
       "  </tbody>\n",
       "</table>\n",
       "</div>"
      ],
      "text/plain": [
       "           title  year                      genre  duration  country  \\\n",
       "57475  Inception  2010  Action, Adventure, Sci-Fi       148  USA, UK   \n",
       "\n",
       "                                             description  avg_vote    votes  \\\n",
       "57475  A thief who steals corporate secrets through t...       8.8  2002816   \n",
       "\n",
       "          time length  known  \n",
       "57475  Current   Long  Known  "
      ]
     },
     "execution_count": 208,
     "metadata": {},
     "output_type": "execute_result"
    }
   ],
   "source": [
    "df[df.title == 'Inception']"
   ]
  },
  {
   "cell_type": "code",
   "execution_count": null,
   "id": "certain-college",
   "metadata": {},
   "outputs": [],
   "source": []
  }
 ],
 "metadata": {
  "kernelspec": {
   "display_name": "Python 3",
   "language": "python",
   "name": "python3"
  },
  "language_info": {
   "codemirror_mode": {
    "name": "ipython",
    "version": 3
   },
   "file_extension": ".py",
   "mimetype": "text/x-python",
   "name": "python",
   "nbconvert_exporter": "python",
   "pygments_lexer": "ipython3",
   "version": "3.8.5"
  }
 },
 "nbformat": 4,
 "nbformat_minor": 5
}
